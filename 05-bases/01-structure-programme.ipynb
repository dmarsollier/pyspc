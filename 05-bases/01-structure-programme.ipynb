{
 "cells": [
  {
   "cell_type": "markdown",
   "metadata": {},
   "source": [
    "# La structure d'un programme\n",
    "(code sous licence creative commun CC BY-NC-SA BY Alexis Dendiével)\n"
   ]
  },
  {
   "cell_type": "raw",
   "metadata": {
    "raw_mimetype": "text/restructuredtext"
   },
   "source": [
    ":download:`Télécharger le pdf <https://gitlab.com/pyspc/pyspc/raw/master/05-bases/01-structure-programme.pdf>`\n",
    "\n",
    ":download:`Télécharger le notebook <https://gitlab.com/pyspc/pyspc/raw/master/05-bases/01-structure-programme.ipynb>`\n",
    "\n",
    ":download:`Lancer le notebook sur binder (lent) <https://mybinder.org/v2/gl/pyspc%2Fpyspc/master?filepath=05-bases%2F01-structure-programme.ipynb>`"
   ]
  },
  {
   "cell_type": "markdown",
   "metadata": {},
   "source": [
    "## Structure général d'un programme\n",
    "\n",
    "elle correspond pour un programme simple au déroulé suivant\n",
    "\n",
    "- importation des bibliothèques\n",
    "- définition des constantes, des fonctions\n",
    "- appel des entrées\n",
    "- corps de programme\n",
    "- affichage des résultats.\n",
    "\n",
    "## L'importance du commentaire\n",
    "Les commentaires dans un programme sont d'une importance capitale. ils servent:\n",
    "- à l'auteur du programme \n",
    "- au lecteur du programme\n",
    "- à celui qui souhaite modifier le programme.\n",
    "\n",
    "Sans aucun impact sur l'execusion, ils gagnent à être le plus précis possible."
   ]
  },
  {
   "cell_type": "code",
   "execution_count": 1,
   "metadata": {},
   "outputs": [],
   "source": [
    "# ceci est un commentaire de programme"
   ]
  },
  {
   "cell_type": "markdown",
   "metadata": {},
   "source": [
    "Tout ce qui est précédé du signe # dans un programme est un commentaire. Voyons ceci sur un exemple:\n",
    "   \n",
    "   le programme suivant, calculant la force de gravitation entre deux masses m1 et m2 séparées d'une distance d, est donnée en version brute et en version commentée:"
   ]
  },
  {
   "cell_type": "code",
   "execution_count": 2,
   "metadata": {},
   "outputs": [
    {
     "name": "stdout",
     "output_type": "stream",
     "text": [
      "nous nous nous proposons de calculer la force de gravitation s'exerçant entre deux masses m1 et m2 séparées d'une distance d\n",
      "masse m1 : 5.00e+01 kg\n",
      "masse m2 : 7.05e+01 kg\n",
      "masse d : 2.50e+00 m\n",
      "==> la valeur de la force de gravitation est: 3.76e-08 N\n"
     ]
    }
   ],
   "source": [
    "G = 6.67e-11\n",
    "print(\"nous nous nous proposons de calculer la force de gravitation \"\n",
    "      \"s'exerçant entre deux masses m1 et m2 séparées d'une distance d\")\n",
    "# Masse m1 en kg\n",
    "m1 = 50\n",
    "# Masse m2 en kg\n",
    "m2 = 70.5\n",
    "# Distance d en mètres\n",
    "d = 2.5\n",
    "FG = G*m1*m2/d**2\n",
    "print(\"masse m1 : {0:.2e} kg\".format(m1))\n",
    "print(\"masse m2 : {0:.2e} kg\".format(m2))\n",
    "print(\"masse d : {0:.2e} m\".format(d))\n",
    "print(\"==> la valeur de la force de gravitation est: {0:.2e} N\".format(FG))"
   ]
  },
  {
   "cell_type": "markdown",
   "metadata": {},
   "source": [
    "Nous voyons dans cet exemple simple que la lecture du programme est beaucoup plus aisée avec les commentaires. De plus, le saut d'une ligne n'a aucun impact sur la programmation, et permet une plus grande lisibilité. \n",
    "\n",
    "Il est donc fortement recommandée de prendre le temps de commenter ses programmes.\n",
    "\n",
    "(Il en sera d'ailleurs de même pour les fonctions)"
   ]
  },
  {
   "cell_type": "markdown",
   "metadata": {},
   "source": [
    "## Les noms de variable\n",
    "Rien ni personne n'oblige à utiliser tel ou tel nom de variable dans python. La variable n'a pas à être défini au début du programme, elle pointe sur un objet et en présente les caractéristiques; en revanche, il est obligatoire d'avoir assigné une valeur à une variable **avant** de l'utiliser.\n",
    "\n",
    "Il est cependant fortement recommandé d'utiliser des noms de variables donnant sens au programme, pour plus de clarté envers les personnes susceptibles de le lire ou de le modifier. exemples:\n",
    "\n",
    "- \"atome\" plutôt que \"a\"\n",
    "- \"forcedegravitation\" plutôt que \"f\"\n",
    "- \"temps\" plutôt que \"t\"\n",
    "...\n",
    "\n",
    "Une variable peut être écrite en majuscule ou minuscules, voire même avec des accents, mais les bonnes pratiques incitent plus à utiliser des minuscules pour les variables, sans accents, et en séparant les mots par des \"underscore\""
   ]
  },
  {
   "cell_type": "code",
   "execution_count": 3,
   "metadata": {},
   "outputs": [],
   "source": [
    "élément=12 # mal\n",
    "element=12 # bien\n",
    "Numéroatomique=12 # mal\n",
    "numero_atomique=12 # bien"
   ]
  },
  {
   "cell_type": "code",
   "execution_count": 5,
   "metadata": {},
   "outputs": [
    {
     "ename": "SyntaxError",
     "evalue": "invalid syntax (<ipython-input-5-c80d00387f69>, line 2)",
     "output_type": "error",
     "traceback": [
      "\u001b[0;36m  File \u001b[0;32m\"<ipython-input-5-c80d00387f69>\"\u001b[0;36m, line \u001b[0;32m2\u001b[0m\n\u001b[0;31m    numero atomique=12\u001b[0m\n\u001b[0m                  ^\u001b[0m\n\u001b[0;31mSyntaxError\u001b[0m\u001b[0;31m:\u001b[0m invalid syntax\n"
     ]
    }
   ],
   "source": [
    "# très mal (pas possible, en fait)\n",
    "numero atomique=12 "
   ]
  },
  {
   "cell_type": "markdown",
   "metadata": {},
   "source": [
    "## L'importance de l'indentation\n",
    "Un programme python n'a pas de code pour le début et la fin d'une séquence d'instructions. Sa structuration suit une indentation (espaces en début de ligne) qui définit la structuration du programme.\n",
    "\n",
    "le \":\" après les instructions tabule automatiquement la ligne suivante.\n",
    "\n",
    "Pour une instruction else suivant un if par exemple, il faut revenir en arrière afin que la structure soit correcte et lisible."
   ]
  },
  {
   "cell_type": "code",
   "execution_count": 6,
   "metadata": {},
   "outputs": [
    {
     "name": "stdout",
     "output_type": "stream",
     "text": [
      "n est plus petit ou égal à 5\n"
     ]
    }
   ],
   "source": [
    "n = 3\n",
    "if n>5:\n",
    "    print(\"n est plus grand que 5\")\n",
    "else:\n",
    "    print(\"n est plus petit ou égal à 5\")"
   ]
  },
  {
   "cell_type": "markdown",
   "metadata": {},
   "source": [
    "Cette règle d'écriture structure le programme et demande de la rigueur. Il est par ailleurs fortement conseillé de ne pas faire des lignes de code trop grandes. Si celle-ci est importante, un passage à la ligne en milieu d'instruction donnera davantage de lisibilité au programme."
   ]
  },
  {
   "cell_type": "markdown",
   "metadata": {},
   "source": [
    "## Quelques bibliothèques en python\n",
    "Même si la bibliothèque standard python est bien développée, certaines bibliothèques sont bien utiles:\n",
    "### numpy\n",
    "C'est une bibliothèque très utile pour les calculs numériques."
   ]
  },
  {
   "cell_type": "code",
   "execution_count": 7,
   "metadata": {},
   "outputs": [],
   "source": [
    "# importation de la bibliothèque numpy\n",
    "import numpy as np"
   ]
  },
  {
   "cell_type": "markdown",
   "metadata": {},
   "source": [
    "La bibliothèque de calcul, dont vous trouverez facilement les utilisations sur le net, est ici importée en début de programme sous le nom np."
   ]
  },
  {
   "cell_type": "code",
   "execution_count": 8,
   "metadata": {},
   "outputs": [
    {
     "name": "stdout",
     "output_type": "stream",
     "text": [
      "3.141592653589793\n",
      "0.7071067811865475\n",
      "0.7071067811865476\n"
     ]
    }
   ],
   "source": [
    "# quelques exemples de calcul\n",
    "print(np.pi)\n",
    "print (np.sin(np.pi/4))\n",
    "print (np.cos(np.pi/4))"
   ]
  },
  {
   "cell_type": "markdown",
   "metadata": {},
   "source": [
    "### matplotlib\n",
    "C'est une bibliothèque permettant de faire facilement des graphiques."
   ]
  },
  {
   "cell_type": "code",
   "execution_count": 10,
   "metadata": {},
   "outputs": [
    {
     "data": {
      "image/png": "[encoded data removed]",
      "text/plain": [
       "<Figure size 432x288 with 1 Axes>"
      ]
     },
     "metadata": {
      "needs_background": "light"
     },
     "output_type": "display_data"
    }
   ],
   "source": [
    "# programme de tracé simple avec des valeurs d'abscisse et d'ordonnée\n",
    "\n",
    "# importation de la bibliothèque matplotlib\n",
    "import matplotlib.pyplot as plt\n",
    "\n",
    "# initialisation des données\n",
    "x = (0,1,2,3,4,5)\n",
    "y = (2.1, 3.3, 4.2, 5.1, 6.3, 7.2)\n",
    "\n",
    "# affichage\n",
    "plt.plot(x, y)\n",
    "plt.grid()\n",
    "plt.xlabel(\"abscisse\")\n",
    "plt.ylabel(\"ordonnée\")\n",
    "plt.show()\n",
    "plt.close()"
   ]
  },
  {
   "cell_type": "markdown",
   "metadata": {},
   "source": [
    "### math\n",
    "C'est une bibliothèque qui permet de faire facilement les calculs mathématiques"
   ]
  },
  {
   "cell_type": "code",
   "execution_count": 11,
   "metadata": {},
   "outputs": [
    {
     "name": "stdout",
     "output_type": "stream",
     "text": [
      "-1.0\n",
      "2.23606797749979\n",
      "la valeur approchée du nombre d'or est 1.618033988749895\n"
     ]
    }
   ],
   "source": [
    "# importation de la bibliothèque math\n",
    "import math as math\n",
    "\n",
    "# quelques exemples\n",
    "print (math.cos(math.pi))\n",
    "print (math.sqrt(5))\n",
    "print (\"la valeur approchée du nombre d'or est\", (1+math.sqrt(5))/2)"
   ]
  },
  {
   "cell_type": "markdown",
   "metadata": {},
   "source": [
    "### random\n",
    "C'est une bibliothèque permettant de créer des nombres aléatoires"
   ]
  },
  {
   "cell_type": "code",
   "execution_count": 12,
   "metadata": {},
   "outputs": [
    {
     "name": "stdout",
     "output_type": "stream",
     "text": [
      "81\n",
      "93\n",
      "52\n",
      "72\n",
      "94\n"
     ]
    }
   ],
   "source": [
    "# importation de la bibliothèque random\n",
    "import random as rd\n",
    "\n",
    "# impression de 5 nombres aléatoires compris entre 1 et 100\n",
    "for i in range (5):\n",
    "    print(rd.randint(1,100))"
   ]
  },
  {
   "cell_type": "markdown",
   "metadata": {},
   "source": [
    "### turtle\n",
    "Cette bibliothèque permet de tracer des graphiques en suivant la \"tortue. (Cette bibliothèque & cet exemple ne fonctionnent pas sur un environnement jupyter en ligne)\n"
   ]
  },
  {
   "cell_type": "code",
   "execution_count": null,
   "metadata": {},
   "outputs": [],
   "source": [
    "# importation de la bibliothèque\n",
    "import turtle as tu\n",
    "\n",
    "tu.reset()\n",
    "tu.speed(1)\n",
    "for i in range(6):\n",
    "  tu.fd(100)\n",
    "  tu.rt(360/6)"
   ]
  },
  {
   "cell_type": "markdown",
   "metadata": {},
   "source": [
    "liste non exaustive des fonctions turtle\n",
    "\n",
    "- fd(n)\tavance de n\n",
    "- bk(n)\trecule de n\n",
    "- rt(n)\ttourne à droite de n degrés\n",
    "- lt(n)\ttourne à gauche de n degrés\n",
    "- clear()\tefface l'écran\n",
    "- penup()\tlève le stylo\n",
    "- pendown()\tbaisse le stylo\n",
    "- reset()\tefface l'écran, remet la tortue au centre et réinitialise ses paramètres\n",
    "- showturtle()\tmontre la tortue\n",
    "- hideturtle()\tcache la tortue\n",
    "- speed(n)\tChange la vitesse de 1(lent) à 10 (rapide). La valeur spéciale 0 est la plus rapide.\n",
    "- tracer(n,d)\t\n",
    "- update()\tForce l'affichage des graphismes en attente\n",
    "- bye()\tReferme la fenêtre\n",
    "- setup(w,h)\tOuvre une fenêtre de taille wxh"
   ]
  },
  {
   "cell_type": "markdown",
   "metadata": {},
   "source": [
    "## Conclusion\n",
    "Ce notebook donne les premiers conseils afin de structurer un programme python. Ce qu'il faut retenir, c'est la recherche de la clarté tant dans le code que dans les commentaires. "
   ]
  }
 ],
 "metadata": {
  "celltoolbar": "Format de la Cellule Texte Brut",
  "kernelspec": {
   "display_name": "Python 3",
   "language": "python",
   "name": "python3"
  },
  "language_info": {
   "codemirror_mode": {
    "name": "ipython",
    "version": 3
   },
   "file_extension": ".py",
   "mimetype": "text/x-python",
   "name": "python",
   "nbconvert_exporter": "python",
   "pygments_lexer": "ipython3",
   "version": "3.7.2"
  }
 },
 "nbformat": 4,
 "nbformat_minor": 2
}

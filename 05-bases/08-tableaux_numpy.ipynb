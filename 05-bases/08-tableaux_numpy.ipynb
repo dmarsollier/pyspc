{
 "cells": [
  {
   "cell_type": "markdown",
   "metadata": {},
   "source": [
    "# Les tableaux numpy\n",
    "\n",
    "\n",
    "code sous licence creative commun CC BY-NC-SA    BY Dominique Devedeux et Gaëlle Rebolini"
   ]
  },
  {
   "cell_type": "raw",
   "metadata": {
    "raw_mimetype": "text/restructuredtext"
   },
   "source": [
    ":download:`Télécharger le pdf <https://gitlab.com/pyspc/pyspc/raw/master/05-bases/08-tableaux_numpy.pdf>`\n",
    "\n",
    ":download:`Télécharger le notebook <https://gitlab.com/pyspc/pyspc/raw/master/05-bases/08-tableaux_numpy.ipynb>`\n",
    "\n",
    ":download:`Lancer le notebook sur binder (lent) <https://mybinder.org/v2/gh/jmbarbier/pyspc/master?filepath=05-bases%2F08-tableaux_numpy.ipynb>`"
   ]
  },
  {
   "cell_type": "markdown",
   "metadata": {},
   "source": [
    "Dans le cadre du programme du lycée et par souci de simplification, nous ne créeront que des tableaux numpy à une dimension (une ligne).\n",
    "\n",
    "Ces tableaux ressemblent grandement à des listes mais permettent de faire des opérations dites vectorisées bien plus intuitives et d'éviter les boucles. Comme pour une liste, un tableau numpy est un objet mutable qui permet de lister différents éléments, par contre ces derniers seront obligatoirement tous du même type (entiers, décimaux, chaînes de caractères, listes, tuples...) et la longueur du tableau est non-modifiable. \n",
    "\n",
    "ATTENTION : comme pour une liste, l'indice du premier élément d'un tableau numpy a pour valeur 0 !\n",
    "\n",
    "Remarque sur l'organisation de ce fichier noteboook : très souvent, les cellules fonctionnent par paire; elles portent alors le même titre. La première cellule explique le cours et la suivante est une cellule de codes illustrant le cours. "
   ]
  },
  {
   "cell_type": "markdown",
   "metadata": {},
   "source": [
    "## Créer des tableaux numpy à une dimension\n",
    "\n",
    "- *T = np.array([5,2,8,17,6,14])*          \n",
    "\n",
    "    - Convertit une liste contenant les éléments 5, 2, 8, 17, 6, 14 en un tableau numpy contenant les mêmes éléments et dans le même ordre.\n",
    "    \n",
    "    \n",
    "- *T1 = numpy.arange(15)*\n",
    "\n",
    "    - Crée un tableau contenant 15 valeurs entières allant de 0 à 14.\n",
    "    \n",
    "     \n",
    "- *T2 = numpy.arange(0.9,8.1,0.5)*  \n",
    "\n",
    "    - Crée un tableau contenant des valeurs séparées de 0.5 comprises dans l'intervalle [0.9;8.1].\n",
    "    - Le premier paramètre précise la valeur initiale du tableau.\n",
    "    - Les valeurs du tableau seront comprises dans l'intervalle [premier paramètre, second paramètre]. \n",
    "    - Le dernier paramètre indique l'intervalle entre deux valeurs successives du tableau.\n",
    "    \n",
    "           \n",
    "- *T3 = numpy.linspace(0,1/4,16)*       \n",
    "\n",
    "    - Crée un tableau contenant 16 valeurs  (de 0 à 1/4=0,25).\n",
    "    - Le premier paramètre précise la valeur initiale du tableau.\n",
    "    - Le second paramètre précise la valeur finale du tableau. \n",
    "    - Le dernier paramètre indique le nombre total de valeurs."
   ]
  },
  {
   "cell_type": "code",
   "execution_count": 1,
   "metadata": {},
   "outputs": [
    {
     "name": "stdout",
     "output_type": "stream",
     "text": [
      "[ 5  2  8 17  6 14]\n",
      "[ 0  1  2  3  4  5  6  7  8  9 10 11 12 13 14]\n",
      "[0.9 1.4 1.9 2.4 2.9 3.4 3.9 4.4 4.9 5.4 5.9 6.4 6.9 7.4 7.9]\n",
      "[0.         0.01666667 0.03333333 0.05       0.06666667 0.08333333\n",
      " 0.1        0.11666667 0.13333333 0.15       0.16666667 0.18333333\n",
      " 0.2        0.21666667 0.23333333 0.25      ]\n"
     ]
    }
   ],
   "source": [
    "# Plusieurs manières de créer des tableaux numpy à une dimension\n",
    "import numpy as np\n",
    "\n",
    "T = np.array([5,2,8,17,6,14]) \n",
    "print(T)\n",
    "T1 = np.arange(15)\n",
    "print(T1)\n",
    "T2 = np.arange(0.9,8.1,0.5)\n",
    "print(T2)\n",
    "T3 = np.linspace(0,1/4,16)\n",
    "print(T3)"
   ]
  },
  {
   "cell_type": "markdown",
   "metadata": {},
   "source": [
    "## Récupérer les éléments d'un tableau numpy\n",
    "\n",
    "Nous allons travailler sur un exemple :\n",
    "\n",
    "   - T[0]                  renvoie le premier élément, ici 5\n",
    "   - T[2]                  renvoie l'élément d'indice 2 (en 3ème position donc), ici 8\n",
    "   - T[-1]                 renvoie le dernier élément, ici 14\n",
    "   - T[-2]                 renvoie l'avant-dernier élément, ici 6\n",
    "   - T[1:3]                renvoie les éléments d'indice 1 et 2  (ATTENTION : indice 3 non inclus)\n",
    "   - T[3:]                 renvoie les éléments à partir de l'indice 3.\n",
    "   - len(T)                renvoie la longueur du tableau, ici 6    \n",
    "   - T4 = np.array([])     crée un tableau vide"
   ]
  },
  {
   "cell_type": "code",
   "execution_count": 2,
   "metadata": {},
   "outputs": [
    {
     "name": "stdout",
     "output_type": "stream",
     "text": [
      "[ 5  2  8 17  6 14]\n",
      "5\n",
      "8\n",
      "14\n",
      "6\n",
      "[2 8]\n",
      "[17  6 14]\n",
      "6\n",
      "[]\n"
     ]
    }
   ],
   "source": [
    "# Plusieurs manières de récupérer les éléments d'un tableau numpy : \n",
    "# applications\n",
    "\n",
    "T=np.array([5,2,8,17,6,14])\n",
    "print(T)\n",
    "print(T[0])\n",
    "print(T[2])\n",
    "print(T[-1])\n",
    "print(T[-2])\n",
    "print(T[1:3])\n",
    "print(T[3:])\n",
    "print(len(T))\n",
    "T4 = np.array([])\n",
    "print(T4)"
   ]
  },
  {
   "cell_type": "markdown",
   "metadata": {},
   "source": [
    "## Ajouter une valeur ou supprimer une valeur d'un tableau numpy\n",
    "\n",
    "*Les fonctions ne modifient pas les tableaux d'origine mais retournent de nouveaux tableaux en ajoutant ou en supprimant une valeur du tableau d'origine. Leur syntaxe est toujours similaire : np.fonction(T)*"
   ]
  },
  {
   "cell_type": "code",
   "execution_count": 3,
   "metadata": {},
   "outputs": [
    {
     "name": "stdout",
     "output_type": "stream",
     "text": [
      "[ 5  2  8 17  6 14]\n",
      "[ 5  2  8 17  6 14 18]\n",
      "[ 5  2  8 17  6 14]\n",
      "[ 5  2  8 17  6 14 18]\n",
      "[ 5  2 20  8 17  6 14 18]\n",
      "[ 5  2  8 17  6 14 18]\n",
      "[ 5  2  8 17  6 14]\n"
     ]
    }
   ],
   "source": [
    "# PLusieurs fonctions pour ajouter une valeur ou supprimer des valeurs \n",
    "# d'un tableau numpy (cours et applications)\n",
    "\n",
    "T=np.array([5,2,8,17,6,14])\n",
    "\n",
    "print(T)\n",
    "T1=np.append(T,18)     # Crée un tableau T1 à partir du tableau T \n",
    "print(T1)              # en ajoutant l’élément 18 à la fin du \n",
    "print(T)               # tableau T. Ne modifie pas le tableau T.\n",
    "\n",
    "T=np.append(T,18)      # Ajoute l’élément 18 à la fin du tableau T.\n",
    "print(T)\n",
    "\n",
    "T=np.insert(T,2,20)    # Insère l’élément 20 à la position d'indice 2 \n",
    "print(T)               # (donc en troisième position) du tableau T.\n",
    "\n",
    "T=np.delete(T,2)       # Supprime l'élément d'indice 2 (ici l’élément 20) \n",
    "print(T)               # du tableau T.\n",
    "T=np.delete(T,-1)      # Supprime l’élément d’indice -1 (donc le dernier \n",
    "print(T)               # élément) du tableau T.\n"
   ]
  },
  {
   "cell_type": "markdown",
   "metadata": {},
   "source": [
    "## Analyser le contenu d'un tableau numpy\n",
    "\n",
    "*Les fonctions ne modifient pas les tableaux numpy et leur syntaxe est toujours similaire : fonction(T)*\n",
    "\n",
    "*Les méthodes modifient les tableaux numpy et leur syntaxe est toujours similaire :  T.méthode()*\n",
    "\n",
    "- min(T) ou np.min(T) :             Renvoie le plus petit élément du tableau T.\n",
    "\n",
    "- max(T) ou np.max(T) :             Renvoie le plus grand élément du tableau T.\n",
    "\n",
    "- sorted(T)  :         Renvoie une copie triée du tableau contenant les éléments du tableau T rangés par ordre croissant ou alphabétique. MAIS, le tableau T n'est pas modifié !\n",
    "\n",
    "- sorted(T,reverse=True)  :         Renvoie une copie triée du tableau contenant les éléments du tableau T rangés par ordre décroissant ou inverse du sens alphabétique. MAIS, le tableau T n'est pas modifié !\n",
    "\n",
    "- T.sort() :          Modifie le tableau T qui dorénavant contiendra les éléments triés (mais ne le renvoie pas). \n",
    "\n",
    "Remarque : sort() est une méthode et non une fonction... D'où sa syntaxe différente.\n",
    "\n",
    "- choice(T) :        Renvoie en choisissant au hasard un élément du tableau T. Cette fonction appartient au module random."
   ]
  },
  {
   "cell_type": "code",
   "execution_count": 4,
   "metadata": {},
   "outputs": [
    {
     "name": "stdout",
     "output_type": "stream",
     "text": [
      "T =  [ 5  2  8 17  6 14] \n",
      "\n",
      "2 et 2\n",
      "17 et 17 \n",
      "\n",
      "Le tableau Ttrie_endroit est une copie triée de T :\n",
      " Ttrie_endroit =  [2, 5, 6, 8, 14, 17]\n",
      "Comme vous pouvez le constater, le tableau T n'est pas modifié :\n",
      " T = :  [ 5  2  8 17  6 14] \n",
      "\n",
      "Le tableau Ttrie_envers est une copie triée de T :\n",
      " Ttrie_envers =  [17, 14, 8, 6, 5, 2]\n",
      "Comme vous pouvez le constater, le tableau T n'est pas modifié :\n",
      " T = [ 5  2  8 17  6 14] \n",
      "\n",
      "Comme vous pouvez le constater, le tableau T est modifié :\n",
      " T = [ 2  5  6  8 14 17] \n",
      "\n",
      "5\n"
     ]
    }
   ],
   "source": [
    "# Quelques fonctions permettant d'analyser le contenu d'une liste : \n",
    "# applications\n",
    "\n",
    "# La fonction choice appartient à la bibliothèque random\n",
    "from random import choice          \n",
    "\n",
    "T=np.array([5,2,8,17,6,14])\n",
    "print(\"T = \",T,'\\n')\n",
    "\n",
    "print(min(T),'et',np.min(T)) \n",
    "print(max(T), 'et',np.max(T),'\\n') \n",
    "\n",
    "Ttrie_endroit=sorted(T)\n",
    "print(\"Le tableau Ttrie_endroit est une copie triée de T :\\n\", \n",
    "      \"Ttrie_endroit = \",Ttrie_endroit) \n",
    "print(\"Comme vous pouvez le constater, le tableau T n'est pas modifié :\\n\",\n",
    "      \"T = : \",T,'\\n')\n",
    "\n",
    "Ttrie_envers=sorted(T,reverse=True)\n",
    "print(\"Le tableau Ttrie_envers est une copie triée de T :\\n\",\n",
    "      \"Ttrie_envers = \",Ttrie_envers) \n",
    "print(\"Comme vous pouvez le constater, le tableau T n'est pas modifié :\\n\",\n",
    "      \"T =\",T,'\\n')\n",
    "\n",
    "T.sort()\n",
    "print(\"Comme vous pouvez le constater, le tableau T est modifié :\\n\",\n",
    "      \"T =\",T,'\\n')\n",
    "\n",
    "print(choice(T))     "
   ]
  },
  {
   "cell_type": "markdown",
   "metadata": {},
   "source": [
    "## Parcourir le contenu d'un tableau numpy\n",
    "\n",
    "Comme pour les listes , la boucle « for » est particulièrement bien adaptée aux tableaux de valeurs. \n",
    "\n",
    "Soit T un tableau numpy de longueur n :\n",
    "\n",
    "$\\rightarrow$ Si on a besoin de parcourir un tableau élément par élément grâce à leur indice pour ensuite utiliser une instruction faisant intervenir cet indice, on utilise l’instruction : **for i in range(0, len(T)) :**\n",
    "\n",
    "la variable i (qui représente l'indice d'un élément) prendra les valeurs de 0 à len(T)-1 soit de 0 à n-1\n",
    "\n",
    "$\\rightarrow$ Si on a besoin de parcourir un tableau, élément par élément, en nous intéressant uniquement à leur valeur pour ensuite utiliser une instruction permettant de travailler sur ces valeurs, on peut utiliser l’instruction : **for x in T :** \n",
    "\n",
    "la variable x prendra l'une après l'autre toutes les valeurs du tableau T.\n",
    "\n",
    "Remarque 1: On peut toujours utiliser la première instruction à la place de la deuxième, mais pas l’inverse !\n",
    "\n",
    "Remarque 2: les lettres i, j et k sont traditionnellement utilisées pour désigner les indices alors que les autres lettres désignent des variables. Par exemple, ici, la lettre x parcourt les valeurs de T.\n"
   ]
  },
  {
   "cell_type": "code",
   "execution_count": 5,
   "metadata": {},
   "outputs": [
    {
     "name": "stdout",
     "output_type": "stream",
     "text": [
      "premier exemple :\n",
      "5\n",
      "8\n",
      "6\n",
      "second exemple :\n",
      "8\n",
      "17\n",
      "14\n"
     ]
    }
   ],
   "source": [
    "# Comment parcourir le contenu d'un tableau numpy : \n",
    "# applications de base\n",
    "\n",
    "T=np.array([5,2,8,17,6,14])\n",
    "\n",
    "print(\"premier exemple :\") \n",
    "\n",
    "# i balaye (sera égal à) tous les indices des cellules du tableau \n",
    "# un par un (ici de 0 à 5)\n",
    "\n",
    "for i in range(0,len(T)):   \n",
    "    \n",
    "# test permettant de sélectionner les indices i pairs \n",
    "# (reste de la division de i par 2 vaut 0)    \n",
    "  \n",
    "    if i%2==0 :             \n",
    "        print(T[i])\n",
    "\n",
    "print(\"second exemple :\")  \n",
    "\n",
    "# x balaye toutes les valeurs du tableau (ici 5, puis 2, puis 8...)\n",
    "for x in T :              \n",
    "    if x > 7:\n",
    "        print(x)"
   ]
  },
  {
   "cell_type": "code",
   "execution_count": 6,
   "metadata": {},
   "outputs": [
    {
     "name": "stdout",
     "output_type": "stream",
     "text": [
      "premier exemple :\n",
      "[ 6  3  9 18  7 15]\n",
      "second exemple :\n",
      " s intermédiaire :  5\n",
      " s intermédiaire :  7\n",
      " s intermédiaire :  15\n",
      " s intermédiaire :  32\n",
      " s intermédiaire :  38\n",
      " s intermédiaire :  52\n",
      " Somme finale :  52\n",
      "le nombre 8 est présent dans le tableau\n"
     ]
    }
   ],
   "source": [
    "# Comment parcourir le contenu d'un tableau : \n",
    "# applications plus poussées\n",
    "\n",
    "print(\"premier exemple :\") \n",
    "T=np.array([5,2,8,17,6,14])\n",
    "for i in range (0,len(T)):\n",
    "    T[i] = T[i] + 1         # on additionne 1 à chaque valeur du tableau\n",
    "print(T)\n",
    "\n",
    "print(\"second exemple :\")  \n",
    "T=np.array([5,2,8,17,6,14])\n",
    "\n",
    "# création d'une nouvelle variable s qui est initialisée à 0\n",
    "s = 0        \n",
    "\n",
    "for x in T :\n",
    "    \n",
    "# après le premier passage dans la boucle, s sera égal à son \n",
    "# ancienne valeur (0) additionné à x    \n",
    "    s = s + x       \n",
    "    \n",
    "    print (\" s intermédiaire : \", s)\n",
    "print (\" Somme finale : \", s)\n",
    "\n",
    "# test pour savoir si la valeur 8 est dans le tableau\n",
    "\n",
    "if 8 in T : print(\"le nombre 8 est présent dans le tableau\")    \n",
    "else : print(\"le nombre 8 n'est pas présent dans le tableau\")"
   ]
  },
  {
   "cell_type": "markdown",
   "metadata": {},
   "source": [
    "## Opérations mathématiques sur les tableaux numpy (vectorisation)\n",
    "\n",
    "Numpy permet de réaliser des opérations directement sur les éléments d'un tableau sans être obligé de créer une boucle for comme pour les listes, d'où la grande utilité d'utiliser des tableaux numpy au lieu de listes dans les programmes liés aux sciences-physiques.\n",
    "\n",
    "Prenons un exemple: Soit un dipôle ohmique de résistance R = 3 $\\Omega$. \n",
    "On veut déterminer les valeurs que prend la tension U pour une intensité I dont les valeurs sont regroupées dans la liste:\n",
    "I = [0, 0.10, 0.20, 0.30]\n"
   ]
  },
  {
   "cell_type": "code",
   "execution_count": 7,
   "metadata": {},
   "outputs": [
    {
     "name": "stdout",
     "output_type": "stream",
     "text": [
      "[0.1, 0.2, 0.3, 0.1, 0.2, 0.3, 0.1, 0.2, 0.3]\n",
      "On obtient la concaténation de 3 fois la liste I \n",
      " donc MAUVAISE METHODE\n"
     ]
    }
   ],
   "source": [
    "# Création de la liste U\n",
    "\n",
    "# Si l'on fait : \n",
    "R = 3        # R est forcément un entier sinon une exception \n",
    "             # (message d'erreur) sera renvoyée lors de \n",
    "             # l'exécution du code.\n",
    "\n",
    "I = [0.10, 0.20, 0.30]\n",
    "U = R*I\n",
    "print (U)\n",
    "print (\"On obtient la concaténation de 3 fois la liste I \\n\",\n",
    "       \"donc MAUVAISE METHODE\")"
   ]
  },
  {
   "cell_type": "code",
   "execution_count": 8,
   "metadata": {},
   "outputs": [
    {
     "name": "stdout",
     "output_type": "stream",
     "text": [
      "[0.30000000000000004, 0.6000000000000001, 0.8999999999999999]\n",
      "On obtient bien une liste contenant les valeurs de la tension U \n",
      " donc bonne méthode mais demandant 4 lignes de code\n"
     ]
    }
   ],
   "source": [
    "# On doit donc faire :  \n",
    "I = [0.10, 0.20, 0.30]\n",
    "R = 3\n",
    "U = []\n",
    "for i in range (len (I)):\n",
    "    Ui=R*I[i]\n",
    "    U.append(Ui)\n",
    "print (U)\n",
    "print (\"On obtient bien une liste contenant les valeurs de la tension U \\n\", \n",
    "       \"donc bonne méthode mais demandant 4 lignes de code\")"
   ]
  },
  {
   "cell_type": "code",
   "execution_count": 9,
   "metadata": {},
   "outputs": [
    {
     "name": "stdout",
     "output_type": "stream",
     "text": [
      "[0.3 0.6 0.9]\n",
      "On obtient un tableau contenant les valeurs de la tension U \n",
      " donc BONNE METHODE ne demandant qu'une seule ligne de code!\n"
     ]
    }
   ],
   "source": [
    "# Regardons maintenant ce que cela donne avec des tableaux numpy.\n",
    "I=np.array([0.10, 0.20, 0.30])\n",
    "R=3\n",
    "U=R*I\n",
    "print (U)\n",
    "print (\"On obtient un tableau contenant les valeurs de la tension U \\n\", \n",
    "       \"donc BONNE METHODE ne demandant qu'une seule ligne de code!\")"
   ]
  },
  {
   "cell_type": "markdown",
   "metadata": {},
   "source": [
    "De nombreuses opérations mathématiques de base peuvent être réalisées avec des tableaux numpy. De plus, un grand nombre de fonctions de la bibliothèque math sont aussi définies dans la bibliothèque numpy et peuvent être utilisées lors de calculs utilisant les tableaux numpy."
   ]
  },
  {
   "cell_type": "code",
   "execution_count": 10,
   "metadata": {},
   "outputs": [
    {
     "name": "stdout",
     "output_type": "stream",
     "text": [
      "3.141592653589793 0.0 5.0\n",
      "3.141592653589793 0.0 5.0\n"
     ]
    }
   ],
   "source": [
    "import math\n",
    "\n",
    "print (math.pi, math.log(1),math.sqrt(25))\n",
    "\n",
    "print (np.pi, np.log(1),np.sqrt(25))"
   ]
  },
  {
   "cell_type": "markdown",
   "metadata": {},
   "source": [
    "## Conversion d'un tableau numpy de caractères vers une chaîne de caractères\n",
    "\n",
    "Attention : ici, le tableau numpy doit être forcément constitué de caractères\n",
    "\n",
    "   T = np.array(['I','S','N'])  :   crée un tableau numpy contenant 3 éléments de type caractère \n",
    "\n",
    "   'sep'.join(T)  :  renvoie une chaîne de caractères obtenue en concaténant les éléments du tableau T séparés par le séparateur sep."
   ]
  },
  {
   "cell_type": "code",
   "execution_count": 11,
   "metadata": {},
   "outputs": [
    {
     "name": "stdout",
     "output_type": "stream",
     "text": [
      "['I' 'S' 'N']\n",
      "I-S-N\n"
     ]
    }
   ],
   "source": [
    "T=np.array(['I','S','N'])\n",
    "mot='-'.join(T)      # ici le séparateur est un tiret -\n",
    "print(T)\n",
    "print(mot)"
   ]
  },
  {
   "cell_type": "markdown",
   "metadata": {},
   "source": [
    "## Création de tableau numpy à deux dimensions\n",
    "\n",
    "Nous allons travailler sur un nouvel exemple\n",
    "\n",
    "   tableau = np.array ([['Anne','Tom','Léo','Eva'], [6,7,8,9],[10,20,30,40]]  :  \n",
    "   crée un tableau contenant 3 lignes de 4 éléments chacune donc un tableau de 3 lignes x 4 colonnes\n",
    "    \n",
    "   - Tableau[0] : renvoie la première ligne du tableau\n",
    "   \n",
    "   - Tableau[i][j] : renvoie le jème élément de la ième ligne du tableau\n"
   ]
  },
  {
   "cell_type": "code",
   "execution_count": 12,
   "metadata": {},
   "outputs": [
    {
     "name": "stdout",
     "output_type": "stream",
     "text": [
      "Tableau\n",
      " [['Anne' 'Tom' 'Léo' 'Eva']\n",
      " ['6' '7' '8' '9']\n",
      " ['10' '20' '30' '40']] \n",
      "\n",
      "Ligne\n",
      " ['Anne' 'Tom' 'Léo' 'Eva'] \n",
      "\n",
      "Elément d'une ligne\n",
      " Anne \n",
      "\n",
      "Elément d'une ligne\n",
      " 8 \n",
      "\n",
      "Elément d'une ligne, à partir de la fin\n",
      " 40 \n",
      "\n",
      "Elément d'une ligne, à partir de la fin\n",
      " 10 \n",
      "\n",
      "Transposition\n",
      " [['Anne' '6' '10']\n",
      " ['Tom' '7' '20']\n",
      " ['Léo' '8' '30']\n",
      " ['Eva' '9' '40']] \n",
      "\n",
      "Partie de tableau\n",
      " [['Tom' 'Léo']\n",
      " ['7' '8']\n",
      " ['20' '30']] \n",
      "\n",
      "Colonne\n",
      " ['Anne' '6' '10'] \n",
      "\n"
     ]
    }
   ],
   "source": [
    "# On peut créer des tableaux à plusieurs dimensions\n",
    "\n",
    "tableau = np.array([['Anne','Tom','Léo','Eva'], [6,7,8,9],[10,20,30,40]]) \n",
    "print(\"Tableau\\n\", tableau,'\\n')\n",
    "print(\"Ligne\\n\", tableau[0],'\\n')\n",
    "print(\"Elément d'une ligne\\n\", tableau[0][0],'\\n')\n",
    "print(\"Elément d'une ligne\\n\", tableau[1][2],'\\n')\n",
    "print(\"Elément d'une ligne, à partir de la fin\\n\", tableau[-1][-1],'\\n')\n",
    "print(\"Elément d'une ligne, à partir de la fin\\n\",tableau[-1][0], \"\\n\")\n",
    "print(\"Transposition\\n\", tableau.T, \"\\n\")\n",
    "print(\"Partie de tableau\\n\", tableau[0:3,1:3], \"\\n\")\n",
    "print(\"Colonne\\n\", tableau[:,0], \"\\n\")"
   ]
  }
 ],
 "metadata": {
  "celltoolbar": "Format de la Cellule Texte Brut",
  "kernelspec": {
   "display_name": "Python 3",
   "language": "python",
   "name": "python3"
  },
  "language_info": {
   "codemirror_mode": {
    "name": "ipython",
    "version": 3
   },
   "file_extension": ".py",
   "mimetype": "text/x-python",
   "name": "python",
   "nbconvert_exporter": "python",
   "pygments_lexer": "ipython3",
   "version": "3.6.7"
  }
 },
 "nbformat": 4,
 "nbformat_minor": 2
}

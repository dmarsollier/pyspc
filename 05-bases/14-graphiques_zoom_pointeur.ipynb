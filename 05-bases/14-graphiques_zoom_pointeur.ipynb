{
 "cells": [
  {
   "cell_type": "markdown",
   "metadata": {},
   "source": [
    "# Les graphiques : zoom et pointeur\n",
    "\n",
    "Code sous licence creative commun CC BY-NC-SA BY Gaëlle Rebolini et Jean-Matthieu Barbier"
   ]
  },
  {
   "cell_type": "markdown",
   "metadata": {},
   "source": [
    "Il est possible de zoomer et de pointer sur un graphique créé en langage Python mais uniquement dans le logiciel Jupyter Notebook (et non JupyterLab sauf après configuration du logiciel par vos soins).\n",
    "Pour cela, il faut importer la bibliothèque **ipywidgets as widgets** et écrire la ligne de code **%matplotlib widget** qui permet d'afficher une fenêtre interactive.\n",
    "Attention à ne pas ajouter la ligne de code `%matplotlib inline`.\n",
    "\n",
    "- Placer la souris sur le point de la courbe qui vous intéresse et ses coordonnées s'affichent.\n",
    "- Cliquer sur l'icône \"Zoom to rectangle\" et zoomer sur la courbe à l'aide la souris.\n",
    "- Il est aussi possible de faire bouger les graduations des axes à l'aide de l'icône \"Pan axes with left mouse, zoom with right\".\n",
    "- Pour revenir à la courbe initiale, cliquer sur l'icône \"Reset original view\"."
   ]
  },
  {
   "cell_type": "code",
   "execution_count": 1,
   "metadata": {},
   "outputs": [
    {
     "data": {
      "application/vnd.jupyter.widget-view+json": {
       "model_id": "4542d345de9d42de8433642968035f21",
       "version_major": 2,
       "version_minor": 0
      },
      "text/plain": [
       "Canvas(toolbar=Toolbar(toolitems=[('Home', 'Reset original view', 'home', 'home'), ('Back', 'Back to previous …"
      ]
     },
     "metadata": {},
     "output_type": "display_data"
    }
   ],
   "source": [
    "import matplotlib.pyplot as plt\n",
    "\n",
    "import ipywidgets as widgets\n",
    "%matplotlib widget\n",
    "\n",
    "\n",
    "I=[0,25e-3,50e-3,75e-3,100e-3,125e-3]\n",
    "U=[0,1.7,3.4,5.1,6.8,8.5]\n",
    "plt.figure(\"Loi d'Ohm\")\n",
    "plt.plot(I,U,'b+-',label='U=f(I)')\n",
    "plt.legend(loc=2)\n",
    "plt.show()\n"
   ]
  },
  {
   "cell_type": "code",
   "execution_count": null,
   "metadata": {},
   "outputs": [],
   "source": []
  }
 ],
 "metadata": {
  "kernelspec": {
   "display_name": "Python 3",
   "language": "python",
   "name": "python3"
  },
  "language_info": {
   "codemirror_mode": {
    "name": "ipython",
    "version": 3
   },
   "file_extension": ".py",
   "mimetype": "text/x-python",
   "name": "python",
   "nbconvert_exporter": "python",
   "pygments_lexer": "ipython3",
   "version": "3.6.9"
  }
 },
 "nbformat": 4,
 "nbformat_minor": 4
}

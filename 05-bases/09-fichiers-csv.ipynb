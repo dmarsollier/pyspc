{
 "cells": [
  {
   "cell_type": "markdown",
   "metadata": {},
   "source": [
    "# Comment importer les données numériques d’un tableur scientifique dans un programme python ?"
   ]
  },
  {
   "attachments": {},
   "cell_type": "markdown",
   "metadata": {},
   "source": [
    "Document sous licence creative commun CC BY-NC-SA BY Gaëlle Rebolini"
   ]
  },
  {
   "cell_type": "markdown",
   "metadata": {},
   "source": [
    "Le programme présenté ci-dessous est adapté à des fichiers .csv (type tableur) obtenus lors de pointages vidéo. Il devra évidemment être adapté pour des fichiers obtenus lors d'autres expériences."
   ]
  },
  {
   "cell_type": "markdown",
   "metadata": {},
   "source": [
    "1.\tEnregistrer ou exporter le fichier contenant votre tableau de données sous format .csv dans le dossier contenant votre notebook (fichier .ipynb) ou votre programme python (fichier.py).\n",
    "    -\tDans Regressi, enregistrer le fichier sous le format (type) OpenOffice, CSV (choisir « Vrai CSV » dans la fenêtre qui s’affiche alors).\n",
    "    -\tDans Loggerpro, exporter le fichier comme CSV…\n",
    "    -\tDans Aviméca, exporter les données dans Regressi puis vous reporter à la ligne ci-dessus.\n",
    "    \n",
    "Attention: les logiciels de pointage retournent des tableaux de colonnes avec des entêtes (une à deux lignes) qu'il faudra par la suite retranscrire sous forme de listes (une liste par colonne) sans tenir compte des entêtes."
   ]
  },
  {
   "attachments": {},
   "cell_type": "markdown",
   "metadata": {},
   "source": [
    "Voici une capture d'écran du fichier parabole.csv obtenu à l'aide de Regavi/Regressi ouvert sous Excel\n",
    "![Capture%20fichier%20excel.JPG](09_fichiers_csv/Capture%20fichier%20excel.JPG)"
   ]
  },
  {
   "attachments": {},
   "cell_type": "markdown",
   "metadata": {},
   "source": [
    "Le même fichier ouvert sous Jupiter Notebook\n",
    "![Capture%20fichier%20jupyter.JPG](09_fichiers_csv/Capture%20fichier%20jupyter.JPG)"
   ]
  },
  {
   "cell_type": "markdown",
   "metadata": {},
   "source": [
    "2. Les cellules suivantes contiennent les lignes de code qui vous permettront d'afficher votre tableau de données sous forme de listes (une liste par colonne de votre tableau)"
   ]
  },
  {
   "cell_type": "code",
   "execution_count": 1,
   "metadata": {},
   "outputs": [],
   "source": [
    "# Chargement de la bibliothèque csv afin de pouvoir lire par la suite le fichier csv\n",
    "\n",
    "import csv"
   ]
  },
  {
   "cell_type": "code",
   "execution_count": null,
   "metadata": {},
   "outputs": [],
   "source": [
    "# création de la fonction appelée charge_fichier_csv() qui permettra de récupérer les données des colonnes d'un fichier.csv  \n",
    "\n",
    "def charge_fichier_csv(fichier):\n",
    "\n",
    "# ouverture du fichier .csv\n",
    "# Le début du chemin n'a pas besoin d'être spécifié si le fichier .csv se trouve dans le même dossier que ce fichier \n",
    "# notebook\n",
    "# Il est aussi possible d'utiliser la ligne de commande: f = open(fichier,'r',encoding = 'utf-8')\n",
    "\n",
    "    with open(fichier, 'r', encoding='utf-8') as f :\n",
    "        \n",
    "# lecture du fichier à l'aide de la fonction csv.reader. \n",
    "# Il faut préciser le délimiteur de colonnes utilisé dans le fichier .csv (ici c'est le ;)\n",
    "\n",
    "        rfichier = csv.reader(f, delimiter=\";\")\n",
    "    \n",
    "# création et initiation du tableau sous forme de liste qui recevra les listes de nombres réels correspondant aux colonnes\n",
    "    \n",
    "        tableau=[]\n",
    "    \n",
    "# le contenu d'une cellule est initialement lu comme une chaîne de caractères \n",
    "# nous voulons obtenir des listes de nombres réels correspondant aux colonnes de notre tableau, \n",
    "# donc :\n",
    "#        - il ne faut pas prendre en compte les lignes correspondant aux entêtes\n",
    "#        - il faut convertir les chaines de caractères en nombres réels décimaux\n",
    "# attention : les virgules des nombres décimaux doivent être remplacées par des points\n",
    "\n",
    "        for row in rfichier:    # pour chaque ligne du fichier\n",
    "        \n",
    "            if row[0][0] not in (\"0\",\"1\",\"2\",\"3\",\"4\",\"5\",\"6\",\"7\",\"8\",\"9\",\",\",\".\"):  # test permettant de déterminer si \n",
    "                                                # le contenu de la première cellule de la ligne n'est pas un nombre \n",
    "                                                # en testant le premier caractère de ce contenu. \n",
    "                continue                        # Si le test est validé, grâce à la commande \"continue\", on revient au \n",
    "                                                # début de la boucle for sans continuer d'exécuter son contenu \n",
    "                                                # car on suppose que la ligne est une ligne d'entête\n",
    "                                                # et on change de ligne!\n",
    "        \n",
    "            for i in range (len(row)):          # on parcourt chaque cellule d'une ligne correspondant à une colonne\n",
    "                X = []                  # création d'une liste vide qui contiendra les valeurs des cellules d'une colonne  \n",
    "                tableau.append(X)                                    # ajout de cette liste au tableau\n",
    "                tableau[i].append(float(row[i].replace(\",\",'.')))    # ajout dans cette liste du contenu de la cellule i de\n",
    "                                                                     # la ligne en la convertissant en nombre réel décimal\n",
    "            break                     # une fois qu'une seule ligne a été entièrement parcourue, on interrompt la boucle \n",
    "                                      # \"for row in rfichier\" grâce à la commande \"break\" afin de ne pas créer de liste vide \n",
    "                                      # supplémentaire à chaque nouvelle ligne\n",
    "\n",
    "        for row in rfichier:            # reprend le parcours des lignes du tableau (sauf celles parcourues précédemment)\n",
    "            for i in range (len(row)):\n",
    "                tableau[i].append(float(row[i].replace(\",\",'.')))  \n",
    "            \n",
    "        return (tableau)"
   ]
  },
  {
   "cell_type": "markdown",
   "metadata": {},
   "source": [
    "Voici la fonction sans commentaire afin d'y voir un peu plus clair !"
   ]
  },
  {
   "cell_type": "code",
   "execution_count": 3,
   "metadata": {},
   "outputs": [],
   "source": [
    "def charge_fichier_csv(fichier):\n",
    "    with open(fichier, 'r', encoding='utf-8') as f :\n",
    "        rfichier = csv.reader(f, delimiter=\";\")\n",
    "        tableau=[]\n",
    "        for row in rfichier:\n",
    "            if row[0][0] not in (\"0\",\"1\",\"2\",\"3\",\"4\",\"5\",\"6\",\"7\",\"8\",\"9\",\",\",\".\"):  \n",
    "                continue                           \n",
    "            for i in range (len(row)):                               \n",
    "                X = []                                              \n",
    "                tableau.append(X)                                    \n",
    "                tableau[i].append(float(row[i].replace(\",\",'.')))                                                           \n",
    "            break                         \n",
    "        for row in rfichier:              \n",
    "            for i in range (len(row)):\n",
    "                tableau[i].append(float(row[i].replace(\",\",'.')))     \n",
    "        return (tableau)"
   ]
  },
  {
   "cell_type": "code",
   "execution_count": 4,
   "metadata": {},
   "outputs": [
    {
     "name": "stdout",
     "output_type": "stream",
     "text": [
      "[0.0, 0.04, 0.08, 0.12, 0.16, 0.2, 0.24, 0.28, 0.32, 0.36, 0.4, 0.44, 0.48, 0.52, 0.56, 0.6, 0.64, 0.68, 0.72]\n",
      "[-0.002808944, 0.064605722, 0.140447222, 0.213479777, 0.286512333, 0.362353832, 0.435386388, 0.514036832, 0.584260443, 0.662910887, 0.738752387, 0.814593887, 0.890435386, 0.966276886, 1.039309442, 1.115150941, 1.190992441, 1.269642885, 1.339866496]\n",
      "[0.0, 0.143256166, 0.266849722, 0.376398555, 0.471902665, 0.553362054, 0.617967776, 0.665719832, 0.693809276, 0.713471887, 0.713471887, 0.69661822, 0.660101943, 0.617967776, 0.553362054, 0.469093721, 0.37358961, 0.261231833, 0.134829333]\n"
     ]
    }
   ],
   "source": [
    "tableau = charge_fichier_csv('parabole.csv')\n",
    "t=tableau[0]\n",
    "print(t)\n",
    "x=tableau[1]\n",
    "print(x)\n",
    "y=tableau[2]\n",
    "print(y)\n",
    "\n"
   ]
  }
 ],
 "metadata": {
  "kernelspec": {
   "display_name": "Python 3",
   "language": "python",
   "name": "python3"
  },
  "language_info": {
   "codemirror_mode": {
    "name": "ipython",
    "version": 3
   },
   "file_extension": ".py",
   "mimetype": "text/x-python",
   "name": "python",
   "nbconvert_exporter": "python",
   "pygments_lexer": "ipython3",
   "version": "3.7.2"
  }
 },
 "nbformat": 4,
 "nbformat_minor": 2
}

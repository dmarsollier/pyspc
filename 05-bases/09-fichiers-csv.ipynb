{
 "cells": [
  {
   "cell_type": "markdown",
   "metadata": {},
   "source": [
    "# Import de données numériques\n",
    "\n",
    "Code sous licence creative commun CC BY-NC-SA BY Gaëlle Rebolini"
   ]
  },
  {
   "cell_type": "raw",
   "metadata": {
    "raw_mimetype": "text/restructuredtext"
   },
   "source": [
    ":download:`Télécharger le pdf <https://pyspc.readthedocs.io/fr/latest/05-bases/09-fichiers-csv.pdf>`\n",
    "\n",
    ":download:`Télécharger le notebook <https://pyspc.readthedocs.io/fr/latest/05-bases/09-fichiers-csv.ipynb>`\n",
    "\n",
    ":download:`Lancer le notebook sur binder (lent) <https://mybinder.org/v2/gh/jmbarbier/pyspc/master?filepath=05-bases%2F09-fichiers-csv.ipynb>`"
   ]
  },
  {
   "cell_type": "markdown",
   "metadata": {},
   "source": [
    "Le programme présenté ci-dessous est adapté à des fichiers .csv (type tableur) obtenus lors de pointages vidéo. Il devra évidemment être adapté pour des fichiers obtenus lors d'autres expériences."
   ]
  },
  {
   "cell_type": "markdown",
   "metadata": {},
   "source": [
    "1.\tEnregistrer ou exporter le fichier contenant votre tableau de données sous format .csv dans le dossier contenant votre notebook (fichier .ipynb) ou votre programme python (fichier.py). Attention, pour l'utilisation avec l'ENT Nero version 2018, petite subtilité à la fin.\n",
    "\n",
    "    -\tDans Regressi, enregistrer le fichier sous le format (type) OpenOffice, CSV (choisir « Vrai CSV » dans la fenêtre qui s’affiche alors).\n",
    "    -\tDans Loggerpro, exporter le fichier comme CSV…\n",
    "    -\tDans Aviméca, exporter les données dans Regressi puis vous reporter à la ligne ci-dessus.\n",
    "    \n",
    "Attention : les logiciels de pointage retournent des tableaux de colonnes avec des entêtes (une à deux lignes) qu'il faudra par la suite retranscrire sous forme de listes (une liste par colonne) sans tenir compte des entêtes."
   ]
  },
  {
   "cell_type": "markdown",
   "metadata": {},
   "source": [
    "Voici une capture d'écran du fichier parabole.csv obtenu à l'aide de Regavi/Regressi ouvert sous Excel\n",
    "\n",
    "![Capture sous excel](09-fichiers-csv-capture-excel.jpg)"
   ]
  },
  {
   "cell_type": "markdown",
   "metadata": {},
   "source": [
    "Le même fichier ouvert sous Jupiter Notebook\n",
    "\n",
    "![Capture sous jupyter](09-fichiers-csv-capture-jupyter.jpg)"
   ]
  },
  {
   "cell_type": "markdown",
   "metadata": {},
   "source": [
    "2. Les cellules suivantes contiennent les lignes de code qui vous permettront d'afficher votre tableau de données sous forme de listes (une liste par colonne de votre tableau)"
   ]
  },
  {
   "cell_type": "code",
   "execution_count": 1,
   "metadata": {},
   "outputs": [],
   "source": [
    "# Chargement de la bibliothèque csv afin de pouvoir lire par la suite \n",
    "# le fichier csv\n",
    "\n",
    "import csv"
   ]
  },
  {
   "cell_type": "code",
   "execution_count": 2,
   "metadata": {},
   "outputs": [],
   "source": [
    "# création de la fonction appelée charge_fichier_csv() qui \n",
    "# permettra de récupérer les données des colonnes d'un fichier.csv  \n",
    "\n",
    "def charge_fichier_csv(fichier):\n",
    "\n",
    "# ouverture du fichier .csv\n",
    "\n",
    "    with open(fichier, 'r', encoding='utf-8') as f :\n",
    "        \n",
    "# lecture du fichier à l'aide de la fonction csv.reader. \n",
    "# Il faut préciser le délimiteur de colonnes utilisé dans le \n",
    "# fichier .csv (ici c'est le ;)\n",
    "\n",
    "        rfichier = csv.reader(f, delimiter=\";\")\n",
    "    \n",
    "# création et initiation du tableau sous forme de liste qui recevra \n",
    "# les listes de nombres réels correspondant aux colonnes\n",
    "    \n",
    "        tableau=[]\n",
    "    \n",
    "# le contenu d'une cellule est initialement lu comme une chaîne de \n",
    "# caractères \n",
    "# nous voulons obtenir des listes de nombres réels correspondant \n",
    "# aux colonnes de notre tableau csv, \n",
    "# donc :\n",
    "#        - il ne faut pas prendre en compte les lignes \n",
    "#          correspondant aux entêtes\n",
    "#        - il faut convertir les chaines de caractères en nombres \n",
    "#          réels décimaux\n",
    "\n",
    "# attention : les virgules des nombres décimaux doivent être \n",
    "# remplacées par des points\n",
    "\n",
    "        \n",
    "        \n",
    "# test permettant de déterminer si le contenu de la première cellule \n",
    "# de la ligne du tableau csv n'est pas un nombre en testant le premier \n",
    "# caractère de ce contenu.   \n",
    "# Si le test est validé, grâce à la commande \"continue\", on revient au \n",
    "# début de la boucle for sans continuer d'exécuter son contenu car on \n",
    "# suppose que la ligne du tableau csv est une ligne d'entête et on \n",
    "# change de ligne!\n",
    "\n",
    "        for row in rfichier:    # pour chaque ligne du fichier csv\n",
    "    \n",
    "            if row[0][0] not in (\"0\",\"1\",\"2\",\"3\",\"4\",\"5\",\"6\",\"7\",\"8\",\n",
    "                                 \"9\",\",\",\".\"):  \n",
    "                continue  \n",
    "                \n",
    "                \n",
    "# on parcourt chaque cellule d'une ligne du tableau csv correspondant à \n",
    "# une colonne du tableau csv.\n",
    "\n",
    "            for i in range (len(row)):  \n",
    "        \n",
    "# création d'une liste vide qui contiendra les valeurs des cellules \n",
    "# d'une colonne du fichier csv.       \n",
    "                X = []       \n",
    "    \n",
    "# ajout de cette liste au tableau\n",
    "                tableau.append(X) \n",
    "    \n",
    "# ajout dans cette liste du contenu de la cellule i de la ligne en la \n",
    "# convertissant en nombre réel décimal\n",
    "# une fois qu'une seule ligne a été entièrement parcourue, on interrompt \n",
    "# la boucle \"for row in rfichier\" grâce à la commande \"break\" afin de ne \n",
    "# pas créer de liste vide supplémentaire à chaque nouvelle ligne\n",
    "\n",
    "                tableau[i].append(float(row[i].replace(\",\",'.')))    \n",
    "            break                     \n",
    "\n",
    "# on reprend le parcours des lignes du tableau (sauf celles parcourues \n",
    "# précédemment)\n",
    "\n",
    "        for row in rfichier:            \n",
    "            for i in range (len(row)):\n",
    "                tableau[i].append(float(row[i].replace(\",\",'.')))  \n",
    "            \n",
    "        return (tableau)"
   ]
  },
  {
   "cell_type": "markdown",
   "metadata": {},
   "source": [
    "Voici la fonction sans commentaire afin d'y voir un peu plus clair !"
   ]
  },
  {
   "cell_type": "code",
   "execution_count": 3,
   "metadata": {},
   "outputs": [],
   "source": [
    "def charge_fichier_csv(fichier):\n",
    "    \"\"\"\n",
    "    Charge un fichier csv et le renvoie sous forme de tableau\n",
    "    \n",
    "    :param: nom de fichier\n",
    "    :returns: tableau des données\n",
    "    \"\"\"\n",
    "    with open(fichier, 'r', encoding='utf-8') as f :\n",
    "        rfichier = csv.reader(f, delimiter=\";\")\n",
    "        tableau=[]\n",
    "        for row in rfichier:\n",
    "            if row[0][0] not in (\"0\",\"1\",\"2\",\"3\",\"4\",\"5\",\"6\",\"7\",\"8\",\n",
    "                                 \"9\",\",\",\".\"):  \n",
    "                continue                           \n",
    "            for i in range (len(row)):                               \n",
    "                X = []                                              \n",
    "                tableau.append(X)                                    \n",
    "                tableau[i].append(float(row[i].replace(\",\",'.')))                                                           \n",
    "            break                         \n",
    "        for row in rfichier:              \n",
    "            for i in range (len(row)):\n",
    "                tableau[i].append(float(row[i].replace(\",\",'.')))     \n",
    "        return (tableau)"
   ]
  },
  {
   "cell_type": "code",
   "execution_count": 4,
   "metadata": {},
   "outputs": [
    {
     "name": "stdout",
     "output_type": "stream",
     "text": [
      "[0.0, 0.04, 0.08, 0.12, 0.16, 0.2, 0.24, 0.28, 0.32, 0.36, 0.4, 0.44, 0.48, 0.52, 0.56, 0.6, 0.64, 0.68, 0.72]\n",
      "[-0.002808944, 0.064605722, 0.140447222, 0.213479777, 0.286512333, 0.362353832, 0.435386388, 0.514036832, 0.584260443, 0.662910887, 0.738752387, 0.814593887, 0.890435386, 0.966276886, 1.039309442, 1.115150941, 1.190992441, 1.269642885, 1.339866496]\n",
      "[0.0, 0.143256166, 0.266849722, 0.376398555, 0.471902665, 0.553362054, 0.617967776, 0.665719832, 0.693809276, 0.713471887, 0.713471887, 0.69661822, 0.660101943, 0.617967776, 0.553362054, 0.469093721, 0.37358961, 0.261231833, 0.134829333]\n"
     ]
    }
   ],
   "source": [
    "# Le début du chemin n'a pas besoin d'être spécifié si le fichier \n",
    "# .csv se trouve dans le même dossier que ce fichier notebook\n",
    "\n",
    "tableau = charge_fichier_csv('09-fichiers-csv-parabole.csv')\n",
    "t=tableau[0]\n",
    "print(t)\n",
    "x=tableau[1]\n",
    "print(x)\n",
    "y=tableau[2]\n",
    "print(y)"
   ]
  },
  {
   "cell_type": "markdown",
   "metadata": {},
   "source": [
    "**WARNING : subtilité pour le jupyter ENT Nero 2018**\n",
    "\n",
    "Même si vous avez mis vos fichiers CSV dans le même répertoire que votre fichier ipynb dans votre espace \"Mes documents\" de l'ENT, l'importation des données csv ne fonctionnera pas (en passant, l'affichage des images de ce notebook non plus, d'ailleurs..)\n",
    "\n",
    "En fait sur cette version 2018, lors de l'exécution d'un notebook ipython, l'ENT copie ce fichier dans un répertoire temporaire vide... donc raté pour les fichers CSV.\n",
    "\n",
    "![Fichiers dans le même répertoire](09-fichiers-csv-nero-jupyter-1.png)\n",
    "\n",
    "Il existe une solution qui ressemble un peu à un bricolage, mais qui fonctionne en attendant 2019 :\n",
    "\n",
    "- dans le notebook jupyter, cliquer sur \"Fichier > Ouvrir\"\n",
    "- le répertoire de travail de votre notebook apparaît alors dans un onglet séparé\n",
    "- vous pouvez alors y placer votre fichier csv avec le bouton \"Upload\"\n",
    "\n",
    "![Mettre le fichier dans le répertoire de travail - étape 1](09-fichiers-csv-nero-jupyter-2.png)\n",
    "\n",
    "![Mettre le fichier dans le répertoire de travail - étape 2](09-fichiers-csv-nero-jupyter-3.png)\n",
    "\n",
    "\n",
    "\n"
   ]
  },
  {
   "cell_type": "markdown",
   "metadata": {},
   "source": [
    "Cette difficulté devrait ne plus exister à la rentrée 2019."
   ]
  }
 ],
 "metadata": {
  "celltoolbar": "Format de la Cellule Texte Brut",
  "kernelspec": {
   "display_name": "Python 3",
   "language": "python",
   "name": "python3"
  },
  "language_info": {
   "codemirror_mode": {
    "name": "ipython",
    "version": 3
   },
   "file_extension": ".py",
   "mimetype": "text/x-python",
   "name": "python",
   "nbconvert_exporter": "python",
   "pygments_lexer": "ipython3",
   "version": "3.6.7"
  }
 },
 "nbformat": 4,
 "nbformat_minor": 2
}

{
 "cells": [
  {
   "cell_type": "markdown",
   "metadata": {},
   "source": [
    "# Les tests en python\n",
    "\n",
    "(code sous licence creative commun CC BY-NC-SA BY Alexis Dendiével)\n",
    "\n",
    "## utilité des tests\n",
    "Les tests constituent, avec les boucles, l'une des bases fondamentales de la programmation.\n",
    "Régulièrement en effet, nous devons faire des tests afin de dérouler l'algorythme.\n",
    "\n",
    "- Si telle condition est vrai \n",
    "    alors faire ceci \n",
    "- sinon \n",
    "    faire cela\n",
    "\n",
    "Un exemple d'algorythme:"
   ]
  },
  {
   "cell_type": "code",
   "execution_count": 11,
   "metadata": {},
   "outputs": [
    {
     "name": "stdout",
     "output_type": "stream",
     "text": [
      "n est inférieur ou égal à 3\n"
     ]
    }
   ],
   "source": [
    "n = 2\n",
    "if n > 3:\n",
    "    print(\"n est supérieur à 3\")\n",
    "else:\n",
    "    print(\"n est inférieur ou égal à 3\")"
   ]
  },
  {
   "cell_type": "markdown",
   "metadata": {},
   "source": [
    "Un exemple lié à la classification périodique des éléments:\n",
    "    On se propose de savoir si l'élément, défini par son numéro atomique, apparient ou non aux trois premières linges de la classification"
   ]
  },
  {
   "cell_type": "code",
   "execution_count": 2,
   "metadata": {},
   "outputs": [
    {
     "name": "stdout",
     "output_type": "stream",
     "text": [
      "entrer le numéro atomique de l'élément: 20\n",
      "cet élément ne fait pas partie des trois premières lignes de la classification\n"
     ]
    }
   ],
   "source": [
    "# premier test\n",
    "\n",
    "# demander le numéro atomique\n",
    "Z = int(input(\"entrer le numéro atomique de l'élément: \"))\n",
    "\n",
    "# test vérifiant si l'élément fait partie des trois premières lignes\n",
    "if Z<= 18:\n",
    "    print(\"cet élément fait partie des trois premières lignes de la classification\")\n",
    "else:\n",
    "    print(\"cet élément ne fait pas partie des trois premières lignes de la classification\")"
   ]
  },
  {
   "cell_type": "markdown",
   "metadata": {},
   "source": [
    "La syntaxe traduit l'algorythme en langage python:\n",
    "\n",
    "prenons un exemple plus conséquent afin de voir l'utilité du test if en contexte. Il s'agit d'un programme calculant les forces électromagnétiques et gravitationnelles, et les comparant. A la lecture du programme, vous trouverez deux tests:\n",
    "- le premier donne le côté attractif ou répulsif de la force électromagnétique\n",
    "- le second compare les deux forces afin de définir la prédominance"
   ]
  },
  {
   "cell_type": "code",
   "execution_count": 9,
   "metadata": {},
   "outputs": [
    {
     "name": "stdout",
     "output_type": "stream",
     "text": [
      "nous nous nous proposons de comparer les valeurs des forces de gravitation et électromagnétiques pour deux objets A et B\n",
      "Entrer la valeur de la masse m1 (en kg): 1\n",
      "Entrer la valeur la charge q1 en multiple de e, la charge élémentaire :1\n",
      "Entrer la valeur de la masse m2 (en kg): 1\n",
      "Entrer la valeur la charge q1 en multiple de e, la charge élémentaire :1\n",
      "Entrer la distance (en mètre) séparant m1 et m2 1\n",
      "la valeur de la force de gravitation est:          6.67e-11  N\n",
      "cette force est attractive\n",
      "la valeur de la force électromagnétique est:       2.30e-28  N\n",
      "cette force est répulsif\n",
      "la force de gravitation est prépondérante\n",
      "le rapport de ces deux forces est:                 2.89e+17\n"
     ]
    }
   ],
   "source": [
    "# comparaison des forces de gravitation et électromagnétique\n",
    "# entre deux masses m1 et m2 de charge q1 et q2 séparées d'une distance d\n",
    "\n",
    "# les constantes utilisées\n",
    "G = 6.67e-11\n",
    "k = 9.0e9\n",
    "e = 1.6e-19\n",
    "\n",
    "# présentation du programme\n",
    "print(\"nous nous nous proposons de comparer les valeurs des forces de gravitation et électromagnétiques pour deux objets A et B\")\n",
    "\n",
    "# entrée des données\n",
    "m1 = float(input('Entrer la valeur de la masse m1 (en kg): '))\n",
    "e1 = float(input('Entrer la valeur la charge q1 en multiple de e, la charge élémentaire :'))\n",
    "m2 = float(input('Entrer la valeur de la masse m2 (en kg): '))\n",
    "e2 = float(input('Entrer la valeur la charge q1 en multiple de e, la charge élémentaire :'))\n",
    "d = float(input('Entrer la distance (en mètre) séparant m1 et m2 '))\n",
    "\n",
    "# caractère attractif ou répulsif\n",
    "if e1*e2 > 0:\n",
    "    caractere = \"répulsif\"\n",
    "else:\n",
    "    caractere = \"attractif\"\n",
    "\n",
    "# calcul des forces\n",
    "FG = G*m1*m2/d**2\n",
    "FE = abs(k*e*e1*e*e2/d**2)\n",
    "\n",
    "# comparaison des forces\n",
    "if FG > FE:\n",
    "    preponderant = \"force de gravitation\"\n",
    "    comparaison = FG/FE\n",
    "else:\n",
    "    preponderant = \"force électromagnétique\"\n",
    "    comparaison = FE/FG\n",
    "\n",
    "# impression des résultats\n",
    "\n",
    "print('{:50}'.format(\"la valeur de la force de gravitation est: \"), \"{0:.2e}\".format(FG), ' N')\n",
    "print(\"cette force est attractive\")\n",
    "print('{:50}'.format(\"la valeur de la force électromagnétique est: \"), \"{0:.2e}\".format(FE), ' N')\n",
    "print(\"cette force est\", caractere)\n",
    "print(\"la\", preponderant, \"est prépondérante\")\n",
    "print('{:50}'.format(\"le rapport de ces deux forces est: \"),\"{0:.2e}\".format(comparaison))\n"
   ]
  },
  {
   "cell_type": "markdown",
   "metadata": {},
   "source": [
    "Plusieurs points:\n",
    "- Dans ces exemples, le else n'est en rien obligatoire.\n",
    "- on souhaite parfois faire plusieurs tests imbriqués, on utilise pour cela l'instruction elif (else if)\n"
   ]
  },
  {
   "cell_type": "code",
   "execution_count": 13,
   "metadata": {},
   "outputs": [
    {
     "name": "stdout",
     "output_type": "stream",
     "text": [
      "entrer le numéro atomique de l'élément: 4\n",
      "cet élément fait partie de la deuxième ligne de la classification\n"
     ]
    }
   ],
   "source": [
    "# test imbriqué\n",
    "\n",
    "# demander le numéro atomique\n",
    "Z = int(input(\"entrer le numéro atomique de l'élément: \"))\n",
    "\n",
    "# test vérifiant si l'élément fait partie des trois premières lignes\n",
    "if Z<= 2:\n",
    "    print(\"cet élément fait partie de la première ligne de la classification\")\n",
    "elif Z <=10:\n",
    "    print(\"cet élément fait partie de la deuxième ligne de la classification\")\n",
    "elif Z <=18:\n",
    "    print(\"cet élément fait partie de la troisième ligne de la classification\")\n",
    "else:\n",
    "    print(\"cet élément ne fait pas partie des trois premières lignes de la classification\")"
   ]
  },
  {
   "cell_type": "markdown",
   "metadata": {},
   "source": [
    "Quelques compléments:\n",
    "    - le test égal se note ==\n",
    "    - pour des instructions simples, on peut utiliser la forme compacte"
   ]
  },
  {
   "cell_type": "code",
   "execution_count": 16,
   "metadata": {},
   "outputs": [
    {
     "name": "stdout",
     "output_type": "stream",
     "text": [
      "entrer le nombre x 3\n",
      "3.0\n"
     ]
    }
   ],
   "source": [
    "# on demande une valeur pour x\n",
    "x = float(input(\"entrer le nombre x \"))\n",
    "\n",
    "# test avec instruction unique\n",
    "if x>0: print(x)"
   ]
  },
  {
   "cell_type": "code",
   "execution_count": null,
   "metadata": {},
   "outputs": [],
   "source": []
  }
 ],
 "metadata": {
  "kernelspec": {
   "display_name": "Python 3",
   "language": "python",
   "name": "python3"
  },
  "language_info": {
   "codemirror_mode": {
    "name": "ipython",
    "version": 3
   },
   "file_extension": ".py",
   "mimetype": "text/x-python",
   "name": "python",
   "nbconvert_exporter": "python",
   "pygments_lexer": "ipython3",
   "version": "3.7.1"
  }
 },
 "nbformat": 4,
 "nbformat_minor": 2
}

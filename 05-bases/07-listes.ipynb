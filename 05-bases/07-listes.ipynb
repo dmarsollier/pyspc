{
 "cells": [
  {
   "cell_type": "markdown",
   "metadata": {},
   "source": [
    "# Les listes\n",
    "\n",
    "code sous licence creative commun CC BY-NC-SA    BY Dominique Devedeux"
   ]
  },
  {
   "cell_type": "raw",
   "metadata": {
    "raw_mimetype": "text/restructuredtext"
   },
   "source": [
    ":download:`Télécharger le pdf <https://gitlab.com/pyspc/pyspc/raw/master/05-bases/07-listes.pdf>`\n",
    "\n",
    ":download:`Télécharger le notebook <https://gitlab.com/pyspc/pyspc/raw/master/05-bases/07-listes.ipynb>`\n",
    "\n",
    ":download:`Lancer le notebook sur binder (lent) <https://mybinder.org/v2/gl/pyspc%2Fpyspc/master?filepath=05-bases%2F07-listes.ipynb>`"
   ]
  },
  {
   "cell_type": "markdown",
   "metadata": {},
   "source": [
    "Comme son nom l’indique, une liste permet de lister différents éléments. \n",
    "\n",
    "Les éléments d’une liste :\n",
    "\n",
    "- s’écrivent entre crochets, \n",
    "- sont séparés par une virgule,\n",
    "- peuvent être de nature différente (chaine de caractères, nombre entier, nombre réel,...)\n",
    "- sont repérés par leur position dans la chaîne, appelée indice.\n",
    "\n",
    "**ATTENTION : le premier indice d'une liste a pour valeur 0 !**\n",
    "\n",
    "Remarque sur l'organisation de ce fichier noteboook : très souvent, les cellules fonctionnent par paire; elles portent alors le même titre. La première cellule explique le cours et la suivante est une cellule de codes illustrant le cours. "
   ]
  },
  {
   "cell_type": "markdown",
   "metadata": {},
   "source": [
    "Remarque supplémentaire : \n",
    "\n",
    "Il existe des listes non modifiables appelées n-uplets (ou tuple en anglais).\n",
    "\n",
    "Toutes les méthodes ou fonctions décrites ci-dessous et permettant de modifier les éléments d'une liste ne sont bien sûr pas applicables à un n-uplet, puisque, par définition, un n-uplet n'est pas modifiable."
   ]
  },
  {
   "cell_type": "markdown",
   "metadata": {},
   "source": [
    "## Créer des listes\n",
    "\n",
    "*L = [5,2,8,17,6,14]*           \n",
    "\n",
    "Crée une liste nommée L contenant les éléments 5, 2, 8, 17, 6 et 14.\n",
    " \n",
    "L'initialisation d'un n-uplet s'effectue différemment.\n",
    "Il faut écrire les éléments entre parenthèses et non pas entre crochets comme pour les listes.\n",
    "\n",
    "*upl=(1,'a',3)*           \n",
    "\n",
    "Le n-uplet nommé upl contient les éléments 1, a et 3."
   ]
  },
  {
   "cell_type": "code",
   "execution_count": 10,
   "metadata": {},
   "outputs": [
    {
     "name": "stdout",
     "output_type": "stream",
     "text": [
      "[5, 2, 8, 17, 6, 14]\n",
      "(1, 'a', 3)\n"
     ]
    }
   ],
   "source": [
    "# Plusieurs manières de créer des listes\n",
    "\n",
    "L = [5,2,8,17,6,14] \n",
    "print(L)\n",
    "upl=(1,'a',3)\n",
    "print(upl)"
   ]
  },
  {
   "cell_type": "markdown",
   "metadata": {},
   "source": [
    "## Récupérer les éléments d'une liste\n",
    "\n",
    "ATTENTION : l'accès à un élément d'un n-uplet par indice s'effectue grâce à des crochets comme pour les listes.\n",
    "\n",
    "Nous allons travailler sur l'exemple de la liste créée ci-dessus :\n",
    "\n",
    "    L[0]           renvoie le premier élément, ici 5\n",
    "    L[2]           renvoie l'élément d'indice 2 (en 3ème position donc), ici 8\n",
    "    L[-1]          renvoie le dernier élément, ici 14\n",
    "    L[-2]          renvoie l'avant-dernier élément, ici 6\n",
    "    L[1:3]         renvoie les éléments d'indice 1 et 2  (ATTENTION : indice 3 non inclus)\n",
    "    L[3:]          renvoie les éléments dont les indices sont supérieurs à 3.\n",
    "    L[:4]          renvoie les éléments dont les indices ont pour valeur : 0, 1, 2 et 3.\n",
    "    len(L)         renvoie la longueur de la liste, ici 6    \n",
    "    L1 = []\t       crée une liste vide"
   ]
  },
  {
   "cell_type": "code",
   "execution_count": 5,
   "metadata": {},
   "outputs": [
    {
     "name": "stdout",
     "output_type": "stream",
     "text": [
      "[5, 2, 8, 17, 6, 14]\n",
      "5\n",
      "8\n",
      "14\n",
      "6\n",
      "[2, 8]\n",
      "[17, 6, 14]\n",
      "[5, 2, 8, 17]\n",
      "6\n",
      "3\n",
      "a\n",
      "[]\n"
     ]
    }
   ],
   "source": [
    "# Plusieurs manières de récupérer les éléments d'une liste \n",
    "# Applications\n",
    "\n",
    "L=[5,2,8,17,6,14]            # création d'une liste\n",
    "upl=(1,'a',3)                #  création d'un n-uplet\n",
    "print(L)\n",
    "print(L[0])\n",
    "print(L[2])\n",
    "print(L[-1])\n",
    "print(L[-2])\n",
    "print(L[1:3])\n",
    "print(L[3:])\n",
    "print(L[:4])\n",
    "print(len(L))\n",
    "print(len(upl))\n",
    "print(upl[1])\n",
    "L1=[]\n",
    "print(L1)"
   ]
  },
  {
   "cell_type": "markdown",
   "metadata": {},
   "source": [
    "## Ajouter une valeur ou supprimer une valeur d'une liste\n",
    "\n",
    "*Les méthodes modifient les listes et leur syntaxe est toujours similaire :  L.méthode()*"
   ]
  },
  {
   "cell_type": "code",
   "execution_count": 1,
   "metadata": {},
   "outputs": [
    {
     "name": "stdout",
     "output_type": "stream",
     "text": [
      "[5, 2, 8, 17, 6, 14]\n",
      "[5, 2, 8, 17, 6, 14, 20]\n",
      "[5, 2, 20, 8, 17, 6, 14, 20]\n",
      "[5, 2, 8, 17, 6, 14, 20]\n",
      "[5, 2, 8, 17, 6, 14]\n"
     ]
    }
   ],
   "source": [
    "# PLusieurs méthodes pour ajouter une valeur ou supprimer des valeurs d'une liste \n",
    "#(cours et applications)\n",
    "\n",
    "L=[5,2,8,17,6,14]\n",
    "print(L)\n",
    "L.append(20)                 # Ajoute l’élément 20 à la fin de la liste L.\n",
    "print(L)\n",
    "L.insert(2,20)               # Insère l’élément 20 à la position d'indice 2 \n",
    "print(L)                     #... (donc en troisième position) de la liste L.\n",
    "L.remove(20)                 # Supprime la première occurrence (apparition) \n",
    "print(L)                     #...de l’élément 20 dans la liste L.\n",
    "L.pop(-1)                    # Supprime l’élément d’indice -1 \n",
    "print(L)                     #... (donc le dernier élément) de la liste L."
   ]
  },
  {
   "cell_type": "markdown",
   "metadata": {},
   "source": [
    "## Analyser le contenu d'une liste\n",
    "\n",
    "*Les fonctions ne modifient pas les listes et leur syntaxe est toujours similaire : fonction(L)*\n",
    "\n",
    "*Les méthodes modifient les listes et leur syntaxe est toujours similaire :  L.méthode()*\n",
    "\n",
    "- min(L) :             Renvoie le plus petit élément de la liste L.\n",
    "\n",
    "- max(L) :             Renvoie le plus grand élément de la liste L.\n",
    "\n",
    "- sorted(L)  :         Renvoie une copie triée de la liste contenant les éléments de la liste L rangés par ordre croissant ou alphabétique. MAIS, la liste L n'est pas modifiée !\n",
    "\n",
    "- sorted(L,reverse=True)  :         Renvoie une copie triée de la liste contenant les éléments de la liste L rangés par ordre décroissant ou inverse du sens alphabétique. MAIS, la liste L n'est pas modifiée !\n",
    "\n",
    "- L.sort() :          Modifie la liste L qui dorénavant contiendra les éléments triés (mais ne la renvoie pas). \n",
    "\n",
    "Remarque : sort() est une méthode et non une fonction... D'où sa syntaxe différente.\n",
    "\n",
    "- choice(L) :        Renvoie en choisissant au hasard un élément de la liste L. Cette fonction appartient au module random.\n",
    "\n",
    "- sample(L,3) :      Retourne une liste de 3 éléments choisis aléatoirement et sans remise dans la liste L. Cette fonction appartient au module random."
   ]
  },
  {
   "cell_type": "code",
   "execution_count": 7,
   "metadata": {},
   "outputs": [
    {
     "name": "stdout",
     "output_type": "stream",
     "text": [
      "L =  [5, 2, 8, 17, 6, 14]\n",
      "2\n",
      "17\n",
      "la liste Ltrie_endroit est une copie triée de L :   [2, 5, 6, 8, 14, 17]\n",
      "Comme vous pouvez le constater, la liste L n'est pas modifiée     L = :  [5, 2, 8, 17, 6, 14]\n",
      "la liste Ltrie_envers est une copie triée de L :   [17, 14, 8, 6, 5, 2]\n",
      "Comme vous pouvez le constater, la liste L n'est pas modifiée :  L = [5, 2, 8, 17, 6, 14]\n",
      "Comme vous pouvez le constater, la liste L est modifiée :  L = [2, 5, 6, 8, 14, 17]\n",
      "6\n",
      "[2, 17, 5]\n"
     ]
    }
   ],
   "source": [
    "# Quelques fonctions permettant d'analyser le contenu d'une liste\n",
    "# Applications\n",
    "\n",
    "from random import choice, sample         \n",
    "# Les fonctions sample et choice appartiennent à la bibliothèque random\n",
    "\n",
    "L=[5,2,8,17,6,14]\n",
    "print(\"L = \",L)\n",
    "print(min(L))       \n",
    "print(max(L)) \n",
    "Ltrie_endroit=sorted(L)\n",
    "print(\"la liste Ltrie_endroit est une copie triée de L :  \",Ltrie_endroit) \n",
    "print(\"Comme vous pouvez le constater, la liste L n'est pas modifiée : L = : \",L)\n",
    "Ltrie_envers=sorted(L,reverse=True)\n",
    "print(\"la liste Ltrie_envers est une copie triée de L :  \",Ltrie_envers) \n",
    "print(\"Comme vous pouvez le constater, la liste L n'est pas modifiée : L =\",L)\n",
    "L.sort()\n",
    "print(\"Comme vous pouvez le constater, la liste L est modifiée : L =\",L)\n",
    "print(choice(L))     \n",
    "print(sample(L,3))   "
   ]
  },
  {
   "cell_type": "markdown",
   "metadata": {},
   "source": [
    "## Parcourir le contenu d'une liste\n",
    "\n",
    "La boucle « for » est particulièrement bien adaptée aux listes de valeurs. \n",
    "\n",
    "Soit L une liste de longueur n :\n",
    "\n",
    "$\\rightarrow$ Si on a besoin de parcourir une liste élément par élément grâce à leur indice pour ensuite utiliser une instruction faisant intervenir cet indice, on utilise l’instruction : **for i in range(0, len(L)) :**\n",
    "\n",
    "la variable i (qui représente l'indice d'un élément) prendra les valeurs de 0 à len(L)-1 soit de 0 à n-1\n",
    "\n",
    "$\\rightarrow$ Si on a besoin de parcourir une liste, élément par élément, en nous intéressant uniquement à leur valeur pour ensuite utiliser une instruction permettant de travailler sur ces valeurs, on peut utiliser l’instruction : **for x in L :** \n",
    "\n",
    "la variable x prendra l'une après l'autre toutes les valeurs de la liste L.\n",
    "\n",
    "Remarque 1: On peut toujours utiliser la première instruction à la place de la deuxième, mais pas l’inverse !\n",
    "\n",
    "Remarque 2: les lettres i, j et k sont traditionnellement utilisées pour désigner les indices alors que les autres lettres désignent des variables. Par exemple, ici, la lettre x parcourt les valeurs de L.\n"
   ]
  },
  {
   "cell_type": "code",
   "execution_count": 10,
   "metadata": {},
   "outputs": [
    {
     "name": "stdout",
     "output_type": "stream",
     "text": [
      "premier exemple :\n",
      "5\n",
      "8\n",
      "6\n",
      "second exemple :\n",
      "8\n",
      "17\n",
      "14\n"
     ]
    }
   ],
   "source": [
    "#Comment parcourir le contenu d'une liste : applications de base\n",
    "\n",
    "L=[5,2,8,17,6,14]\n",
    "print(\"premier exemple :\") \n",
    "for i in range(0,len(L)):    \n",
    "# i sera égal à tous les indices de la liste (ici de 0 à 5)\n",
    "    if i%2==0 :  print(L[i])      \n",
    "# test permettant de sélectionner les indices i pairs \n",
    "#...(reste de la division de i par 2 vaut 0)\n",
    "         \n",
    "print(\"second exemple :\")    \n",
    "for x in L :    \n",
    "# x balaye toutes les valeurs de la liste (ici 5, puis 2,...)\n",
    "    if x > 7:\n",
    "        print(x)"
   ]
  },
  {
   "cell_type": "code",
   "execution_count": 8,
   "metadata": {},
   "outputs": [
    {
     "name": "stdout",
     "output_type": "stream",
     "text": [
      "premier exemple :\n",
      "[6, 3, 9, 18, 7, 15]\n",
      "second exemple :\n",
      " s intermédiaire :  5\n",
      " s intermédiaire :  7\n",
      " s intermédiaire :  15\n",
      " s intermédiaire :  32\n",
      " s intermédiaire :  38\n",
      " s intermédiaire :  52\n",
      " Somme finale :  52\n",
      "le nombre 8 est présent dans la liste\n"
     ]
    }
   ],
   "source": [
    "#Comment parcourir le contenu d'une liste : applications plus poussées\n",
    "\n",
    "print(\"premier exemple :\") \n",
    "L=[5,2,8,17,6,14]\n",
    "for i in range (0,len(L)):\n",
    "    L[i] = L[i] + 1   # on additionne 1 à chaque valeur de la liste\n",
    "print(L)\n",
    "\n",
    "print(\"second exemple :\")  \n",
    "L=[5,2,8,17,6,14]\n",
    "# création d'une nouvelle variable s qui est initialisée à 0\n",
    "s = 0               \n",
    "for x in L :\n",
    "    s = s + x       \n",
    "# après le premier passage dans la boucle, s sera égal à\n",
    "# ...son ancienne valeur (0) additionné à x\n",
    "    print (\" s intermédiaire : \", s)     \n",
    "print (\" Somme finale : \", s)\n",
    "\n",
    "# test pour savoir si la valeur 8 est dans la liste\n",
    "if 8 in L : print(\"le nombre 8 est présent dans la liste\")    \n",
    "else : print(\"le nombre 8 n'est pas présent dans la liste\")   "
   ]
  },
  {
   "cell_type": "markdown",
   "metadata": {},
   "source": [
    "## Concaténation de listes\n",
    "\n",
    "On peut concaténer (mettre bout à bout) des listes, et ce, de plusieurs manières différentes.\n",
    "\n",
    "En voici quelques exemples :   (L1, L2 et L sont des listes)\n",
    "\n",
    "L = 3 * L1  : L sera une liste contenant les éléments de L1, répétés 3 fois. Elle sera donc trois fois plus longue.\n",
    "\n",
    "L = L1 + L2 :   L sera la concaténation de L1 et L2. elle contiendra d'abord les éléments de L1, puis ceux de L2"
   ]
  },
  {
   "cell_type": "code",
   "execution_count": 14,
   "metadata": {},
   "outputs": [
    {
     "name": "stdout",
     "output_type": "stream",
     "text": [
      "[1, 2, 3]\n",
      "[1, 2, 3, 1, 2, 3, 1, 2, 3]\n",
      "[1, 2, 3, 4, 5, 6]\n"
     ]
    }
   ],
   "source": [
    "# Opérations mathématiques sur les listes : applications\n",
    "L1=[1,2,3]\n",
    "L2=[4,5,6]\n",
    "L=3*L1\n",
    "print(L1)\n",
    "print(L)\n",
    "L=L1+L2\n",
    "print(L)"
   ]
  },
  {
   "cell_type": "markdown",
   "metadata": {},
   "source": [
    "## Conversion d'une chaîne de caractères vers une liste de caractères ou l'inverse\n",
    "\n",
    "$\\rightarrow$ D'une chaîne de caractères vers une liste de caractères\n",
    "\n",
    "    ch='ISN'  :     Création d'une chaîne de caractères nommée ch \n",
    "                    et assignation de cette chaîne avec les caractères ISN\n",
    "\n",
    "    list(ch)  :     Convertit la chaîne de caractères ch en liste de caractères    \n",
    "\n",
    "$\\rightarrow$ D'une liste de caractères vers une chaîne de caractères\n",
    "\n",
    "Attention : la liste doit être forcément constituée de caractères\n",
    "\n",
    "    L = ['I','S','N']  :   crée une liste contenant 3 éléments de type caractère\n",
    "    'sep'.join(L)  :  renvoie une chaîne de caractères obtenue en concaténant les \n",
    "                      éléments de la liste L séparés par le séparateur sep."
   ]
  },
  {
   "cell_type": "code",
   "execution_count": 9,
   "metadata": {},
   "outputs": [
    {
     "name": "stdout",
     "output_type": "stream",
     "text": [
      "ISN\n",
      "['I', 'S', 'N']\n",
      "['I', 'S', 'N']\n",
      "I-S-N\n"
     ]
    }
   ],
   "source": [
    "ch='ISN'                   \n",
    "chbis=list(ch)  \n",
    "print(ch)\n",
    "print(chbis)    \n",
    "\n",
    "L=['I','S','N']\n",
    "chter='-'.join(L)      # ici le séparateur est un tiret -\n",
    "print(L)\n",
    "print(chter)"
   ]
  },
  {
   "cell_type": "markdown",
   "metadata": {},
   "source": [
    "## Listes de listes (tableaux)\n",
    "\n",
    "Nous allons travailler sur un nouvel exemple\n",
    "\n",
    "    tableau = [['Anne','Tom','Léo','Eva'], [6,7,8,9],[10,20,30,40]]  :  \n",
    "    crée un tableau contenant 3 listes de 4 éléments chacune\n",
    "    \n",
    "    Tableau[0]                       # renvoie la première liste\n",
    "    Tableau[i][j]                    # renvoie le jème élément de la ième liste\n"
   ]
  },
  {
   "cell_type": "code",
   "execution_count": 1,
   "metadata": {},
   "outputs": [
    {
     "name": "stdout",
     "output_type": "stream",
     "text": [
      "[['Anne', 'Tom', 'Léo', 'Eva'], [6, 7, 8, 9], [10, 20, 30, 40]]\n",
      "['Anne', 'Tom', 'Léo', 'Eva']\n",
      "Anne\n",
      "8\n",
      "40\n",
      "10\n"
     ]
    }
   ],
   "source": [
    "# On peut créer des listes de listes (donc un tableau !)\n",
    "\n",
    "tableau = [['Anne','Tom','Léo','Eva'], [6,7,8,9],[10,20,30,40]] \n",
    "print(tableau)\n",
    "print(tableau[0])\n",
    "print(tableau[0][0])\n",
    "print(tableau[1][2])\n",
    "print(tableau[-1][-1])\n",
    "print(tableau[-1][0])"
   ]
  }
 ],
 "metadata": {
  "celltoolbar": "Format de la Cellule Texte Brut",
  "kernelspec": {
   "display_name": "Python 3",
   "language": "python",
   "name": "python3"
  },
  "language_info": {
   "codemirror_mode": {
    "name": "ipython",
    "version": 3
   },
   "file_extension": ".py",
   "mimetype": "text/x-python",
   "name": "python",
   "nbconvert_exporter": "python",
   "pygments_lexer": "ipython3",
   "version": "3.6.7"
  }
 },
 "nbformat": 4,
 "nbformat_minor": 2
}

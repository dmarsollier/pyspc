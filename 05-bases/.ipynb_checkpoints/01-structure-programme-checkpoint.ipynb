{
 "cells": [
  {
   "cell_type": "markdown",
   "metadata": {},
   "source": [
    "# La structure d'un programme\n",
    "\n",
    "(code sous licence creative commun CC BY-NC-SA BY Alexis Dendiével)\n",
    "## structure général d'un programme\n",
    "\n",
    "elle correspond pour un programme simple au déroulé suivant\n",
    "\n",
    "- importation des bibliothèques\n",
    "- définition des constantes, des fonctions\n",
    "- appel des entrées\n",
    "- corps de programme\n",
    "- affichage des résultats.\n",
    "\n",
    "## l'importance du commentaire\n",
    "Les commentaires dans un programme sont d'une importance capitale. ils servent:\n",
    "- à l'auteur du programme \n",
    "- au lecteur du programme\n",
    "- à celui qui souhaite modifier le programme.\n",
    "\n",
    "Sans aucun impact sur l'execusion, ils gagnent à être le plus précis possible."
   ]
  },
  {
   "cell_type": "code",
   "execution_count": 1,
   "metadata": {},
   "outputs": [],
   "source": [
    "# ceci est un commentaire de programme"
   ]
  },
  {
   "cell_type": "markdown",
   "metadata": {},
   "source": [
    "Tout ce qui est précédé du signe # dans un programme est un commentaire. Voyons ceci sur un exemple:\n",
    "   \n",
    "   le programme suivant, calculant la force de gravitation entre deux masses m1 et m2 séparées d'une distance d, est donnée en version brute et en version commentée:"
   ]
  },
  {
   "cell_type": "code",
   "execution_count": 2,
   "metadata": {},
   "outputs": [
    {
     "name": "stdout",
     "output_type": "stream",
     "text": [
      "Entrer la valeur de la masse m1 (en kg): 1\n",
      "Entrer la valeur de la masse m2 (en kg): 1\n",
      "Entrer la distance (en mètre) séparant m1 et m2 1\n",
      "la valeur de la force de gravitation est:          6.67e-11  N\n"
     ]
    }
   ],
   "source": [
    "G = 6.67e-11\n",
    "print(\"nous nous nous proposons de calculer la force de gravitation s'exerçant entre deux masses m1 et m2 séparées d'une distance d\")\n",
    "m1 = float(input('Entrer la valeur de la masse m1 (en kg): '))\n",
    "m2 = float(input('Entrer la valeur de la masse m2 (en kg): '))\n",
    "d = float(input('Entrer la distance (en mètre) séparant m1 et m2 '))\n",
    "FG = G*m1*m2/d**2\n",
    "print('{:50}'.format(\"la valeur de la force de gravitation est: \"), \"{0:.2e}\".format(FG), ' N')"
   ]
  },
  {
   "cell_type": "code",
   "execution_count": 3,
   "metadata": {},
   "outputs": [
    {
     "name": "stdout",
     "output_type": "stream",
     "text": [
      "nous nous nous proposons de calculer la force de gravitation s'exerçant entre deux masses m1 et m2 séparées d'une distance d\n",
      "Entrer la valeur de la masse m1 (en kg): 1\n",
      "Entrer la valeur de la masse m2 (en kg): 1\n",
      "Entrer la distance (en mètre) séparant m1 et m2 1\n",
      "la valeur de la force de gravitation est:          6.67e-11  N\n"
     ]
    }
   ],
   "source": [
    "# programme calculant la force de gravitation entre deux masses m1 et m2 séparées par une distance d\n",
    "\n",
    "# la constantes utilisée\n",
    "G = 6.67e-11\n",
    "\n",
    "# présentation du programme\n",
    "print(\"nous nous nous proposons de calculer la force de gravitation s'exerçant entre deux masses m1 et m2 séparées d'une distance d\")\n",
    "\n",
    "# entrée des données\n",
    "m1 = float(input('Entrer la valeur de la masse m1 (en kg): '))\n",
    "m2 = float(input('Entrer la valeur de la masse m2 (en kg): '))\n",
    "d = float(input('Entrer la distance (en mètre) séparant m1 et m2 '))\n",
    "\n",
    "# calcul de la force\n",
    "FG = G*m1*m2/d**2\n",
    "\n",
    "# impression du résultat avec trois chiffres dsignificatifs.\n",
    "print('{:50}'.format(\"la valeur de la force de gravitation est: \"), \"{0:.2e}\".format(FG), ' N')\n"
   ]
  },
  {
   "cell_type": "markdown",
   "metadata": {},
   "source": [
    "Nous voyons dans cet exemple simple que la lecture du programme est beaucoup plus aisée avec les commentaires. De plus, le saut d'une ligne n'a aucun impact sur la programmation, et permet une plus grande lisibilité. \n",
    "\n",
    "Il est donc fortement recommandée de prendre le temps de commenter ses programmes.\n",
    "\n",
    "(Il en sera d'ailleurs de même pour les fonctions)"
   ]
  },
  {
   "cell_type": "markdown",
   "metadata": {},
   "source": [
    "## les noms de variable\n",
    "Rien ni personne n'oblige à utiliser tel ou tel nom de variable dans python. Ce langage étant orienté objet, la variable n'a pas à être défini au début du programme, elle pointe sur un objet et en présente les caractéristiques.\n",
    "\n",
    "Il est cependant fortement recommandé d'utiliser des noms de variables donnant sens au programme, pour plus de clarté envers les personnes susceptibles de le lire ou de le modifier. exemples:\n",
    "- \"atome\" plutôt que \"a\"\n",
    "- \"forcedegravitation\" plutôt que \"f\"\n",
    "- \"temps\" plutôt que \"t\"\n",
    "..."
   ]
  },
  {
   "cell_type": "markdown",
   "metadata": {},
   "source": [
    "## l'importance de l'indentation\n",
    "Un programme python n'a pas de code pour son début et sa fin. Sa structuration suit une indentation qui définit la structuration du programme.\n",
    "\n",
    "le \":\" après les instructions tabule automatiquement la ligne suivante.\n",
    "Pour une instruction else suivant un if par exemple, il faut revenir en arrière afin que la structure soit correcte et lisible."
   ]
  },
  {
   "cell_type": "code",
   "execution_count": 4,
   "metadata": {},
   "outputs": [
    {
     "name": "stdout",
     "output_type": "stream",
     "text": [
      "n est plus petit ou égal à 5\n"
     ]
    }
   ],
   "source": [
    "n = 3\n",
    "if n>5:\n",
    "    print(\"n est plus grand que 5\")\n",
    "else:\n",
    "    print(\"n est plus petit ou égal à 5\")"
   ]
  },
  {
   "cell_type": "markdown",
   "metadata": {},
   "source": [
    "Cette règle d'écriture structure le programme et demande de la rigueur. Il est par ailleurs fortement conseillé de ne pas faire des lignes de code trop grandes. Si celle-ci est importante, un passage à la ligne en milieu d'instruction donnera davantage de lisibilité au programme."
   ]
  },
  {
   "cell_type": "markdown",
   "metadata": {},
   "source": [
    "## quelques bibliothèques en python\n",
    "Même si la bibliothèque standard python est bien développée, certaines bibliothèques sont bien utiles:\n",
    "### numpy\n",
    "C'est une bibliothèque très utile pour les calculs numériques."
   ]
  },
  {
   "cell_type": "code",
   "execution_count": 4,
   "metadata": {},
   "outputs": [],
   "source": [
    "# importation de la bibliothèque numpy\n",
    "import numpy as np"
   ]
  },
  {
   "cell_type": "markdown",
   "metadata": {},
   "source": [
    "La bibliothèque de calcul, dont vous trouverez facilement les utilisations sur le net, est ici importée en début de programme sous le nom np."
   ]
  },
  {
   "cell_type": "code",
   "execution_count": 7,
   "metadata": {},
   "outputs": [
    {
     "name": "stdout",
     "output_type": "stream",
     "text": [
      "3.141592653589793\n",
      "0.7071067811865475\n",
      "0.7071067811865476\n"
     ]
    }
   ],
   "source": [
    "# quelques exemples de calcul\n",
    "print(np.pi)\n",
    "print (np.sin(np.pi/4))\n",
    "print (np.cos(np.pi/4))"
   ]
  },
  {
   "cell_type": "markdown",
   "metadata": {},
   "source": [
    "### matplotlib\n",
    "C'est une bibliothèque permettant de faire facilement des graphiques."
   ]
  },
  {
   "cell_type": "code",
   "execution_count": 9,
   "metadata": {},
   "outputs": [
    {
     "data": {
      "image/png": "[encoded data removed]",
      "text/plain": [
       "<Figure size 432x288 with 1 Axes>"
      ]
     },
     "metadata": {
      "needs_background": "light"
     },
     "output_type": "display_data"
    }
   ],
   "source": [
    "# programme de tracé simple avec des valeurs d'abscisse et d'ordonnée\n",
    "\n",
    "# importation de la bibliothèque matplotlib\n",
    "import matplotlib.pyplot as plt\n",
    "\n",
    "# initialisation des données\n",
    "x = (0,1,2,3,4,5)\n",
    "y = (2.1, 3.3, 4.2, 5.1, 6.3, 7.2)\n",
    "\n",
    "# affichage\n",
    "plt.plot(x, y)\n",
    "plt.grid()\n",
    "plt.xlabel(\"abscisse\")\n",
    "plt.ylabel(\"ordonnée\")\n",
    "plt.show()\n",
    "plt.close()"
   ]
  },
  {
   "cell_type": "markdown",
   "metadata": {},
   "source": [
    "### math\n",
    "C'est une bibliothèque qui permet de faire facilement les calculs mathématiques"
   ]
  },
  {
   "cell_type": "code",
   "execution_count": 18,
   "metadata": {},
   "outputs": [
    {
     "name": "stdout",
     "output_type": "stream",
     "text": [
      "-1.0\n",
      "2.23606797749979\n",
      "la valeur approchée du nombre d'or est 1.618033988749895\n"
     ]
    }
   ],
   "source": [
    "# importation de la bibliothèque math\n",
    "import math as math\n",
    "\n",
    "# quelques exemples\n",
    "print (math.cos(math.pi))\n",
    "print (math.sqrt(5))\n",
    "print (\"la valeur approchée du nombre d'or est\", (1+math.sqrt(5))/2)"
   ]
  },
  {
   "cell_type": "markdown",
   "metadata": {},
   "source": [
    "### random\n",
    "C'est une bibliothèque permettant de créer des nombres aléatoires"
   ]
  },
  {
   "cell_type": "code",
   "execution_count": 24,
   "metadata": {},
   "outputs": [
    {
     "name": "stdout",
     "output_type": "stream",
     "text": [
      "17\n",
      "88\n",
      "7\n",
      "35\n",
      "82\n",
      "13\n",
      "78\n",
      "93\n",
      "49\n",
      "44\n"
     ]
    }
   ],
   "source": [
    "# importation de la bibliothèque random\n",
    "import random as rd\n",
    "\n",
    "# impression de 10 nombres aléatoires compris entre 1 et 100\n",
    "for i in range (10):\n",
    "    print(rd.randint(1,100))"
   ]
  },
  {
   "cell_type": "markdown",
   "metadata": {},
   "source": [
    "### turtle\n",
    "Cette bibliothèque permet de tracer des graphiques en suivant la \"tortue, exemple\n"
   ]
  },
  {
   "cell_type": "code",
   "execution_count": 35,
   "metadata": {},
   "outputs": [],
   "source": [
    "# importation de la bibliothèque\n",
    "import turtle as tu\n",
    "\n",
    "tu.reset()\n",
    "tu.speed(1)\n",
    "for i in range(6) :\n",
    "  tu.fd(100)\n",
    "  tu.rt(360/6)"
   ]
  },
  {
   "cell_type": "markdown",
   "metadata": {},
   "source": [
    "liste non exaustive des fonctions turtle\n",
    "\n",
    "- fd(n)\tavance de n\n",
    "- bk(n)\trecule de n\n",
    "- rt(n)\ttourne à droite de n degrés\n",
    "- lt(n)\ttourne à gauche de n degrés\n",
    "- clear()\tefface l'écran\n",
    "- penup()\tlève le stylo\n",
    "- pendown()\tbaisse le stylo\n",
    "- reset()\tefface l'écran, remet la tortue au centre et réinitialise ses paramètres\n",
    "- showturtle()\tmontre la tortue\n",
    "- hideturtle()\tcache la tortue\n",
    "- speed(n)\tChange la vitesse de 1(lent) à 10 (rapide). La valeur spéciale 0 est la plus rapide.\n",
    "- tracer(n,d)\t\n",
    "- update()\tForce l'affichage des graphismes en attente\n",
    "- bye()\tReferme la fenêtre\n",
    "- setup(w,h)\tOuvre une fenêtre de taille wxh"
   ]
  },
  {
   "cell_type": "markdown",
   "metadata": {},
   "source": [
    "## conclusion\n",
    "Ce notebook donne les premiers conseils afin de structurer un programme python. Ce qu'il faut retenir, c'est la recherche de la clarté tant dans le code que dans les commentaires. "
   ]
  }
 ],
 "metadata": {
  "kernelspec": {
   "display_name": "Python 3",
   "language": "python",
   "name": "python3"
  },
  "language_info": {
   "codemirror_mode": {
    "name": "ipython",
    "version": 3
   },
   "file_extension": ".py",
   "mimetype": "text/x-python",
   "name": "python",
   "nbconvert_exporter": "python",
   "pygments_lexer": "ipython3",
   "version": "3.7.2"
  }
 },
 "nbformat": 4,
 "nbformat_minor": 2
}

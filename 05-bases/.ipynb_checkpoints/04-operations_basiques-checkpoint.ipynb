{
 "cells": [
  {
   "cell_type": "markdown",
   "metadata": {},
   "source": [
    "# Quelques opérations basiques en Python"
   ]
  },
  {
   "cell_type": "markdown",
   "metadata": {},
   "source": [
    "## quotient de la division euclidienne: //\n",
    "- exemple dans la cellule ci-dessous  exécuter 25//7"
   ]
  },
  {
   "cell_type": "code",
   "execution_count": 1,
   "metadata": {
    "scrolled": true
   },
   "outputs": [
    {
     "data": {
      "text/plain": [
       "3"
      ]
     },
     "execution_count": 1,
     "metadata": {},
     "output_type": "execute_result"
    }
   ],
   "source": [
    "25//7"
   ]
  },
  {
   "cell_type": "markdown",
   "metadata": {},
   "source": [
    "## Reste de la division euclidienne %\n",
    "- exécuter 25%7"
   ]
  },
  {
   "cell_type": "code",
   "execution_count": 2,
   "metadata": {},
   "outputs": [
    {
     "data": {
      "text/plain": [
       "4"
      ]
     },
     "execution_count": 2,
     "metadata": {},
     "output_type": "execute_result"
    }
   ],
   "source": [
    "25%7"
   ]
  },
  {
   "cell_type": "markdown",
   "metadata": {},
   "source": [
    "## puissance **\n",
    "- exécuter 3 ** 3"
   ]
  },
  {
   "cell_type": "code",
   "execution_count": 3,
   "metadata": {},
   "outputs": [
    {
     "data": {
      "text/plain": [
       "27"
      ]
     },
     "execution_count": 3,
     "metadata": {},
     "output_type": "execute_result"
    }
   ],
   "source": [
    "3**3 "
   ]
  },
  {
   "cell_type": "markdown",
   "metadata": {},
   "source": [
    "## racine carré\n",
    "importer la bibliothèque math"
   ]
  },
  {
   "cell_type": "code",
   "execution_count": 4,
   "metadata": {},
   "outputs": [
    {
     "data": {
      "text/plain": [
       "1.7320508075688772"
      ]
     },
     "execution_count": 4,
     "metadata": {},
     "output_type": "execute_result"
    }
   ],
   "source": [
    "from math import*\n",
    "sqrt(3)"
   ]
  },
  {
   "cell_type": "markdown",
   "metadata": {},
   "source": [
    "## Autres opérations mathématiques \n",
    "- importer la bibliothèque math\n",
    "- puis choisir l'opération mathématique désirée parmi:\n",
    "- sin\n",
    "- cos\n",
    "- log (correspond à Ln)\n",
    "- exp\n",
    "- abs (pour valeur absolue) \n",
    "- min\n",
    "- max\n",
    "- floor partie entière\n",
    "- random (à partir bibliothèque random ): génère un nombre aléatoire décimal entre 0 et 1\n",
    "\n",
    "## quelques tests\n",
    "- == vérifie une égalité\n",
    "- != différent\n",
    "- < inférieur\n",
    "\n",
    "\n",
    "## exemples\n",
    "\n",
    "- Les fonctions ci-dessus nécessitent d'appeler la bibliothèque math pour fonctionner. Pour cela il faut écrire en tête de programme la ligne from math import* comme le montrent les deux exemples ci-dessous:\n"
   ]
  },
  {
   "cell_type": "code",
   "execution_count": 5,
   "metadata": {},
   "outputs": [
    {
     "data": {
      "text/plain": [
       "1.7320508075688772"
      ]
     },
     "execution_count": 5,
     "metadata": {},
     "output_type": "execute_result"
    }
   ],
   "source": [
    "from math import*\n",
    "sqrt(3)"
   ]
  },
  {
   "cell_type": "code",
   "execution_count": 6,
   "metadata": {},
   "outputs": [
    {
     "data": {
      "text/plain": [
       "-0.9880316240928618"
      ]
     },
     "execution_count": 6,
     "metadata": {},
     "output_type": "execute_result"
    }
   ],
   "source": [
    "from math import*\n",
    "sin(30)\n",
    "# attention les angles sont en radian"
   ]
  },
  {
   "cell_type": "code",
   "execution_count": 7,
   "metadata": {},
   "outputs": [
    {
     "data": {
      "text/plain": [
       "2"
      ]
     },
     "execution_count": 7,
     "metadata": {},
     "output_type": "execute_result"
    }
   ],
   "source": [
    "from math import*\n",
    "log(10)\n",
    "abs(-2)"
   ]
  },
  {
   "cell_type": "markdown",
   "metadata": {},
   "source": [
    "## Opérateurs logiques\n",
    "\n",
    "Les opérateurs logiques ou opérateurs booléens correspondent aux opérations logiques suivantes:\n",
    "\n",
    "- et (and)\n",
    "- ou (or)\n",
    "- non (not)\n",
    "\n",
    "La réponse possible à ces différentes opérations est: vraie (1) ou fausse (0).\n",
    "L'exemple ci-dessous utilise l'opération \"ou\" pour déterminer si l'on peut calculer la somme de deux fractions dans un premier temps. Si la réponse est positive alors les valeurs du numérateur et du dénominateur sont affichées."
   ]
  },
  {
   "cell_type": "code",
   "execution_count": null,
   "metadata": {},
   "outputs": [],
   "source": [
    "a= int(input())\n",
    "b= int(input())\n",
    "c= int(input())\n",
    "d= int(input())\n",
    "if b==0 or d==0:\n",
    "    print(\"dénominateur nul interdit\")\n",
    "else:\n",
    "    print(a*d+c*d)\n",
    "    print (b*d)\n",
    "# pour exécuter le programme: entrer successivement les quatre valeurs choisies, le résultat s'affiche.\n"
   ]
  },
  {
   "cell_type": "code",
   "execution_count": null,
   "metadata": {},
   "outputs": [],
   "source": []
  }
 ],
 "metadata": {
  "kernelspec": {
   "display_name": "Python 3",
   "language": "python",
   "name": "python3"
  },
  "language_info": {
   "codemirror_mode": {
    "name": "ipython",
    "version": 3
   },
   "file_extension": ".py",
   "mimetype": "text/x-python",
   "name": "python",
   "nbconvert_exporter": "python",
   "pygments_lexer": "ipython3",
   "version": "3.6.7"
  }
 },
 "nbformat": 4,
 "nbformat_minor": 2
}

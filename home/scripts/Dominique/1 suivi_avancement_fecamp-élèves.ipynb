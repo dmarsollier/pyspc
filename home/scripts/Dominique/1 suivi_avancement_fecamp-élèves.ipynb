{
 "cells": [
  {
   "cell_type": "markdown",
   "metadata": {},
   "source": [
    "# Etude de l'évolution d'un système chimique \n",
    "\n",
    "Ce programme permet d'étudier l'évolution des quantités de matière des réactifs et produits d'une réaction dont l'équation est du type :\n",
    "\n",
    "aA + bB $\\rightarrow$   cC + dD\n",
    "\n",
    "où a, b, c et d sont les nombres stoechiométriques respectifs des espèces chimiques A, B, C et D.\n",
    "\n",
    "Le programme doit tout d'abord demander les valeurs des nombres stoechiométriques, pour ensuite demander les quantités de matière initiales des réactifs A et B et des produits C et D."
   ]
  },
  {
   "cell_type": "code",
   "execution_count": 1,
   "metadata": {},
   "outputs": [],
   "source": [
    "# Rattachement des librairies gérant les tracés de courbes et certains outils mathématiques \n",
    "import matplotlib.pyplot as plt\n",
    "import numpy as np"
   ]
  },
  {
   "cell_type": "code",
   "execution_count": 2,
   "metadata": {},
   "outputs": [],
   "source": [
    "# Il faut entrer ci-dessous les nombres stoechiométriques de l'équation étudiée\n",
    "a=0\n",
    "b=0\n",
    "c=0\n",
    "d=0"
   ]
  },
  {
   "cell_type": "code",
   "execution_count": 3,
   "metadata": {},
   "outputs": [
    {
     "name": "stdout",
     "output_type": "stream",
     "text": [
      "l'équation étudiée est du type :  1  A    +     1  B    -->      1  C      +     1  D\n"
     ]
    }
   ],
   "source": [
    "# Affichage de l'équation de la réaction\n",
    "print(\"l'équation étudiée est du type : \",a,\" A    +    \",b,\" B    -->     \",c,\" C      +    \",d,\" D\")"
   ]
  },
  {
   "cell_type": "code",
   "execution_count": 4,
   "metadata": {},
   "outputs": [],
   "source": [
    "#Il faut entrer ci-dessous les quantités de matière initiales des réactifs et des produits.\n",
    "nA_0 = 0\n",
    "nB_0 = 0\n",
    "nC_0 = 0\n",
    "nD_0 = 0"
   ]
  },
  {
   "cell_type": "code",
   "execution_count": 5,
   "metadata": {},
   "outputs": [],
   "source": [
    "#Initialisation des variables\n",
    "Rlimitant =''  # initialisation de la chaine de caractère correspondant au réactif limitant\n",
    "x=0            # avancement initial\n",
    "dx=0.001       #pas d'avancement\n",
    "nA=[nA_0]      # Initialisation des listes contenant les quantités de matière (donc on entre la valeur initiale dans  \n",
    "nB=[nB_0]      # la liste)\n",
    "nC=[nC_0]\n",
    "nD=[nD_0]\n",
    "X=[x]          # Initialisation de la liste contenant l'avancement"
   ]
  },
  {
   "attachments": {},
   "cell_type": "markdown",
   "metadata": {},
   "source": [
    "Les lignes de code suivantes permettent de déterminer le réactif limitant. Il faut d'abord réactualiser la quantité de matière nA. Il vous faudra suivre un raisonnement similaire pour réactualiser les quantités de matière nB, nC et nD. \n",
    "\n",
    "NOTE CODAGE : \n",
    "La fonction append sert à stocker chaque nouvelle valeur de quantité de matière dans les listes créées.\n",
    "La commande liste[-1]  permet d’appeler la dernière valeur dans une liste. "
   ]
  },
  {
   "cell_type": "code",
   "execution_count": null,
   "metadata": {},
   "outputs": [],
   "source": [
    "#Calculs des quantités de matière en cours d'avancement\n",
    "# Compléter les lignes de codes 8, 9 et 10 afin que le programme réactualise les listes nB, nC et nD \n",
    "# au sein de la boucle while.\n",
    "while nA[-1] > 0 and nB[-1] > 0:\n",
    "    x=x+dx\n",
    "    X.append(x)\n",
    "    nA.append(nA_0-a*x)\n",
    "    \n",
    "    \n",
    "    \n",
    "    \n",
    "#Détermination du réactif limitant \n",
    "# Compléter les tests des lignes de code 15 et 16 en choisissant parmi : <0, <=0, >0 et >=0. \n",
    "# Compléter la ligne de code 17 en choisissant l'opérateur logique adéquat parmi : and et or.\n",
    "    if nA[-1]            : Rlimitant = 'A'\n",
    "    if nB[-1]            : Rlimitant = 'B'\n",
    "    if nA[-1]<=0        nB[-1]<=0 : Rlimitant='A ET B : le mélange est stoechiometrique'\n",
    "        \n",
    "print('Le réactif limitant est ',Rlimitant,'\\n Avancement maximum : ',round(x,2),'mol' )\n",
    "#round permet d’afficher un nombre arrondi à 2 chiffres (ici)."
   ]
  },
  {
   "cell_type": "markdown",
   "metadata": {},
   "source": [
    "La ligne de code 3 ci-dessous permet d'afficher le graphe de l'évolution de la quantité de matière de A en fonction de l'avancement X. \n",
    "\n",
    "NOTE CODAGE : la commande plt.plot peut être enrichie de divers arguments (comme ici avec ro = cercle rouge) :\n",
    " \n",
    "•\tCouleur : r (red), k (black), b (blue), y (yellow), g (green)\n",
    "•\tMarqueur : o (gros point), - (ligne), . (pointillé), x (croix), s (square), v (triangle)\n",
    "lw signifie linewidth (largeur de la ligne)"
   ]
  },
  {
   "cell_type": "code",
   "execution_count": null,
   "metadata": {},
   "outputs": [],
   "source": [
    "#Compléter les lignes 4, 5 et 6 pour afficher les courbes correspondant aux évolutions de quantités \n",
    "# de matière des espèces chimiques B, C et D en fonction de l'avancement.   \n",
    "plt.plot(X,nA,'r-',lw=1,label='nA')\n",
    "    \n",
    "    \n",
    "    \n",
    "plt.grid()\n",
    "plt.xlabel('x (mol)')\n",
    "plt.ylabel('n (mol)')\n",
    "plt.legend()\n",
    "plt.show()"
   ]
  },
  {
   "cell_type": "markdown",
   "metadata": {},
   "source": [
    "Les lignes de code suivantes vont permettre de modéliser chacune de 4 droites obtenues sur le graphe ci-dessus.\n",
    "\n",
    "Ces droites sont de type linéaire ou affine et peuvent être modélisées avec un polynôme d'ordre 1 : mx+p (où x est à la puissance 1).\n",
    "\n",
    "Les résultats des quatre modélisations sont ensuite affichés pour analyse."
   ]
  },
  {
   "cell_type": "code",
   "execution_count": null,
   "metadata": {},
   "outputs": [],
   "source": [
    "#Compléter les lignes de code 4, 5 et 6 pour modéliser les courbes concernant l'évolution des quantités \n",
    "#de matière des espèces chimiques B, C et D.\n",
    "Amodel=np.polyfit(X, nA,1)\n",
    "\n",
    "\n",
    "\n",
    "print (\"la droite représentant l\"' évolution de nA en fonction de x a pour équation : nA =  %.f'%Amodel[0], 'x +  %.3f'%Amodel[1])\n",
    "print ('la droite représentant l'' évolution de nB en fonction de x a pour équation : nB =  %.f'%Bmodel[0], 'x +  %.3f'%Bmodel[1])\n",
    "print ('la droite représentant l'' évolution de nC en fonction de x a pour équation : nC =  %.f'%Cmodel[0], 'x +  %.3f'%Cmodel[1])\n",
    "print ('la droite représentant l'' évolution de nD en fonction de x a pour équation : nD =  %.f'%Dmodel[0], 'x +  %.3f'%Dmodel[1])"
   ]
  },
  {
   "cell_type": "markdown",
   "metadata": {},
   "source": [
    "Commenter les équations des courbes modélisées...."
   ]
  },
  {
   "cell_type": "markdown",
   "metadata": {},
   "source": []
  }
 ],
 "metadata": {
  "kernelspec": {
   "display_name": "Python 3",
   "language": "python",
   "name": "python3"
  },
  "language_info": {
   "codemirror_mode": {
    "name": "ipython",
    "version": 3
   },
   "file_extension": ".py",
   "mimetype": "text/x-python",
   "name": "python",
   "nbconvert_exporter": "python",
   "pygments_lexer": "ipython3",
   "version": "3.6.7"
  }
 },
 "nbformat": 4,
 "nbformat_minor": 2
}

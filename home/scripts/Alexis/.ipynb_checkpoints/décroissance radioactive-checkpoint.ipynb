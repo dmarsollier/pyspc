{
 "cells": [
  {
   "cell_type": "code",
   "execution_count": 8,
   "metadata": {},
   "outputs": [
    {
     "name": "stdout",
     "output_type": "stream",
     "text": [
      "pour combien d'atomes radioactifs voulez-vous faire la simulation? : 3\n"
     ]
    },
    {
     "data": {
      "image/png": "[encoded data removed]",
      "text/plain": [
       "<Figure size 432x288 with 1 Axes>"
      ]
     },
     "metadata": {
      "needs_background": "light"
     },
     "output_type": "display_data"
    }
   ],
   "source": [
    "# programme de simulation de décroissance radioactive\n",
    "# par le jet de dés\n",
    "# lignes de code sous licence creative commun CC BY-NC-SA \n",
    "# BY Alexis Dendiével\n",
    "\n",
    "%matplotlib inline\n",
    "\n",
    "# importations\n",
    "import matplotlib.pyplot as plt\n",
    "from random import randint\n",
    "\n",
    "# entrée du nombre d'atomes radioactifs pour la simulation\n",
    "n = int(input(\"pour combien d'atomes radioactifs voulez-vous faire la simulation? : \"))\n",
    "\n",
    "# initialisation des données\n",
    "nombrelance = 0\n",
    "temps = [0]\n",
    "radioactifs = [n]\n",
    "        \n",
    "# coeur du programme\n",
    "while n > 0:\n",
    "        desintegration = 0\n",
    "        for i in range(n):\n",
    "            tirage = randint(1,6)\n",
    "            if tirage == 6:\n",
    "                desintegration = desintegration + 1\n",
    "        n = n - desintegration\n",
    "        nombrelance = nombrelance + 1\n",
    "        temps.append(nombrelance)\n",
    "        radioactifs.append(n)\n",
    "        \n",
    "# affichage\n",
    "plt.plot(temps, radioactifs)\n",
    "plt.grid()\n",
    "plt.xlabel(\"temps\")\n",
    "plt.ylabel(\"nombre d'atomes radioactifs\")\n",
    "plt.show()\n",
    "plt.close()"
   ]
  },
  {
   "cell_type": "code",
   "execution_count": null,
   "metadata": {},
   "outputs": [],
   "source": []
  },
  {
   "cell_type": "code",
   "execution_count": null,
   "metadata": {},
   "outputs": [],
   "source": []
  }
 ],
 "metadata": {
  "kernelspec": {
   "display_name": "Python 3",
   "language": "python",
   "name": "python3"
  },
  "language_info": {
   "codemirror_mode": {
    "name": "ipython",
    "version": 3
   },
   "file_extension": ".py",
   "mimetype": "text/x-python",
   "name": "python",
   "nbconvert_exporter": "python",
   "pygments_lexer": "ipython3",
   "version": "3.6.7"
  }
 },
 "nbformat": 4,
 "nbformat_minor": 2
}

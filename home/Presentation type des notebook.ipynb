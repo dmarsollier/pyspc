{
 "cells": [
  {
   "cell_type": "markdown",
   "metadata": {},
   "source": [
    "# Titre principal\n",
    "## Sous-titre\n",
    "\n",
    "- début de liste\n",
    "    - début de sous-liste\n",
    "        - début de sous-sous liste\n",
    "\n",
    "$formule LaTeX$\n",
    "\n",
    "1. titre de paragraphe\n",
    "    1. titre de sous-paragraphe\n",
    "        1. titre de sous-sous paragraphe\n",
    "\n",
    "*italique*\n",
    "\n",
    "**gras**\n",
    "\n",
    "***gras italique***\n",
    "\n",
    "$CO_2$\n",
    "\n",
    "$Cu^{2+}$\n",
    "\n",
    "$\\rightarrow$\n",
    "\n",
    "\n",
    "\n",
    "\n"
   ]
  },
  {
   "cell_type": "code",
   "execution_count": null,
   "metadata": {},
   "outputs": [],
   "source": []
  }
 ],
 "metadata": {
  "kernelspec": {
   "display_name": "Python 3",
   "language": "python",
   "name": "python3"
  },
  "language_info": {
   "codemirror_mode": {
    "name": "ipython",
    "version": 3
   },
   "file_extension": ".py",
   "mimetype": "text/x-python",
   "name": "python",
   "nbconvert_exporter": "python",
   "pygments_lexer": "ipython3",
   "version": "3.6.7"
  }
 },
 "nbformat": 4,
 "nbformat_minor": 2
}

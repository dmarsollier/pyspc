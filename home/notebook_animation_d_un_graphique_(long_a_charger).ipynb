{
 "cells": [
  {
   "attachments": {
    "logo%20licence%20Creative%20Commons.jpg": {
     "image/jpeg": "[encoded data removed]"
    }
   },
   "cell_type": "markdown",
   "metadata": {},
   "source": [
    "# Comment animer un graphique sous Python ?\n",
    "![logo%20licence%20Creative%20Commons.jpg](attachment:logo%20licence%20Creative%20Commons.jpg)code sous licence creative commun CC BY-NC-SA BY Gaëlle Rebolini"
   ]
  },
  {
   "cell_type": "markdown",
   "metadata": {},
   "source": [
    "Une animation est une succession d'images s'affichant à intervalle de temps régulier.\n",
    "Le principe de ce programme est d'afficher les courbes les unes après les autres afin de créer une courbe animée."
   ]
  },
  {
   "cell_type": "markdown",
   "metadata": {},
   "source": [
    "Pour réaliser une courbe animée, il faut utiliser la méthode :\n",
    "\n",
    "**animation.FuncAnimation(fig, animate, init_func=init, frames=100, interval=30, blit=True,repeat=False)**\n",
    "\n",
    "Les paramètres sont les suivants :\n",
    "- fig : nom de l'objet **plt.figure()**\n",
    "- animate : nom de la fonction permettant de tracer chaque image sucessivement à l'aide du paramètre i.\n",
    "- init_func : paramètre appelant la fonction init permettant de tracer le fond de chaque image à partir de l'objet fig\n",
    "- frames : nombre d'images constituant l'animation (ici 100 images)\n",
    "- interval : intervalle de temps séparant deux images successives en milliseconde (ici 30 ms)\n",
    "- blit : seuls les éléments de l'image modifiés seront redessinées à chaque image si blit est égal à True\n",
    "- repeat : l'animation ne s'exécutera qu'une fois, ne se repètera pas si repeat est égal à False.\n",
    "\n",
    "Il faut donc créer le graphique et les deux fonctions init et animate avant d'utiliser la méthode **animation.FuncAnimation()**\n",
    "\n",
    "Pour afficher l'animation dans un éditeur Python, la méthode **plt.show()** suffit.\n",
    "\n",
    "Pour l'afficher dans ce notebook, on est obligé de passer par un widget Javascript interactif \n",
    "(représentation HTML par défaut des objets Animation) en utilisant les lignes de code \n",
    "- **rc('animation', html='jshtml')**\n",
    "- **anim** (nom de l'animation dans le programme suivant)\n"
   ]
  },
  {
   "cell_type": "markdown",
   "metadata": {},
   "source": [
    "Afin d'illustrer ce tutoriel, nous prendrons l'exemple de l'animation d'une onde progressive sinusoïdale.\n",
    "\n",
    "Voici le programme complet expliqué point par point :"
   ]
  },
  {
   "cell_type": "code",
   "execution_count": null,
   "metadata": {},
   "outputs": [],
   "source": [
    "import numpy as np\n",
    "import matplotlib.pyplot as plt\n",
    "from matplotlib import animation, rc\n",
    "\n",
    "Ymax=2   # amplitude en m\n",
    "T=3      # période en s\n",
    "l=2      # longueur d'onde en m\n",
    "\n",
    "xmin=0    # valeur minimale de x\n",
    "xmax=3*l  # valeur maximale de x afin d'afficher 3 longueurs d'onde à l'écran\n",
    "nbx=100   # nombre de points sur le graphique\n",
    "            \n",
    "# création du graphique (cf. tutoriels sur les graphiques)\n",
    "\n",
    "fig = plt.figure(figsize=(12,10))   \n",
    "plt.xlim(xmin,xmax)\n",
    "plt.ylim(-Ymax,Ymax)\n",
    "plt.grid()\n",
    "plt.xlabel(\"x(m)\")\n",
    "plt.ylabel(\"y(m)\")\n",
    "plt.title(\"animation : propagation d'une onde progressive sinusoïdale\")\n",
    "\n",
    "# création de la courbe que nous voulons animer. Les listes contenant les valeurs de l'abscisse et de l'ordonnée sont vides.\n",
    "\n",
    "line = plt.plot([], [],'bo-')   # équivalent à line = plt.plot([], [], color ='b', marker='o', style line = '-')\n",
    "\n",
    "# création de la fonction init : permet de tracer le fond de chaque image à partir de la courbe définie ci-dessus\n",
    "def init():\n",
    "    line[0].set_data([], [])    # la méthode set_data permet de modifier les valeurs de l'élément d'indice 0 de l'objet line\n",
    "    return (line)\n",
    "\n",
    "# création de la fonction animate : permet de tracer la courbe sur chaque image. \n",
    "def animate(i):      # i = temps donné par l'horloge du processeur/paramètre interval\n",
    "    dt=0.03         # période d'échantillonnage en seconde \n",
    "    t=i*dt\n",
    "    x = np.linspace(xmin,xmax,nbx)             # création de la liste contenant les valeurs de x\n",
    "    y = Ymax*np.cos(2 * np.pi * (x/l - t/T))   # écriture de la fonction définissant y en fonction de x et de t. \n",
    "    line[0].set_data(x, y)                     # la méthode set_data permet de remplacer les valeurs de l'élément d'indice 0 de l'objet line par les valeurs de x et y\n",
    "    return (line)\n",
    "\n",
    "# appel de la méthode animation.FuncAnimation()qui permettra d'afficher successivement les images à intervalle de temps régulier\n",
    "# le paramètre interval en ms doit être égal à la période d'échantillonnage dt en seconde pour que le temps t dans l'animation corresponde au temps \"réel\"\n",
    "anim=animation.FuncAnimation(fig, animate, init_func=init,frames=100, interval=30, blit=True,repeat=False)\n",
    "\n",
    "plt.close()            # ferme les fenêtres une fois affichées afin de gagner de la mémoire\n",
    "\n",
    "# Lignes de commandes permettant de créer un widget Javascript interactif \n",
    "# (représentation HTML par défaut des objets Animation)\n",
    "# à remplacer par la méthode plt.show() dans un éditeur python du type spyder\n",
    "# attention au paramétrage dans spyder : menu outils> préférences> console IPython>Graphiques> sortie graphique : automatique>OK\n",
    "# puis redémarrer spyder.  L'animation s'affichera dans une nouvelle fenêtre au lieu de donner un graphique vierge dans le terminal)\n",
    "\n",
    "rc('animation', html='jshtml')\n",
    "anim\n",
    "\n",
    "# patience, l'exécution prend du temps."
   ]
  }
 ],
 "metadata": {
  "kernelspec": {
   "display_name": "Python 3",
   "language": "python",
   "name": "python3"
  },
  "language_info": {
   "codemirror_mode": {
    "name": "ipython",
    "version": 3
   },
   "file_extension": ".py",
   "mimetype": "text/x-python",
   "name": "python",
   "nbconvert_exporter": "python",
   "pygments_lexer": "ipython3",
   "version": "3.6.7"
  }
 },
 "nbformat": 4,
 "nbformat_minor": 2
}

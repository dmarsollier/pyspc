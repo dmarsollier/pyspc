{
 "cells": [
  {
   "attachments": {
    "logo%20licence%20Creative%20Commons.jpg": {
     "image/jpeg": "[encoded data removed]"
    }
   },
   "cell_type": "markdown",
   "metadata": {},
   "source": [
    "# **Les listes**\n",
    "\n",
    "![logo%20licence%20Creative%20Commons.jpg](attachment:logo%20licence%20Creative%20Commons.jpg\n",
    ")\n",
    "code sous licence creative commun CC BY-NC-SA    BY Dominique Devedeux"
   ]
  },
  {
   "cell_type": "markdown",
   "metadata": {},
   "source": [
    "Comme son nom l’indique, une liste permet de lister différents éléments. \n",
    "\n",
    "Les éléments d’une liste :\n",
    "- s’écrivent entre crochets, \n",
    "- sont séparés par une virgule\n",
    "- peuvent être de nature différente (chaine de caractères, nombre entier, nombre réel,...)\n",
    "- sont repérés par leur position dans la chaîne, appelée indice.\n",
    "\n",
    "ATTENTION : le premier indice d'une liste a pour valeur 0 !\n",
    "\n",
    "Remarque sur l'organisation de ce fichier noteboook : très souvent, les cellules fonctionnent par paire; elles portent alors le même titre. La première cellule explique le cours et la suivante est une cellule de codes illustrant le cours. "
   ]
  },
  {
   "cell_type": "markdown",
   "metadata": {},
   "source": [
    "# **Plusieurs manières de récupérer les éléments d'une liste : cours**\n",
    "\n",
    "Nous allons travailler sur un exemple :\n",
    "\n",
    "    L = [5,2,8,17,6,14]   crée une liste contenant les éléments 5, 2, 8, 17, 6, 14\n",
    "    L[0]                  renvoie le premier élément, ici 5\n",
    "    L[2]                  renvoie l'élément d'indice 2 (en 3ème position donc), ici 8\n",
    "    L[-1]                 renvoie le dernier élément, ici 14\n",
    "    L[-2]                 renvoie l'avant-dernier élément, ici 6\n",
    "    L[1:3]                renvoie les éléments d'indice 1 et 2  (ATTENTION : indice 3 non inclus)\n",
    "    L[3:]                 renvoie les éléments à partir de l'indice 3.\n",
    "    len(L)                renvoie la longueur de la liste, ici 6    \n",
    "    L1 = []\t           crée une liste vide"
   ]
  },
  {
   "cell_type": "code",
   "execution_count": null,
   "metadata": {},
   "outputs": [],
   "source": [
    "# Plusieurs manières de récupérer les éléments d'une liste : applications\n",
    "\n",
    "L=[5,2,8,17,6,14]\n",
    "print(L)\n",
    "print(L[0])\n",
    "print(L[2])\n",
    "print(L[-1])\n",
    "print(L[-2])\n",
    "print(L[1:3])\n",
    "print(L[3:])\n",
    "print(len(L))"
   ]
  },
  {
   "cell_type": "markdown",
   "metadata": {},
   "source": [
    "# **Plusieurs méthodes pour assigner une valeur ou supprimer une valeur d'une liste (cours et  applications)**\n",
    "\n",
    "*Les méthodes modifient les listes et leur syntaxe est toujours silmilaire :  L.méthode()*"
   ]
  },
  {
   "cell_type": "code",
   "execution_count": null,
   "metadata": {},
   "outputs": [],
   "source": [
    "# PLusieurs méthodes pour assigner une valeur ou supprimer des valeurs d'une liste (cours et applications)\n",
    "\n",
    "L=[5,2,8,17,6,14]\n",
    "print(L)\n",
    "L.append(20)                 # Ajoute l’élément 20 à la fin de la liste L.\n",
    "print(L)\n",
    "L.insert(2,20)               # Insère l’élément 20 à la position d'indice 2 (donc en troisième position) de la liste L.\n",
    "print(L)\n",
    "L.remove(20)                 # Supprime la première occurrence de l’élément 20 dans la liste L.\n",
    "print(L)\n",
    "L.pop(-1)                    # Supprime l’élément d’indice -1 (donc le dernier élément) de la liste L.\n",
    "print(L)"
   ]
  },
  {
   "cell_type": "markdown",
   "metadata": {},
   "source": [
    "# **Quelques fonctions (et une méthode) permettant d'analyser le contenu d'une liste : cours**\n",
    "\n",
    "*Les fonctions ne modifient pas les listes et leur syntaxe est toujours similaire : fonction(L)*\n",
    "\n",
    "*Les méthodes modifient les listes et leur syntaxe est toujours silmilaire :  L.méthode()*\n",
    "\n",
    "min(L) :             Renvoie le plus petit élément de la liste L.\n",
    "\n",
    "max(L) :             Renvoie le plus grand élément de la liste L.\n",
    "\n",
    "sorted(L)  :         Renvoie une copie triée de la liste contenant les éléments de la liste L rangés par ordre croissant ou alphabétique. MAIS, la liste L n'est pas modifiée !\n",
    "\n",
    "sorted(L,reverse=True)  :         Renvoie une copie triée de la liste contenant les éléments de la liste L rangés par ordre décroissant ou inverse du sens alphabétique. MAIS, la liste L n'est pas modifiée !\n",
    "\n",
    "L.sort() :          Modifie la liste L qui dorénavant contiendra les éléments triés (mais ne la renvoie pas). \n",
    "\n",
    "Remarque : sort() est une méthode et non une fonction... D'où sa syntaxe différente.\n",
    "\n",
    "choice(L) :        Renvoie en choisissant au hasard un élément de la liste L. Cette fonction appartient au module random.\n",
    "\n",
    "sample(L,3) :      Retourne une liste de 3 éléments choisis aléatoirement et sans remise dans la liste L. Cette fonction appartient au module random."
   ]
  },
  {
   "cell_type": "code",
   "execution_count": null,
   "metadata": {},
   "outputs": [],
   "source": [
    "# Quelques fonctions permettant d'analyser le contenu d'une liste : Applications\n",
    "from random import choice, sample          # Les fonctions sample et choice appartiennent à la bibliothèque random\n",
    "\n",
    "L=[5,2,8,17,6,14]\n",
    "print(L)\n",
    "print(min(L))       \n",
    "print(max(L))       \n",
    "print(sorted(L)) \n",
    "print(\"Comme vous pouvez le constater, la liste L n'est pas modifiée\",L)\n",
    "print(sorted(L,reverse=True)) \n",
    "print(\"Comme vous pouvez le constater, la liste L n'est pas modifiée\",L)\n",
    "L.sort()\n",
    "print(\"Comme vous pouvez le constater, la liste L est modifiée\",L)\n",
    "print(choice(L))     \n",
    "print(sample(L,3))   "
   ]
  },
  {
   "cell_type": "markdown",
   "metadata": {},
   "source": [
    "# **Comment parcourir le contenu d'une liste : cours**\n",
    "\n",
    "La boucle « for » est particulièrement bien adaptée aux listes de valeurs. \n",
    "\n",
    "Soit L une liste de longueur n :\n",
    "\n",
    "$\\rightarrow$ Si on a besoin de parcourir une liste élément par élément grâce à leur indice pour ensuite utiliser une instruction faisant intervenir cet indice, on utilise l’instruction : **for i in range(0, len(L)) :**\n",
    "\n",
    "la variable i (qui représente l'indice d'un élément) prendra les valeurs de 0 à len(L)-1 soit de 0 à n-1\n",
    "\n",
    "$\\rightarrow$ Si on a besoin de parcourir une liste, élément par élément, en nous intéressant uniquement à leur valeur pour ensuite utiliser une instruction permettant de travailler sur ces valeurs, on peut utiliser l’instruction : **for x in L :** \n",
    "\n",
    "la variable x prendra l'une après l'autre toutes les valeurs de la liste L.\n",
    "\n",
    "Remarque 1: On peut toujours utiliser la première instruction à la place de la deuxième, mais pas l’inverse !\n",
    "\n",
    "Remarque 2: les lettres i, j et k sont traditionnellement utilisées pour désigner les indices alors que les autres lettres désignent des variables. Par exemple, ici, la lettre x parcourt les valeurs de L.\n"
   ]
  },
  {
   "cell_type": "code",
   "execution_count": null,
   "metadata": {},
   "outputs": [],
   "source": [
    "#Comment parcourir le contenu d'une liste : applications de base\n",
    "\n",
    "L=[5,2,8,17,6,14]\n",
    "for i in range(0,len(L)):\n",
    "    if i%2==0 :      # test permettant de sélectionner les indices i pairs (reste de la division de i par 2 vaut 0)\n",
    "        print(L[i])\n",
    "    \n",
    "for x in L : \n",
    "    if x > 7:\n",
    "        print(x)"
   ]
  },
  {
   "cell_type": "code",
   "execution_count": null,
   "metadata": {},
   "outputs": [],
   "source": [
    "#Comment parcourir le contenu d'une liste : applications plus poussées\n",
    "\n",
    "L=[5,2,8,17,6,14]\n",
    "for i in range (0, len (L)):\n",
    "    L[i] = L[i] + 1\n",
    "print(L)\n",
    "\n",
    "L=[5,2,8,17,6,14]\n",
    "s = 0\n",
    "for x in L :\n",
    "    s = s + x\n",
    "print (\" Somme : \", s)\n",
    "\n",
    "if 8 in L : print(\"le nombre 8 est présent dans la liste\")\n",
    "else : print(\"le nombre 8 n'est pas présent dans la liste\")"
   ]
  },
  {
   "cell_type": "markdown",
   "metadata": {},
   "source": [
    "# **Opérations mathématiques sur les listes : cours**\n",
    "\n",
    "On peut effectuer diverses opérations mathématiques (addition, multiplication...) entre des listes.\n",
    "\n",
    "En voici quelques exemples :   (L1, L2 et L sont des listes)\n",
    "\n",
    "L = 3 * L1  : L sera une liste contenant les éléments de L1, répétés 3 fois. Elle sera donc trois fois plus longue.\n",
    "\n",
    "L = L1 + L2 :   L sera la concaténation de L1 et L2. elle contiendra d'abord les éléments de L1, puis ceux de L2"
   ]
  },
  {
   "cell_type": "code",
   "execution_count": null,
   "metadata": {},
   "outputs": [],
   "source": [
    "# Opérations mathématiques sur les listes : applications\n",
    "L1=[1,2,3]\n",
    "L2=[4,5,6]\n",
    "L=3*L1\n",
    "print(L1)\n",
    "print(L)\n",
    "L=L1+L2\n",
    "print(L)"
   ]
  },
  {
   "cell_type": "markdown",
   "metadata": {},
   "source": [
    "# **Conversion d'une chaîne de caractères vers une liste de caractères ou l'inverse : cours**\n",
    "\n",
    "$\\rightarrow$ D'une chaîne de caractères vers une liste de caractères\n",
    "\n",
    "    ch='ISN'  :     Création d'une chaîne de caractères nommée ch  et assignation de cette chaîne avec les caractères ISN\n",
    "\n",
    "    list(ch)  :     Convertit la chaîne de caractères ch en liste de caractères    \n",
    "\n",
    "$\\rightarrow$ D'une liste de caractères vers une chaîne de caractères\n",
    "\n",
    "Attention : la liste doit être forcément constituée de caractères\n",
    "\n",
    "    L = ['I','S','N']  :   crée une liste contenant 3 éléments de type caractère\n",
    "    'sep'.join(L)  :  renvoie une chaîne de caractères obtenue en concaténant les éléments de la liste L séparés par le séparateur sep."
   ]
  },
  {
   "cell_type": "code",
   "execution_count": null,
   "metadata": {},
   "outputs": [],
   "source": [
    "ch='ISN'                   \n",
    "chbis=list(ch)  \n",
    "print(ch)\n",
    "print(chbis)    \n",
    "\n",
    "L=['I','S','N']\n",
    "chter='-'.join(L)      # ici le séparateur est un tiret -\n",
    "print(L)\n",
    "print(chter)"
   ]
  },
  {
   "cell_type": "markdown",
   "metadata": {},
   "source": [
    "# **Création de listes de listes (donc de tableau !) : cours**\n",
    "\n",
    "Nous allons travailler sur un nouvel exemple\n",
    "\n",
    "    tableau = [['Anne','Tom','Léo','Eva'], [6,7,8,9],[10,20,30,40]]  :  crée un tableau contenant 3 listes de 4 éléments chacune\n",
    "    Tableau[0]                       # renvoie la première liste\n",
    "    Tableau[i][j]                    # renvoie le jème élément de la ième liste\n"
   ]
  },
  {
   "cell_type": "code",
   "execution_count": null,
   "metadata": {},
   "outputs": [],
   "source": [
    "# On peut créer des listes de listes (donc un tableau !)\n",
    "\n",
    "tableau = [['Anne','Tom','Léo','Eva'], [6,7,8,9],[10,20,30,40]] \n",
    "print(tableau)\n",
    "print(tableau[0])\n",
    "print(tableau[0][0])\n",
    "print(tableau[1][2])\n",
    "print(tableau[-1][-1])\n",
    "print(tableau[-1][0])"
   ]
  }
 ],
 "metadata": {
  "kernelspec": {
   "display_name": "Python 3",
   "language": "python",
   "name": "python3"
  },
  "language_info": {
   "codemirror_mode": {
    "name": "ipython",
    "version": 3
   },
   "file_extension": ".py",
   "mimetype": "text/x-python",
   "name": "python",
   "nbconvert_exporter": "python",
   "pygments_lexer": "ipython3",
   "version": "3.6.7"
  }
 },
 "nbformat": 4,
 "nbformat_minor": 2
}

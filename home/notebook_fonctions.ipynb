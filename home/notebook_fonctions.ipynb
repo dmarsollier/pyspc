{
 "cells": [
  {
   "attachments": {
    "logo%20licence%20Creative%20Commons.jpg": {
     "image/jpeg": "[encoded data removed]"
    }
   },
   "cell_type": "markdown",
   "metadata": {},
   "source": [
    "## Les fonctions\n",
    "\n",
    "![logo%20licence%20Creative%20Commons.jpg](attachment:logo%20licence%20Creative%20Commons.jpg)\n",
    "code sous licence creative commun CC BY-NC-SA    BY Dominique Devedeux"
   ]
  },
  {
   "cell_type": "markdown",
   "metadata": {},
   "source": [
    "Lorsqu'on écrit un programme, on a besoin de fonctions diverses et variées.\n",
    "- Les fonctions mathématiques arithmétiques (multiplication, addition,...) ou logiques (OU, ET, ...) classiques sont accessibles dans la bibliothèque de \"base\" de python et ne recquièrent aucune ligne de code supplémentaire pour y avoir accès.\n",
    "\n",
    "- Les fonctions mathématiques plus sophistiquées sont inclues dans des **bibliothèques** spécifiques disponibles qu'il faut importer avant de pouvoir utiliser ces fonctions.\n",
    "\n",
    "- On peut aussi avoir besoin de créer ses propres fonctions personnalisées.\n",
    "\n",
    "**Une bibliothèque est donc un ensemble de fonctions prédéfinies.**"
   ]
  },
  {
   "cell_type": "markdown",
   "metadata": {},
   "source": [
    "# **I. Bibliothèques externes disponibles**\n",
    "\n",
    "\n",
    "Une des grandes forces du langage Python réside dans le nombre important de bibliothèques logicielles externes disponibles. Celles-ci sont mises à disposition afin de pouvoir être utilisées sans avoir à les réécrire.\n",
    "\n",
    "Quelques exemples :\n",
    "\n",
    "- la librairie *math* contient entre autres les fonctions trigonométriques, la racine carrée, les recherches de PGCD, les factorielles ...\n",
    "- la librairie *random* permet d'avoir accès à de nombreuses fonctions en rapport avec la génération de nombres aléatoires,\n",
    "- la librairie *matplotlib* contient toutes les fonctions permettant de générer et de gérer l'affichage de graphiques,\n",
    "- la librairie *numpy* contient de nombreux outils mathématiques (trigonométriques, tableaux,...) et permet entre autres de modéliser des ensembles de valeurs.\n",
    "\n",
    "\n",
    "  1. L'importation des bibliothèques doit se faire en tête de programme\n",
    "  2. Pour importer une bibliothèque, il suffit d'écrire la ligne : **import nom_de_la_bibliothèque**\n",
    "  3. L'accès à la fonction s'effectue ainsi : **nom_de_la_bibliothèque.nom_de_la_fonction**\n",
    "  4. On peut aussi donner un petit surnom à la bibliothèque par souci de simplification : \n",
    "   **import nom_de_la_bibliothèque as surnom**\n",
    "  5. On peut aussi parfois ne vouloir importer qu'une fonction spécifique et non pas la totalité d'une bibliothèque. Il suffit alors d'écrire :         **from nom_de_la_bibliothèque import fonction**. Attention dans ce cas, l'accés à la fonction s'effectue ainsi : **nom_de_la_fonction**\n",
    "  \n",
    "  \n",
    "Quelques liens utiles...  \n",
    "https://docs.python.org/fr/3/library/math.html\n",
    "\n",
    "https://docs.python.org/fr/3/library/random.html\n"
   ]
  },
  {
   "cell_type": "code",
   "execution_count": null,
   "metadata": {},
   "outputs": [],
   "source": [
    "# Importation de la bibliothèque math sans surnom\n",
    "import math\n",
    "print(math.cos(math.pi))  # permet d'avoir accès à la fonction cosinus ainsi qu'à la valeur de pi et d'afficher le résultat"
   ]
  },
  {
   "cell_type": "code",
   "execution_count": null,
   "metadata": {},
   "outputs": [],
   "source": [
    "# Importation de la bibliothèque random avec surnom\n",
    "import random as rd\n",
    "print(rd.randint(1,10)) # la fonction randint permet d'afficher à l'écran un nombre aléatoire entier compris entre 1 et 10"
   ]
  },
  {
   "cell_type": "code",
   "execution_count": null,
   "metadata": {},
   "outputs": [],
   "source": [
    "# Importation de la seule fonction randint à partir de la bibliothèque random\n",
    "from random import randint\n",
    "print(randint(1,10))   # ne pas écrire random.randint() mais uniquement randint()"
   ]
  },
  {
   "cell_type": "markdown",
   "metadata": {},
   "source": [
    "# **II. Fonctions personnalisées**\n",
    "\n",
    "Un programme écrit « linéairement » est peu lisible . \n",
    "On préfère en général le décomposer en plusieurs sous-programmes, nommés fonctions. \n",
    "\n",
    "Une fonction est donc un ensemble d’instructions !\n",
    "\n",
    "Les avantages de définir des fonctions sont multiples :\n",
    "- le programme est plus lisible car architecturé, et se comprend plus facilement ;\n",
    "- le code est réutilisable ;\n",
    "- le programme est moins long : il suffit de définir une fonction pour effectuer une tâche précise, puis appeler cette fonction plusieurs fois si nécessaire ; \n",
    "- le programme est plus facile à corriger et à améliorer.\n",
    "\n",
    "**Création d'une fonction**\n",
    "1. Les fonctions sont souvent écrites en tête de programme, après les imports de bibliothèques\n",
    "2. La définition d'une fonction commence toujours par la ligne **def nom_de_la_fonction() :**\n",
    "3. Les lignes de codes de cette fonction sont en suite écrites en-dessous avec une indentation.\n",
    "4. Lorsqu'il a besoin de cette fonction, le programme principal (PP) doit l'appeler  : **nom_de_la_fonction()**\n",
    "5. Le PP peut avoir besoin d'échanger des informations avec la fonction.\n",
    "    \n",
    "Les exemples ci-après sont progressifs. Les fonctions étudiées n'ont pas d'autre intérêt que d'illustrer les différents échanges possibles entre le PP et la fonction."
   ]
  },
  {
   "cell_type": "code",
   "execution_count": null,
   "metadata": {},
   "outputs": [],
   "source": [
    "#Dans ce premier exemple, il n'y a pas d'échange d'informations entre le PP et la fonction\n",
    "# Définition de la fonction nommée félicitations\n",
    "\n",
    "def félicitations() :                # déclaration de la fonction\n",
    "    print(\"Bien joué !\")            # ligne de code de la fonction\n",
    "\n",
    "#Programme principal\n",
    "félicitations()                    # Appel de la fonction "
   ]
  },
  {
   "attachments": {
    "fonction1.png": {
     "image/png": "[encoded data removed]"
    }
   },
   "cell_type": "markdown",
   "metadata": {},
   "source": [
    "Dans ce second exemple, le PP envoie le texte à imprimer à la fonction. Le PP envoie donc une variable (ici texte1) à la fonction qui le range dans sa propre variable texte.\n",
    "![fonction1.png](attachment:fonction1.png)"
   ]
  },
  {
   "cell_type": "code",
   "execution_count": null,
   "metadata": {},
   "outputs": [],
   "source": [
    "# Définition de la fonction nommée affichage\n",
    "def affichage(texte) :             # la variable texte contiendra la variable envoyée par le PP\n",
    "    print(texte)                   \n",
    "\n",
    "#Programme principal\n",
    "texte1 =\"Bien joué !\"\n",
    "affichage(texte1)                  # Premier appel de la fonction avec envoi de la variable texte1\n",
    "texte2 =\"Perdu !\"\n",
    "affichage(texte2)                  # Second appel de la fonction avec envoi de la variable texte2"
   ]
  },
  {
   "attachments": {
    "fonction2.png": {
     "image/png": "[encoded data removed]"
    }
   },
   "cell_type": "markdown",
   "metadata": {},
   "source": [
    "Dans ce troisième exemple, le PP envoie deux variables (ici a et b) à la fonction qui les range dans deux variables locales (ici x et y). Après avoir rempli son rôle, la fonction renvoie le résultat au PP. Celui-ci range alors le résultat dans sa variable res.\n",
    "![fonction2.png](attachment:fonction2.png)"
   ]
  },
  {
   "cell_type": "code",
   "execution_count": null,
   "metadata": {},
   "outputs": [],
   "source": [
    "# Définition de la fonction nommée calcul_moyenne\n",
    "def calcul_moyenne(x,y) :             # la variable x contiendra la valeur 100 et y contiendra la valeur 200 \n",
    "    z=(x+y)/2\n",
    "    return(z)                         # la fonction renvoie le résultat z au PP\n",
    "\n",
    "#Programme principal\n",
    "a=100\n",
    "b=200                              \n",
    "res=calcul_moyenne(a,b)              # Appel de la fonction avec envoi de 2 variables a et b ET stockage du résultat\n",
    "print(res)                           # renvoyé par la fonction dans la variable res."
   ]
  }
 ],
 "metadata": {
  "kernelspec": {
   "display_name": "Python 3",
   "language": "python",
   "name": "python3"
  },
  "language_info": {
   "codemirror_mode": {
    "name": "ipython",
    "version": 3
   },
   "file_extension": ".py",
   "mimetype": "text/x-python",
   "name": "python",
   "nbconvert_exporter": "python",
   "pygments_lexer": "ipython3",
   "version": "3.6.7"
  }
 },
 "nbformat": 4,
 "nbformat_minor": 2
}

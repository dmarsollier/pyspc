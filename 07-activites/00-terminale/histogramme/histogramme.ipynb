{
 "cells": [
  {
   "cell_type": "markdown",
   "metadata": {},
   "source": [
    "# Histogramme et évaluation de l'incertitude-type de type A sur une série de mesures"
   ]
  },
  {
   "cell_type": "code",
   "execution_count": 1,
   "metadata": {},
   "outputs": [],
   "source": [
    "import matplotlib.pyplot as plt\n",
    "%matplotlib inline\n",
    "import numpy as np"
   ]
  },
  {
   "cell_type": "code",
   "execution_count": 2,
   "metadata": {},
   "outputs": [
    {
     "data": {
      "image/png": "[encoded data removed]",
      "text/plain": [
       "<Figure size 864x720 with 1 Axes>"
      ]
     },
     "metadata": {
      "needs_background": "light"
     },
     "output_type": "display_data"
    }
   ],
   "source": [
    "Vbecher=[50.65,48.26,47.83,47.76,50.26,47.23,43.88,43.92,48.69,48.66,43.67,47.53,49.55,50.64,43.8,48.53]\n",
    "Veprouvette =[49.61,49.55,50.91,50.87,48.03,50.29,48.58,48.06,50.06,50.72,48.95,49.4,49.21,49.31,49.78,48.77]\n",
    "Vfiole=[49.74,49.77,49.71,49.75,49.52,49.8,49.61,49.56,49.65,49.65,49.52,49.64,49.74,49.81,49.5,49.59]\n",
    "plt.figure(figsize=(12,10))\n",
    "plt.hist(Vbecher,bins=80,range=(43,51),align=\"left\",rwidth=0.3,color=\"r\",label=\"becher\")\n",
    "plt.hist(Veprouvette,bins=80,range=(43,51),align=\"mid\",rwidth=0.3,color=\"b\",label=\"éprouvette\")\n",
    "plt.hist(Vfiole,bins=80,range=(43,51),align=\"right\",rwidth=0.3,color=\"g\",label=\"fiole\")\n",
    "plt.title(\"Volume d'eau contenu par un bécher, une éprouvette graduée ou une fiole jaugée pour 50mL mesuré\")\n",
    "plt.xlabel(\"Volume (mL)\")\n",
    "plt.ylabel(\"Fréquence\")\n",
    "plt.legend()\n",
    "plt.show()"
   ]
  },
  {
   "cell_type": "code",
   "execution_count": 3,
   "metadata": {},
   "outputs": [],
   "source": [
    "def statistique(x):\n",
    "    moy=np.mean(x)\n",
    "    ecarttype=np.std(x)\n",
    "    effectif=len(x)\n",
    "    incertitudetype=ecarttype/np.sqrt(effectif)\n",
    "    return(moy,ecarttype,effectif,incertitudetype)    "
   ]
  },
  {
   "cell_type": "code",
   "execution_count": 4,
   "metadata": {},
   "outputs": [
    {
     "data": {
      "text/plain": [
       "(47.553749999999994, 2.378105535399974, 16, 0.5945263838499935)"
      ]
     },
     "execution_count": 4,
     "metadata": {},
     "output_type": "execute_result"
    }
   ],
   "source": [
    "statistique(Vbecher)"
   ]
  },
  {
   "cell_type": "code",
   "execution_count": 5,
   "metadata": {},
   "outputs": [
    {
     "data": {
      "text/plain": [
       "(49.506249999999994, 0.8814042418209694, 16, 0.22035106045524236)"
      ]
     },
     "execution_count": 5,
     "metadata": {},
     "output_type": "execute_result"
    }
   ],
   "source": [
    "statistique(Veprouvette)"
   ]
  },
  {
   "cell_type": "code",
   "execution_count": 6,
   "metadata": {},
   "outputs": [
    {
     "data": {
      "text/plain": [
       "(49.66, 0.10012492197250353, 16, 0.025031230493125882)"
      ]
     },
     "execution_count": 6,
     "metadata": {},
     "output_type": "execute_result"
    }
   ],
   "source": [
    "statistique(Vfiole)"
   ]
  },
  {
   "cell_type": "code",
   "execution_count": null,
   "metadata": {},
   "outputs": [],
   "source": []
  }
 ],
 "metadata": {
  "kernelspec": {
   "display_name": "Python 3",
   "language": "python",
   "name": "python3"
  },
  "language_info": {
   "codemirror_mode": {
    "name": "ipython",
    "version": 3
   },
   "file_extension": ".py",
   "mimetype": "text/x-python",
   "name": "python",
   "nbconvert_exporter": "python",
   "pygments_lexer": "ipython3",
   "version": "3.6.9"
  }
 },
 "nbformat": 4,
 "nbformat_minor": 4
}

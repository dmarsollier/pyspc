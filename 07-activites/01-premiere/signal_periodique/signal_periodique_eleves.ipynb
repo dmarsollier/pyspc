{
 "cells": [
  {
   "cell_type": "markdown",
   "metadata": {},
   "source": [
    "# **Etude de l'influence de l'amplitude et de la période pour un signal périodique**\n",
    "\n",
    "Nous allons étudier un signal sinusoïdal. Un tel signal se répète identique à lui-même tous les 2 $\\pi$, au bout d'une durée T (période en s).\n",
    "\n",
    "Son évolution au cours du temps t se traduit par la fonction mathématique : A.sin((2$\\pi$/T).t) \n",
    "\n",
    "Où A est l'amplitude\n",
    "\n",
    "Comme le temps t ne peut pas être continu, il faut le discrétiser, c'est à dire calculer t pour des valeurs entières, multiples d'une petite durée appelée *période d'échantillonnage* et notée Te.\n",
    "\n",
    "Te doit être suffisamment petit par rapport à T. \n",
    "\n",
    "Ce qui donne l'expression mathématique suivante : A.sin((2$\\pi$/T).i.Te)   \n",
    "\n",
    "Avec i prenant des valeurs entières."
   ]
  },
  {
   "cell_type": "code",
   "execution_count": null,
   "metadata": {},
   "outputs": [],
   "source": [
    "import numpy as np\n",
    "import matplotlib.pyplot as plt\n",
    "%matplotlib inline\n",
    "\n",
    "# cette fonction permet d'afficher un graphique à un emplacemnt précis de la fenêtre graphique. \n",
    "# Ainsi, on peut afficher plusieurs sous-graphiques sur la même fenêtre.\n",
    "def affichage_graphique(n,y,l,yl) :\n",
    "    plt.subplot(3,1,n)                       # Déclaration du nombre d'emplacements dans la fenêtre\n",
    "    plt.plot(t,y,'k-',lw=1,label=n)          # Affichage de la courbe\n",
    "    plt.ylim(-2,2)                           # Impose les bornes min et max sur l'axe des ordonnées\n",
    "    plt.grid()\n",
    "    plt.xlabel('t (s)')\n",
    "    plt.ylabel(yl)\n",
    "    plt.legend()\n",
    "\n",
    "# Déclaration des variables\n",
    "Ymax=1   # amplitude en m\n",
    "T=1      # période en s\n",
    "Te=0.01   # période d'échantillonnage en s\n",
    "t=[]                                             # Création des listes (vides) qui contiendront les valeurs \n",
    "y1=[]                                            # du temps et des amplitudes\n",
    "\n",
    "for i in range (0,1000) :                        # Boucle permettant de parcourir toutes les valeurs du temps discrétisé.\n",
    "    t.append(i*Te)                               # La méthode append permet de rajouter une valeur en fin de la liste t\n",
    "    y1.append(Ymax*np.sin((2*np.pi/T)*i*Te))     # la fonction sinus est contenue dans la bibliothèque numpy\n",
    "                                                 # la constante pi est contenue dans la bibliothèque numpy\n",
    "\n",
    "# création du graphique \n",
    "\n",
    "plt.figure(2,figsize=(10,12))         # création de la fenêtre graphique \n",
    "affichage_graphique(1,y1,\"courbe de référence\",\"y1 (m)\")   #appel de la fonction gérant l'affichage du sous-graphique\n",
    "\n",
    "plt.show()\n"
   ]
  },
  {
   "cell_type": "markdown",
   "metadata": {},
   "source": [
    "# **Etude préalable :**\n",
    "En tenant compte des renseignements donnés lignes 6, 7 et 12, répondez aux questions suivantes :\n",
    "1. Combien d'échantillons temporels aura-t-on?\n",
    "2. Par quel calcul simple aurait-on pu prévoir la durée du signal créé?\n",
    "3. Par quel calcul simple aurait-on pu prévoir le nombre de périodes affichées?\n",
    "4. Combien d'échantillons temporels a-t-on par période?"
   ]
  },
  {
   "cell_type": "markdown",
   "metadata": {},
   "source": [
    "Nous souhaitons étudier l'influence des paramètres A et T sur l'évolution temporelle du signal sinusoïdal.\n",
    "\n",
    "Pour cela, nous avons déjà écrit en lignes 24 et 25, la création d'un signal sinusoïdal de référence noté y1.\n",
    "\n",
    "Nous avons également déjà déclaré les listes y2 et y3 sur les lignes de code 20 et 21.\n",
    "\n",
    "Sur le modèle de la ligne 25, compléter la ligne 26 de manière à créer un signal sinusoïdal nommé y2 d'amplitude deux fois plus grande que y1.\n",
    "\n",
    "Puis, toujours sur le même modèle, compléter la ligne 27 de manière à créer un signal sinusoïdal nommé y3 de période deux fois plus grande que y1.\n",
    "\n",
    "Nous souhaitons de plus, afficher ces trois signaux en trois graphiques situés l'un au-dessous de l'autre. Nous allons pour cela utiliser la méthode plt.subplot(nombre de lignes, nombre de colonnes, index) de la bibliothèque matplotlib.pyplot as plt.\n",
    "\n",
    "L'affichage est géré par une fonction nommée affichage_graphique qui a besoin d'un certain nombre de renseignements (fournis entre parenthèses) pour fonctionner correctement.\n",
    "\n",
    "Sur le modèle de la ligne 31, écrire la ligne de code nécessaire à l'affichage de y2.\n",
    "\n",
    "Puis, toujours sur le modèle de la ligne 31, écrire la ligne de code nécessaire à l'affichage de y3."
   ]
  },
  {
   "cell_type": "code",
   "execution_count": null,
   "metadata": {},
   "outputs": [],
   "source": [
    "import numpy as np\n",
    "import matplotlib.pyplot as plt\n",
    "%matplotlib inline\n",
    "\n",
    "def affichage_graphique(n,y,l,yl) :\n",
    "    plt.subplot(3,1,n)                   # Déclaration du nombre d'emplacements dans la fenêtre\n",
    "    plt.plot(t,y,'k-',lw=1,label=n)      # Affichage de la courbe\n",
    "    plt.ylim(-2,2)                       # Impose les bornes min et max sur l'axe des ordonnées\n",
    "    plt.grid()\n",
    "    plt.xlabel('t (s)')\n",
    "    plt.ylabel(yl)\n",
    "    plt.legend()\n",
    "\n",
    "# Déclaration des variables\n",
    "Ymax=1   # amplitude en m\n",
    "T=1      # période en s\n",
    "Te=0.01   # période d'échantillonnage en s\n",
    "t=[]                                            # Création des listes (vides) qui contiendront les valeurs \n",
    "y1=[]                                           # du temps et des amplitudes\n",
    "y2=[]\n",
    "y3=[]\n",
    "\n",
    "for i in range (0,1000) :                        # Boucle permettant de parcourir toutes les valeurs du temps discrétisé.\n",
    "    t.append(i*Te)                               # La méthode append permet de rajouter une valeur en fin de la liste t\n",
    "    y1.append(Ymax*np.sin((2*np.pi/T)*i*Te))     # la fonction sinus est contenue dans la bibliothèque numpy\n",
    "                                                 # la constante pi est contenue dans la bibliothèque numpy\n",
    "       \n",
    "\n",
    "    \n",
    "plt.figure(2,figsize=(10,12))         # création de la fenêtre graphique \n",
    "affichage_graphique(1,y1,\"courbe de référence\",\"y1 (m)\")\n",
    "\n",
    "\n",
    "\n",
    "plt.show()"
   ]
  }
 ],
 "metadata": {
  "kernelspec": {
   "display_name": "Python 3",
   "language": "python",
   "name": "python3"
  },
  "language_info": {
   "codemirror_mode": {
    "name": "ipython",
    "version": 3
   },
   "file_extension": ".py",
   "mimetype": "text/x-python",
   "name": "python",
   "nbconvert_exporter": "python",
   "pygments_lexer": "ipython3",
   "version": "3.7.1"
  }
 },
 "nbformat": 4,
 "nbformat_minor": 2
}

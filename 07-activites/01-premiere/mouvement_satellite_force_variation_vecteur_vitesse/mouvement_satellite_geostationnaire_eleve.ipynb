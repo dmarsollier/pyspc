{
 "cells": [
  {
   "cell_type": "markdown",
   "metadata": {},
   "source": [
    "## Mouvement d'un satellite géostationnaire"
   ]
  },
  {
   "attachments": {},
   "cell_type": "markdown",
   "metadata": {},
   "source": [
    "**Document :**\n",
    "\n",
    "GOES-17 est le deuxième satellite de la génération actuelle de satellites météorologiques exploités par l'Administration nationale des océans et de l'atmosphère (NOAA). Il s'agit d'un satellite géostationnaire qui vise à fournir des images haute résolution visibles et infrarouges et des observations de la foudre sur plus de la moitié du globe. \n",
    "Le satellite a été lancé dans l'espace le 1er mars 2018 par un véhicule Atlas V (541) depuis la base aérienne de Cape Canaveral, en Floride. Il avait une masse de lancement de 5 192 kg (sa masse sèche (sans le carburant (ergols)) est de 2 857 kg). Le 12 mars, GOES-17 a rejoint GOES-16 (lancé en 2016) sur une orbite géosynchrone  à 35 786 km au-dessus de la Terre (soit un rayon orbital de 42 164 km). GOES-17 est devenu opérationnel le 12 février 2019 sous le nom de GOES-West. Sa durée de vie utile prévue est de 15 ans.\n",
    "\n",
    "L'orbite géosynchrone est une orbite géocentrique sur laquelle un satellite dit géostationnaire se déplace dans le même sens que la Terre (d'ouest en est) et dont la période orbitale est égale à la période de rotation sidérale de la Terre (soit environ 23 h 56 min 4 s). Un satellite géostationnaire reste donc toujours à la verticale d'un même lieu sur Terre.\n",
    "\n",
    "source : Wikipédia (texte remanié)\n",
    "\n",
    "\n",
    "\n",
    "![Satellite](images/satellite.jpg)\n",
    "\n",
    "![Orbite](images/orbites.png)\n"
   ]
  },
  {
   "attachments": {},
   "cell_type": "markdown",
   "metadata": {},
   "source": [
    "**Rappels mathématiques** :\n",
    "\n",
    "![Cercles](images/cercle.jpg)\n",
    "\n",
    "Les coordonnées cartésiennes du point M décrivant un cercle de rayon R centré sur l'origine O du repère sont : \n",
    "\n",
    "$(x_M=R\\times \\cos{\\theta}\\;;\\;y_M=R\\times \\sin{\\theta})$\n",
    "\n",
    "Le vecteur unitaire $\\overrightarrow{u}=\\frac{\\overrightarrow{OM}}{OM}=\\frac{\\overrightarrow{OM}}{R}$ a pour coordonnées :\n",
    "$\\overrightarrow{u} \\begin{pmatrix} \\frac{x_M}{R}=\\cos{\\theta} \\\\ \\frac{y_M}{R}=\\sin{\\theta} \\end{pmatrix}$\n"
   ]
  },
  {
   "cell_type": "markdown",
   "metadata": {},
   "source": [
    "#### Problématique : Comment la force d'attraction gravitationnelle exercée par la Terre sur le satellite GOES-17 influence la variation de son vecteur vitesse?"
   ]
  },
  {
   "cell_type": "markdown",
   "metadata": {},
   "source": [
    "L'étude du mouvement du satellite GOES-17 aura lieu dans le référentiel géocentrique supposé galiléen auquel on associe un repère cartésien orthonormé fixe dont l'origine est au centre de la Terre."
   ]
  },
  {
   "cell_type": "markdown",
   "metadata": {},
   "source": [
    "1. Quelle est la nature du mouvement du satellite GOES-17 ? (Répondre dans la cellule ci-dessous en double-cliquant dessus si besoin)."
   ]
  },
  {
   "cell_type": "markdown",
   "metadata": {},
   "source": []
  },
  {
   "cell_type": "markdown",
   "metadata": {},
   "source": [
    "2. En vous basant sur vos connaissances issues de la classe de seconde (en physique et en programmation), réfléchir aux différentes parties que comportera le programme permettant de répondre à la problématique. (Répondre dans la cellule ci-dessous en double-cliquant dessus si besoin)."
   ]
  },
  {
   "cell_type": "markdown",
   "metadata": {},
   "source": [
    "\n",
    "\n",
    "\n",
    "\n"
   ]
  },
  {
   "cell_type": "code",
   "execution_count": null,
   "metadata": {},
   "outputs": [],
   "source": [
    "# cellule 1 : import des bibliothèques\n",
    "\n",
    "import numpy as np\n",
    "import matplotlib.pyplot as plt\n",
    "%matplotlib inline"
   ]
  },
  {
   "cell_type": "markdown",
   "metadata": {},
   "source": [
    "3. A l'aide du document, déterminer les valeurs du rayon R de la trajectoire et la période de révolution T du satellite (lignes 3 et 4 de la cellule 2)."
   ]
  },
  {
   "cell_type": "markdown",
   "metadata": {},
   "source": [
    "4. Quelle valeur en radian prend l'angle $\\theta$ lorsqu'il est parcouru par le segment OM en une période T? (Répondre dans la cellule ci-dessous en double-cliquant dessus si besoin)."
   ]
  },
  {
   "cell_type": "markdown",
   "metadata": {},
   "source": []
  },
  {
   "cell_type": "markdown",
   "metadata": {},
   "source": [
    "**note codage LaTeX** : double-cliquer sur cette cellule pour voir comment coder l'écriture des lettres grecques :\n",
    "\n",
    "- théta : $\\theta$\n",
    "- pi: $\\pi$"
   ]
  },
  {
   "cell_type": "markdown",
   "metadata": {},
   "source": [
    "5. En déduire l'expression de l'angle $\\theta$ en fonction du temps t et de la période T (ligne 8 de la cellule 2).\n",
    "\n",
    "6. En déduire les coordonnées x et y de la position du satellite en vous aidant des rappels mathématiques (lignes 10 et 11 de la cellule 2).\n",
    "\n",
    "**Note codage : la constante pi ainsi que les fonctions cos et sin sont fournies par la bibliothèque numpy** :\n",
    "- np.pi\n",
    "- np.cos()\n",
    "- np.sin()"
   ]
  },
  {
   "cell_type": "code",
   "execution_count": null,
   "metadata": {},
   "outputs": [],
   "source": [
    "# cellule 2 : coordonnées de la position du satellite\n",
    "\n",
    "R=   # rayon en m\n",
    "T=      # période de révolution en s\n",
    "\n",
    "t=np.arange(0,84164,3000)\n",
    "\n",
    "theta=\n",
    "\n",
    "x=\n",
    "y="
   ]
  },
  {
   "cell_type": "markdown",
   "metadata": {},
   "source": [
    "Afin de calculer les coordonnées du vecteur vitesse, **notées vx et vy** on crée une fonction **coordvit(u)** :\n",
    "   - **u** est une liste et représente une des coordonnées (x ou y) du vecteur position. \n",
    "   - **vu** est une liste et représente une des coordonnées (vx ou vy) du vecteur vitesse.\n",
    "   - **vui** est la valeur à l'instant $t_i$ de la coordonnée étudiée du vecteur vitesse. La liste **vu** contiendra ces valeurs **vui**.\n",
    "\n",
    "7. Compléter la ligne 6 de la cellule 3 permettant de calculer les valeurs **vui** prises par la coordonnée **vu** du vecteur vitesse à chaque instant du mouvement.\n",
    "\n",
    "**Note codage : la variable t est déclarée dans le programme principal et est donc globale. Elle est ainsi reconnue au sein de toute fonction...**\n",
    "\n",
    "**On rappelle que la $i^{ème}$ valeur d'une liste u est codée u[i]** \n",
    "\n",
    "8. Ecrire les deux lignes de code permettant de calculer les valeurs des coordonnées **vx** et **vy** (lignes 10 et 11 de la cellule 3). "
   ]
  },
  {
   "cell_type": "code",
   "execution_count": null,
   "metadata": {},
   "outputs": [],
   "source": [
    "# cellule 3 : coordonnées du vecteur vitesse du satellite\n",
    "\n",
    "def coordvit(u):\n",
    "    vu=[]\n",
    "    for i in range (1,len(u)-1):\n",
    "        vui=\n",
    "        vu.append(vui)\n",
    "    return(vu)\n",
    "\n",
    "vx=\n",
    "vy="
   ]
  },
  {
   "cell_type": "markdown",
   "metadata": {},
   "source": [
    "On appelle vecteur variation de vitesse au temps $t_i$, le vecteur : $\\overrightarrow{\\Delta v}(t_i)=\\overrightarrow{v}(t_{i+1})-\\overrightarrow{v}(t_{i-1})$.\n",
    "\n",
    "On désire calculer les coordonnées notées dvx et dvy du vecteur $\\overrightarrow{\\Delta v}$\n",
    "\n",
    "9. En vous basant sur le modèle de la fonction précédente, créer une fonction **coordvarvit(vu)** permettant de calculer les valeurs d'une coordonnée notée **dvu** du vecteur variation de vitesse (lignes 3 à 8 de la cellule 4).\n",
    "\n",
    "10. Ecrire les deux lignes de code permettant de calculer les valeurs des coordonnées **dvx** et **dvy** (lignes 10 et 11 de la cellule 4). "
   ]
  },
  {
   "cell_type": "code",
   "execution_count": null,
   "metadata": {},
   "outputs": [],
   "source": [
    "# cellule 4 : coordonnées du vecteur variation de vitesse\n",
    "\n",
    "\n",
    "\n",
    "\n",
    "\n",
    "\n",
    "\n",
    "\n",
    "dvx=\n",
    "dvy="
   ]
  },
  {
   "cell_type": "markdown",
   "metadata": {},
   "source": [
    "11. A l'aide du document, déterminer la valeur de la masse m du satellite après avoir consommé 1000 kg de carburant (ligne 4 de la cellule 5)."
   ]
  },
  {
   "cell_type": "markdown",
   "metadata": {},
   "source": [
    "12. Donner l'expression vectorielle de la force d'attraction gravitationnelle exercée par la Terre sur le satellite $\\overrightarrow{F_{T/S}}$ en fonction de G, $M_T$, m, R et $\\overrightarrow{u}$. (Répondre dans la cellule ci-dessous en double-cliquant dessus si besoin)."
   ]
  },
  {
   "cell_type": "markdown",
   "metadata": {},
   "source": []
  },
  {
   "cell_type": "markdown",
   "metadata": {},
   "source": [
    "**note codage LaTeX** : double-cliquer sur cette cellule pour voir comment coder l'écriture :\n",
    "\n",
    "- d'un vecteur : $\\overrightarrow{vecteur}$ ou $\\vec{vecteur}$\n",
    "\n",
    "- d'une fraction : $\\frac{numérateur}{dénominateur}$\n",
    "\n",
    "- d'un indice : $x_{indice}$\n",
    "\n",
    "- d'un exposant : $y^{exposant}$\n",
    "\n",
    "- d'un signe x : $\\times$"
   ]
  },
  {
   "cell_type": "markdown",
   "metadata": {},
   "source": [
    "13. Déterminer les expressions des coordonnées Fx et Fy de la force d'attraction gravitationnelle exercée par la Terre sur le satellite en vous aidant de vos connaissances et des rappels mathématiques (lignes 7 et 8 de la cellule 5)."
   ]
  },
  {
   "cell_type": "code",
   "execution_count": null,
   "metadata": {},
   "outputs": [],
   "source": [
    "# cellule 5 : coordonnées du vecteur \n",
    "# force d'attraction gravitationnelle\n",
    "\n",
    "MT=5.972*10**24          # masse de la Terre en kg\n",
    "m=                       # masse du satellite en kg\n",
    "G=6.67408*10**(-11)      # constante de gravitation universelle \n",
    "                         # en m^3.kg^-1.s^-2\n",
    "\n",
    "Fx=\n",
    "Fy="
   ]
  },
  {
   "cell_type": "markdown",
   "metadata": {},
   "source": [
    "14. Compléter la ligne de code 4 permttant d'afficher la trajectoire du satellite.\n",
    "\n",
    "15. Compléter les lignes de code 5, 6 et 9 (et éventuellement 10) afin d'afficher les légendes des axes et le titre du graphique.\n",
    "\n",
    "16. Sur le modèle des lignes de code 13 et 14, compléter les lignes de code 15 et 16 permettant de tracer le vecteur force d'attraction gravitationnelle."
   ]
  },
  {
   "cell_type": "code",
   "execution_count": null,
   "metadata": {
    "scrolled": true
   },
   "outputs": [],
   "source": [
    "# cellule 6 : Tracé du graphique permettant de visualiser \n",
    "# la trajectoire du satellite ainsi que  les \n",
    "# vecteurs variation de vitesse et force d'attraction gravitationnelle.\n",
    "\n",
    "plt.figure (figsize=(10,10))\n",
    "\n",
    "plt.xlabel()\n",
    "plt.ylabel()\n",
    "plt.xlim(-50000000,50000000)\n",
    "plt.ylim(-50000000,50000000)\n",
    "plt.title ()\n",
    "\n",
    "\n",
    "for k in range(len(dvx)):\n",
    "    plt.arrow(x[k+2],y[k+2],10000*dvx[k],10000*dvy[k],\n",
    "              facecolor='b',edgecolor='b',width=200000,\n",
    "              head_width=1000000,length_includes_head=True)\n",
    "    \n",
    "    \n",
    "plt.show()"
   ]
  },
  {
   "cell_type": "markdown",
   "metadata": {},
   "source": [
    "17. Conclusion : Répondre à la problématique dans la cellule suivante en double-cliquant dessus si besoin."
   ]
  },
  {
   "cell_type": "markdown",
   "metadata": {},
   "source": []
  }
 ],
 "metadata": {
  "kernelspec": {
   "display_name": "Python 3",
   "language": "python",
   "name": "python3"
  },
  "language_info": {
   "codemirror_mode": {
    "name": "ipython",
    "version": 3
   },
   "file_extension": ".py",
   "mimetype": "text/x-python",
   "name": "python",
   "nbconvert_exporter": "python",
   "pygments_lexer": "ipython3",
   "version": "3.6.7"
  }
 },
 "nbformat": 4,
 "nbformat_minor": 2
}

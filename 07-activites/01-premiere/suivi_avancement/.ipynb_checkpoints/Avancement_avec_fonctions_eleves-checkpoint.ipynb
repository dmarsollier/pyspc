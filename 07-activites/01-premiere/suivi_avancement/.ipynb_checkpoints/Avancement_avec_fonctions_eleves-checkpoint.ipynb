{
 "cells": [
  {
   "cell_type": "markdown",
   "metadata": {},
   "source": [
    "# Etude de l'évolution d'un système chimique \n",
    "\n",
    "Ce programme permet d'étudier l'évolution des quantités de matière des réactifs et produits d'une réaction dont l'équation est du type :\n",
    "aA + bB -->   cC + dD\n",
    "où a, b, c et d sont les nombres stoechiométriques respectifs des espèces chimiques A, B, C et D.\n",
    "\n",
    "Ce programme est construit avec des fonctions gérant chacune une tache déterminée. Le coeur du programme avec l'appel des fonctions se situe en fin de programme.\n",
    "\n",
    "Les taches à effectuer sont :\n",
    "- Modifier/Compléter les lignes de codes 4, 5, 6 et 7 du **coeur du programme** (en fin de fichier) afin d'entrer les valeurs des nombres stoechiométriques de l'équation chimique étudiée.\n",
    "- Modifier/compléter les lignes de codes 10, 11, 12 et 13 du **coeur du programme** afin d'entrer les valeurs des quantités de matière initiales des espèces chimiques concernées.\n",
    "- Dans la fonction **détermination_Rlimitant**, sur le modèle de la ligne 23, écrire les lignes de code 24, 25 et 26 permettant de calculer les quantités de matière du réactif B, ainsi que des produits C et D.\n",
    "- Dans la fonction **détermination_Rlimitant**, compléter les tests des lignes de code 31 et 32 en choisissant parmi : <0, <=0, >0 et >=0, puis compléter la ligne de code 33 en choisissant l'opérateur logique adéquat parmi : and et or.\n",
    "- Dans la fonction **détermination_Rlimitant**, modifier en ligne 35, le nombre de chiffres après la virgule (instruction *round*) afin de respecter le nombre de chiffres significatifs pour l'avancement x. \n",
    "- Dans la fonction **affichage_graphique**, sur le modèle de la ligne 46, écrire les lignes de code 47, 48 et 49 permettant d'afficher l'évolution des quantités de matière du réactif B, ainsi que des produits C et D en fonction de l'avancement.\n",
    "- Dans la fonction **modélisation**, sur le modèle de la ligne 62, écrire les lignes de code 63, 64 et 65 permettant d'afficher l'évolution des quantités de matière du réactif B, ainsi que des produits C et D en fonction de l'avancement.\n",
    "- Dans la fonction **modélisation**, modifier l'instruction %.f et %.3f en lignes 66, 67, 68 et 69 afin de choisir le nombre de chiffres après la virgule."
   ]
  },
  {
   "cell_type": "code",
   "execution_count": 6,
   "metadata": {},
   "outputs": [],
   "source": [
    "# Rattachement des librairies gérant les tracés de courbes et certains outils mathématiques \n",
    "import matplotlib.pyplot as plt\n",
    "import numpy as np\n",
    "\n",
    "\n",
    "# Fonction permettant de calculer le réactif limitant\n",
    "def détermination_Rlimitant(nA_0,nB_0,nC_0,nD_0,a,b,c,d):\n",
    "\n",
    "#Initialisation des variables\n",
    "    x=0            # avancement initial\n",
    "    Rlimitant =''  # initialisation de la chaine de caractère correspondant au réactif limitant\n",
    "    dx=0.001       # pas d'avancement\n",
    "    nA=[nA_0]      # Création des listes contenant les quantités de matière et initialisation de ces listes \n",
    "    nB=[nB_0]      # avec la valeur initiale \n",
    "    nC=[nC_0]\n",
    "    nD=[nD_0]\n",
    "    X=[x]          # Initialisation de la liste contenant l'avancement\n",
    "\n",
    "#boucle permettant d'actualiser les quantités de matière en cours d'avancement\n",
    "# NOTE CODAGE : la fonction nA.append() permet de rajouter à la liste nA un nouvel élément, celui indiqué entre parenthèses.\n",
    "    while nA[-1] > 0 and nB[-1] > 0:\n",
    "        x=x+dx\n",
    "        X.append(x)\n",
    "        nA.append(nA_0-a*x)\n",
    "\n",
    "        \n",
    "        \n",
    "               \n",
    "#Détermination du réactif limitant \n",
    "# NOTE CODAGE : l'indice -1 permet d'avoir accès à la dernière valeur de la liste.\n",
    "    if nA[-1]           :\n",
    "        Rlimitant = 'A'\n",
    "    if nB[-1]           :\n",
    "        Rlimitant = 'B'\n",
    "    if nA[-1]<=0 and nB[-1]<=0 :\n",
    "        Rlimitant='A ET B : le mélange est stoechiometrique'\n",
    "        \n",
    "    print('Le réactif limitant est ',Rlimitant,'\\n Avancement maximum : ',round(x,4),'mol' )\n",
    "    return(nA,nB,nC,nD,X)\n",
    "#round permet d’afficher un nombre arrondi à 2 chiffres (ici).\n",
    "\n",
    "\n",
    "# Fonction permettant d'afficher le graphique\n",
    "def affichage_graphique(nA,nB,nC,nD,X) :\n",
    "#NOTE CODAGE : la commande plt.plot peut être enrichie de divers arguments (comme ici avec ro = cercle rouge) :\n",
    "#Couleur : r (red), k (black), b (blue), y (yellow), g (green)\n",
    "#Marqueur : o (gros point), - (ligne), . (pointillé), x (croix), s (square), v (triangle)\n",
    "#lw signifie linewidth (largeur de la ligne)\n",
    "    plt.plot(X,nA,'r-',lw=1,label='nA')\n",
    "\n",
    "    \n",
    "    \n",
    "    plt.grid()\n",
    "    plt.xlabel('x (mol)')\n",
    "    plt.ylabel('n (mol)')\n",
    "    plt.legend()\n",
    "    plt.show()\n",
    " \n",
    "\n",
    "# Fonction permettant de calculer puis d'afficher les modélisations    \n",
    "def modélisation(nA,nB,nC,nD,X) :\n",
    "#Les lignes de code suivantes vont permettre de modéliser chacune de 4 droites obtenues sur le graphe ci-dessus.\n",
    "#Ces droites sont de type linéaire ou affine et peuvent être modélisées avec un polynôme d'ordre 1 : mx+p (où x est à la puissance 1).\n",
    "#Les résultats des quatre modélisations sont ensuite affichés pour analyse.\n",
    "    Amodel=np.polyfit(X, nA,1)\n",
    "\n",
    "    \n",
    "    \n",
    "    #print (\"la droite représentant l'évolution de nA en fonction de x a pour équation : nA =  %.f'%Amodel[0], 'x +  %.4f'%Amodel[1])\n",
    "    #print (\"la droite représentant l'évolution de nB en fonction de x a pour équation : nB =  %.f'%Bmodel[0], 'x +  %.4f'%Bmodel[1])\n",
    "    #print (\"la droite représentant l'évolution de nC en fonction de x a pour équation : nC =  %.f'%Cmodel[0], 'x +  %.4f'%Cmodel[1])\n",
    "    #print (\"la droite représentant l'évolution de nD en fonction de x a pour équation : nD =  %.f'%Dmodel[0], 'x +  %.4f'%Dmodel[1])"
   ]
  },
  {
   "cell_type": "markdown",
   "metadata": {},
   "source": [
    "Le programme doit tout d'abord demander les valeurs des nombres stoechiométriques, pour ensuite demander les quantités de matière initiales des réactifs A et B et des produits C et D."
   ]
  },
  {
   "cell_type": "code",
   "execution_count": 9,
   "metadata": {},
   "outputs": [
    {
     "name": "stdout",
     "output_type": "stream",
     "text": [
      "l'équation étudiée est du type :  1  A    +     1  B    -->      1  C      +     1  D\n",
      "Le réactif limitant est  B \n",
      " Avancement maximum :  0.003 mol\n"
     ]
    },
    {
     "data": {
      "image/png": "[encoded data removed]",
      "text/plain": [
       "<Figure size 432x288 with 1 Axes>"
      ]
     },
     "metadata": {
      "needs_background": "light"
     },
     "output_type": "display_data"
    }
   ],
   "source": [
    "#coeur du programme\n",
    "\n",
    "#Il faut entrer ci-dessous les quantités de matière initiales des réactifs et des produits (en mol).\n",
    "nA_0 = 2.5e-3\n",
    "nB_0 = 2.05e-3\n",
    "nC_0 = 3.0e-3\n",
    "nD_0 = 1.5e-3\n",
    "\n",
    "# Il faut entrer ci-dessous les nombres stoechiométriques de l'équation étudiée\n",
    "a=1\n",
    "b=1\n",
    "c=1\n",
    "d=1\n",
    "\n",
    "\n",
    "\n",
    "# Affichage de l'équation de la réaction\n",
    "print(\"l'équation étudiée est du type : \",a,\" A    +    \",b,\" B    -->     \",c,\" C      +    \",d,\" D\")\n",
    "\n",
    "#Appel de la fonction permettant de déterminer le réactif limitant\n",
    "nA,nB,nC,nD,X=détermination_Rlimitant(nA_0,nB_0,nC_0,nD_0,a,b,c,d)\n",
    "\n",
    "#appel de la fonction affichant le graphique de l'évolution des quantités de matière en donction de l'avancement\n",
    "affichage_graphique(nA,nB,nC,nD,X)\n",
    "\n",
    "#appel de la fonction calculant la modélisation ce l'évolution des quantités de matière en donction de l'avancement\n",
    "modélisation(nA,nB,nC,nD,X)"
   ]
  },
  {
   "cell_type": "markdown",
   "metadata": {},
   "source": [
    "Commenter les équations des courbes modélisées...."
   ]
  }
 ],
 "metadata": {
  "kernelspec": {
   "display_name": "Python 3",
   "language": "python",
   "name": "python3"
  },
  "language_info": {
   "codemirror_mode": {
    "name": "ipython",
    "version": 3
   },
   "file_extension": ".py",
   "mimetype": "text/x-python",
   "name": "python",
   "nbconvert_exporter": "python",
   "pygments_lexer": "ipython3",
   "version": "3.7.2"
  }
 },
 "nbformat": 4,
 "nbformat_minor": 2
}

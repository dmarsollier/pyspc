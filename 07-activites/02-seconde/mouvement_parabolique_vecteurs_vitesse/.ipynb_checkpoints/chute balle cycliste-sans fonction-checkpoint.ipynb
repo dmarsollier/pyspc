{
 "cells": [
  {
   "cell_type": "markdown",
   "metadata": {},
   "source": [
    "## Tracé des vecteurs vitesse"
   ]
  },
  {
   "cell_type": "code",
   "execution_count": null,
   "metadata": {},
   "outputs": [],
   "source": [
    "import numpy as np\n",
    "import matplotlib.pyplot as plt\n",
    "import csv"
   ]
  },
  {
   "cell_type": "code",
   "execution_count": null,
   "metadata": {
    "scrolled": true
   },
   "outputs": [],
   "source": [
    "with open(\"chute cycliste 2.csv\", \"r\", encoding='utf-8') as f:\n",
    "    rfichier = csv.reader(f, delimiter=\";\")\n",
    "    tableau=[]\n",
    "    for row in rfichier:        \n",
    "        if row[0][0] not in (\"0\",\"1\",\"2\",\"3\",\"4\",\"5\",\"6\",\"7\",\"8\",\"9\",\",\",\".\"):  \n",
    "            continue                            \n",
    "        for i in range (len(row)):                               \n",
    "            X = []                                              \n",
    "            tableau.append(X)                                    \n",
    "            tableau[i].append(float(row[i].replace(\",\",'.')))                                                              \n",
    "        break                         \n",
    "    for row in rfichier:              \n",
    "        for i in range (len(row)):\n",
    "            tableau[i].append(float(row[i].replace(\",\",'.')))    \n",
    "    t=tableau[0]\n",
    "    print(t)\n",
    "    x=tableau[1]\n",
    "    print(x)\n",
    "    y=tableau[2]\n",
    "    print(y)"
   ]
  },
  {
   "cell_type": "code",
   "execution_count": null,
   "metadata": {},
   "outputs": [],
   "source": [
    "vx=np.array([])\n",
    "for i in range (1,len(x)-1):\n",
    "    vxi=(x[i+1]-x[i-1])/(t[i+1]-t[i-1])\n",
    "    vx=np.append(vx,[vxi])"
   ]
  },
  {
   "cell_type": "code",
   "execution_count": null,
   "metadata": {},
   "outputs": [],
   "source": [
    "vy=np.array([])\n",
    "for i in range (1,len(y)-1):\n",
    "    vyi=(y[i+1]-y[i-1])/(t[i+1]-t[i-1])\n",
    "    vy=np.append(vy,[vyi])"
   ]
  },
  {
   "cell_type": "code",
   "execution_count": null,
   "metadata": {},
   "outputs": [],
   "source": [
    "fig = plt.figure(1,figsize=(12,10))\n",
    "plt.plot(x,y,'ro-')\n",
    "plt.xlim(0,max(x)+0.5)\n",
    "plt.ylim(0,max(y)+0.5)\n",
    "plt.grid()\n",
    "plt.xlabel(\"x(m)\")\n",
    "plt.ylabel(\"y(m)\")\n",
    "for i in range (len (vx)) :\n",
    "    plt.arrow(x[i+1],y[i+1],0.05*vx[i],0.05*vy[i],fc='b',ec='b',head_width=0.02,length_includes_head=True)\n",
    "plt.title(\"Tracé des vecteurs vitesse instantanée\")\n",
    "plt.show()"
   ]
  },
  {
   "cell_type": "code",
   "execution_count": null,
   "metadata": {},
   "outputs": [],
   "source": []
  },
  {
   "cell_type": "code",
   "execution_count": null,
   "metadata": {},
   "outputs": [],
   "source": []
  }
 ],
 "metadata": {
  "kernelspec": {
   "display_name": "Python 3",
   "language": "python",
   "name": "python3"
  },
  "language_info": {
   "codemirror_mode": {
    "name": "ipython",
    "version": 3
   },
   "file_extension": ".py",
   "mimetype": "text/x-python",
   "name": "python",
   "nbconvert_exporter": "python",
   "pygments_lexer": "ipython3",
   "version": "3.6.7"
  }
 },
 "nbformat": 4,
 "nbformat_minor": 2
}

{
 "cells": [
  {
   "cell_type": "markdown",
   "metadata": {},
   "source": [
    "## Tracé des vecteurs vitesse (version avec fonctions)"
   ]
  },
  {
   "cell_type": "raw",
   "metadata": {
    "raw_mimetype": "text/restructuredtext"
   },
   "source": [
    ":download:`Télécharger le pdf <./chute_balle_cycliste_avec_fonctions.pdf>`\n",
    "\n",
    ":download:`Télécharger le notebook <./chute_balle_cycliste_avec_fonctions.ipynb>`,\n",
    ":download:`le fichier csv <./chute_balle.csv>` et \n",
    ":download:`la vidéo <./cycliste.avi>`,\n",
    "\n",
    "\n",
    ":download:`Lancer le notebook sur binder (lent) <https://mybinder.org/v2/gl/pyspc%2Fpyspc/master?filepath=07-activites%2F02-seconde%2Fmouvement_parabolique_vecteurs_vitesse%2Fchute_balle_cycliste_avec_fonctions.ipynb>`"
   ]
  },
  {
   "cell_type": "code",
   "execution_count": 1,
   "metadata": {},
   "outputs": [],
   "source": [
    "import matplotlib.pyplot as plt\n",
    "%matplotlib inline\n",
    "import csv"
   ]
  },
  {
   "cell_type": "code",
   "execution_count": 2,
   "metadata": {
    "scrolled": true
   },
   "outputs": [],
   "source": [
    "def charge_fichier_csv(fichier, delimiter=\";\",N=0):\n",
    "    with open(fichier, 'r', encoding='utf-8') as f :\n",
    "        rfichier = csv.reader(f, delimiter=delimiter)\n",
    "        tableau=[]\n",
    "        index_row=0\n",
    "        for row in rfichier:            \n",
    "            if index_row < N:\n",
    "                index_row = index_row+1\n",
    "            else : \n",
    "                for i in range (len(row)): \n",
    "                    if len(tableau) <= i:\n",
    "                        X = []       \n",
    "                        tableau.append(X) \n",
    "                    try:\n",
    "                        tableau[i].append(float(row[i].replace(\",\",'.')))    \n",
    "                    except ValueError:\n",
    "                        print('erreur:contenu de cellule non numérique')\n",
    "                        continue\n",
    "            \n",
    "        return (tableau)"
   ]
  },
  {
   "cell_type": "code",
   "execution_count": 3,
   "metadata": {},
   "outputs": [],
   "source": [
    "def vitesse(t,z):\n",
    "    vz=[]\n",
    "    for i in range (len(z)-1):\n",
    "        vzi=(z[i+1]-z[i])/(t[i+1]-t[i])\n",
    "        vz.append(vzi)\n",
    "    return vz"
   ]
  },
  {
   "cell_type": "code",
   "execution_count": 4,
   "metadata": {},
   "outputs": [],
   "source": [
    "def graphvect(x,y,vx,vy):\n",
    "    fig = plt.figure(1,figsize=(12,10))\n",
    "    plt.plot(x,y,'ro-')\n",
    "    plt.xlim(0,max(x)+0.5)\n",
    "    plt.ylim(0,max(y)+0.5)\n",
    "    plt.grid()\n",
    "    plt.xlabel(\"x(m)\")\n",
    "    plt.ylabel(\"y(m)\")\n",
    "    for i in range (len (vx)) :\n",
    "        plt.arrow(x[i],y[i],0.03*vx[i],0.03*vy[i],fc='b',\n",
    "                  ec='b',head_width=0.02,\n",
    "                  length_includes_head=True)\n",
    "    plt.title(\"Tracé des vecteurs vitesse\")\n",
    "    plt.show()"
   ]
  },
  {
   "cell_type": "code",
   "execution_count": 6,
   "metadata": {},
   "outputs": [
    {
     "name": "stdout",
     "output_type": "stream",
     "text": [
      "[0.76, 0.8, 0.84, 0.88, 0.92, 0.96, 1.0, 1.04, 1.08, 1.12, 1.16, 1.2, 1.24, 1.28, 1.32, 1.36]\n",
      "[0.00865710739046, 0.106770991149, 0.204884874908, 0.302998758666, 0.398226939961, 0.493455121256, 0.588683302551, 0.675254376456, 0.767596855287, 0.857053631656, 0.946510408024, 1.03019577946, 1.11676685337, 1.19756652235, 1.27836619132, 1.36205156277]\n",
      "[1.98247759242, 1.97093478256, 1.94496346039, 1.89590651851, 1.83530676678, 1.7545070978, 1.66216461897, 1.55827933028, 1.43707982682, 1.29568040611, 1.15139528293, 0.984024540049, 0.807996689776, 0.605997517332, 0.403998344888, 0.187570660127]\n"
     ]
    },
    {
     "data": {
      "image/png": "[encoded data removed]",
      "text/plain": [
       "<Figure size 864x720 with 1 Axes>"
      ]
     },
     "metadata": {
      "needs_background": "light"
     },
     "output_type": "display_data"
    }
   ],
   "source": [
    "tableau = charge_fichier_csv(\"chute_balle.csv\",N=1)\n",
    "t=tableau[0]\n",
    "print(t)\n",
    "x=tableau[1]\n",
    "print(x)\n",
    "y=tableau[2]\n",
    "print(y)\n",
    "vx=vitesse(t,x)\n",
    "vy=vitesse(t,y)\n",
    "graphvect(x,y,vx,vy)"
   ]
  },
  {
   "cell_type": "code",
   "execution_count": null,
   "metadata": {},
   "outputs": [],
   "source": []
  }
 ],
 "metadata": {
  "kernelspec": {
   "display_name": "Python 3",
   "language": "python",
   "name": "python3"
  },
  "language_info": {
   "codemirror_mode": {
    "name": "ipython",
    "version": 3
   },
   "file_extension": ".py",
   "mimetype": "text/x-python",
   "name": "python",
   "nbconvert_exporter": "python",
   "pygments_lexer": "ipython3",
   "version": "3.6.9"
  }
 },
 "nbformat": 4,
 "nbformat_minor": 4
}

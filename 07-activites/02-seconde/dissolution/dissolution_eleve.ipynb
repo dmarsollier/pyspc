{
 "cells": [
  {
   "attachments": {},
   "cell_type": "markdown",
   "metadata": {
    "slideshow": {
     "slide_type": "-"
    }
   },
   "source": [
    "# Préparation d'une solution par dissolution\n",
    "\n",
    "Contexte : Un technicien de laboratoire aurait besoin d'un petit programme en Python afin de calculer facilement la masse m de soluté à peser pour fabriquer une solution de concentration en soluté apporté C et de volume V. Aidez-le à réaliser ce petit programme!!\n",
    "\n",
    "![Préparer une solution par dissolution d'un solide](pre-parer-une-solution-par-dissolution-d-un-solide-img02.png)\n",
    "\n",
    "source : https://www.schoolmouv.fr"
   ]
  },
  {
   "cell_type": "markdown",
   "metadata": {},
   "source": [
    "Pour commencer, il faut définir les différentes variables utiles pour faire le calcul. Compléter les deux cellules vides ci-dessous en vous aidant du modèle de la cellule de la masse molaire. Ne pas oublier d'exécuter chaque cellule pour vérifier que votre code est correct!"
   ]
  },
  {
   "cell_type": "code",
   "execution_count": null,
   "metadata": {},
   "outputs": [],
   "source": [
    "# ligne de code permettant de définir la variable M et\n",
    "# de lui attribuer une valeur.\n",
    "\n",
    "M=58.5   # masse molaire en g/mol\n",
    "\n",
    "\n",
    "# ligne de code permettant d'afficher la variable\n",
    "\n",
    "print ('M =',M,'g/mol')\n",
    "\n",
    "\n",
    "# ligne de code permettant d'afficher la variable \n",
    "# en écriture décimale avec une décimale\n",
    "\n",
    "print('M ={0:.1f}'.format(M),'g/mol') \n",
    "\n",
    "\n",
    "# ligne de code permettant d'afficher la variable \n",
    "# en écriture scientifique avec deux décimales \n",
    "# donc trois chiffres significatifs \n",
    "\n",
    "print('M ={0:.2e}'.format(M),'g/mol')                                           "
   ]
  },
  {
   "cell_type": "code",
   "execution_count": null,
   "metadata": {},
   "outputs": [],
   "source": []
  },
  {
   "cell_type": "code",
   "execution_count": null,
   "metadata": {},
   "outputs": [],
   "source": []
  },
  {
   "cell_type": "markdown",
   "metadata": {},
   "source": [
    "Maintenant, il reste à écrire dans la cellule suivante les lignes de code permettant de calculer puis d'afficher la valeur de la masse de soluté en g."
   ]
  },
  {
   "cell_type": "code",
   "execution_count": null,
   "metadata": {},
   "outputs": [],
   "source": []
  },
  {
   "cell_type": "markdown",
   "metadata": {},
   "source": [
    "Enregistrer ce fichier sous format.py puis l'ouvrir dans l'application spider et l'exécuter."
   ]
  }
 ],
 "metadata": {
  "celltoolbar": "Aucun(e)",
  "kernelspec": {
   "display_name": "Python 3",
   "language": "python",
   "name": "python3"
  },
  "language_info": {
   "codemirror_mode": {
    "name": "ipython",
    "version": 3
   },
   "file_extension": ".py",
   "mimetype": "text/x-python",
   "name": "python",
   "nbconvert_exporter": "python",
   "pygments_lexer": "ipython3",
   "version": "3.7.2"
  }
 },
 "nbformat": 4,
 "nbformat_minor": 2
}

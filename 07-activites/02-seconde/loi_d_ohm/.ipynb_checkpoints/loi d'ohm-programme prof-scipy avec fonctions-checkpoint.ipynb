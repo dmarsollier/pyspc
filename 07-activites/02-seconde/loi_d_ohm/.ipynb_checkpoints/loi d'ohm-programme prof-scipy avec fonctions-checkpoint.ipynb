{
 "cells": [
  {
   "cell_type": "markdown",
   "metadata": {},
   "source": [
    "# Activité : La loi d’Ohm"
   ]
  },
  {
   "attachments": {
    "tableau.png": {
     "image/png": "[encoded data removed]"
    }
   },
   "cell_type": "markdown",
   "metadata": {},
   "source": [
    " ![tableau.png](attachment:tableau.png)"
   ]
  },
  {
   "cell_type": "code",
   "execution_count": null,
   "metadata": {},
   "outputs": [],
   "source": [
    "from scipy import stats\n",
    "import numpy as np\n",
    "import matplotlib.pyplot as plt"
   ]
  },
  {
   "cell_type": "code",
   "execution_count": null,
   "metadata": {},
   "outputs": [],
   "source": [
    "# fonction modélisation par une droite d'équation y=ax+b \n",
    "def modelisation(x,y):\n",
    "    slope, intercept, r_value, p_value, std_error = stats.linregress(x,y)\n",
    "    ymodel = slope*x+intercept\n",
    "    print('U= %.1f x I' %slope)       \n",
    "    return (ymodel)"
   ]
  },
  {
   "cell_type": "code",
   "execution_count": null,
   "metadata": {},
   "outputs": [],
   "source": [
    "# fonction permettant de tracer le graphique avec les points expérimentaux et la courbe obtenue après modélisation\n",
    "def courbemodelisee (x,y,ymodel) :\n",
    "    fig = plt.figure(figsize=(12,10))\n",
    "    plt.plot(x,y,'r+',label='U=f(I)')\n",
    "    plt.plot(x,ymodel,'b',label='modèle linéaire')\n",
    "    plt.legend()\n",
    "    plt.xlabel(\"intensité I (A)\")\n",
    "    plt.ylabel(\"tension U (V)\")\n",
    "    plt.grid()\n",
    "    plt.title(\"Caractéristique Intensité-Tension d’un dipôle ohmique\")\n",
    "    plt.show()"
   ]
  },
  {
   "cell_type": "code",
   "execution_count": null,
   "metadata": {},
   "outputs": [],
   "source": [
    "I=np.array([0,25e-3,50e-3,75e-3,100e-3,125e-3])   \n",
    "U=np.array([0,1.7,3.4,5.1,6.8,8.5])                  \n",
    "Umodel=modelisation(I,U)\n",
    "courbemodelisee(I,U,Umodel)"
   ]
  }
 ],
 "metadata": {
  "kernelspec": {
   "display_name": "Python 3",
   "language": "python",
   "name": "python3"
  },
  "language_info": {
   "codemirror_mode": {
    "name": "ipython",
    "version": 3
   },
   "file_extension": ".py",
   "mimetype": "text/x-python",
   "name": "python",
   "nbconvert_exporter": "python",
   "pygments_lexer": "ipython3",
   "version": "3.6.7"
  }
 },
 "nbformat": 4,
 "nbformat_minor": 2
}

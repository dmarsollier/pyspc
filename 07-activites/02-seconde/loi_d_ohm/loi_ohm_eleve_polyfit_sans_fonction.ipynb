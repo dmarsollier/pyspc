{
 "cells": [
  {
   "cell_type": "markdown",
   "metadata": {},
   "source": [
    "# Activité : La loi d’Ohm\n",
    "\n",
    "\n",
    "Mathilde, élève de 2nde, souhaite tracer la caractéristique d’un dipôle ohmique, c’est-à-dire la courbe donnant les valeurs de la tension aux bornes du dipôle ohmique en fonction des valeurs de l’intensité du courant qui le traverse.\n"
   ]
  },
  {
   "cell_type": "markdown",
   "metadata": {},
   "source": [
    "Elle a schématisé le circuit de son expérience :![circuit.png](circuit.png)"
   ]
  },
  {
   "cell_type": "markdown",
   "metadata": {},
   "source": [
    "Dans la cellule ci-dessous, indiquer la signification des symboles X et Y et le nom des bornes 1, 2, 3, 4."
   ]
  },
  {
   "cell_type": "raw",
   "metadata": {},
   "source": [
    "X :         1 :             2 :\n",
    "Y :         3 :             4 :\n"
   ]
  },
  {
   "cell_type": "markdown",
   "metadata": {},
   "source": [
    "Mathilde relève les mesures expérimentales suivantes : \n",
    "![tableau.png](tableau.png)"
   ]
  },
  {
   "cell_type": "markdown",
   "metadata": {},
   "source": [
    "Aider Mathilde à coder la deuxième ligne du tableau de valeurs dans la cellule vide ci-dessous en vous aidant du code de la première ligne (attention les valeurs de l'intensité y ont été converties en ampère)."
   ]
  },
  {
   "cell_type": "code",
   "execution_count": null,
   "metadata": {},
   "outputs": [],
   "source": [
    "import numpy as np\n",
    "import matplotlib.pyplot as plt\n",
    "%matplotlib inline"
   ]
  },
  {
   "cell_type": "code",
   "execution_count": null,
   "metadata": {},
   "outputs": [],
   "source": [
    "# array signifie tableau en anglais\n",
    "I=np.array([0,25e-3,50e-3,75e-3,100e-3,125e-3])\n",
    "print (I)"
   ]
  },
  {
   "cell_type": "code",
   "execution_count": null,
   "metadata": {},
   "outputs": [],
   "source": []
  },
  {
   "cell_type": "markdown",
   "metadata": {},
   "source": [
    "Mathilde veut maintenant afficher la caractéristique « intensité-tension » du dipôle ohmique en respectant les consignes suivantes :\n",
    "\n",
    "    - axe des abscisses (horizontal) : Intensité I (mA)\n",
    "    - axe des ordonnées (vertical) : Tension U(V)\n",
    "    - points expérimentaux : croix + de couleur rouge \n",
    "    - Titre: \"Caractéristique Intensité-Tension d’un dipôle ohmique\"\n",
    "\n",
    "Les cellules ci-dessous contiennent chacune une ligne du code nécessaire à l'affichage de la caractéristique. \n",
    "Exécuter chaque cellule au fur et à mesure afin de comprendre leur utilité. Noter si besoin des commentaires dans les cellules laissées vides à cet effet."
   ]
  },
  {
   "cell_type": "code",
   "execution_count": null,
   "metadata": {},
   "outputs": [],
   "source": [
    "fig = plt.figure(figsize=(12,10))"
   ]
  },
  {
   "cell_type": "code",
   "execution_count": null,
   "metadata": {},
   "outputs": [],
   "source": [
    "plt.plot(I,U)"
   ]
  },
  {
   "cell_type": "raw",
   "metadata": {},
   "source": [
    "commentaire : "
   ]
  },
  {
   "cell_type": "code",
   "execution_count": null,
   "metadata": {},
   "outputs": [],
   "source": [
    "plt.plot(I,U,'r+')"
   ]
  },
  {
   "cell_type": "code",
   "execution_count": null,
   "metadata": {},
   "outputs": [],
   "source": [
    "plt.plot(I,U,'r+')\n",
    "plt.show()"
   ]
  },
  {
   "cell_type": "raw",
   "metadata": {},
   "source": [
    "commentaire : "
   ]
  },
  {
   "cell_type": "code",
   "execution_count": null,
   "metadata": {},
   "outputs": [],
   "source": [
    "plt.plot(I,U,'r+',label='U=f(I)')\n",
    "plt.legend()"
   ]
  },
  {
   "cell_type": "raw",
   "metadata": {},
   "source": [
    "commentaire : "
   ]
  },
  {
   "cell_type": "code",
   "execution_count": null,
   "metadata": {},
   "outputs": [],
   "source": [
    "plt.xlabel(\"intensité I (A)\")"
   ]
  },
  {
   "cell_type": "raw",
   "metadata": {},
   "source": [
    "commentaire : "
   ]
  },
  {
   "cell_type": "code",
   "execution_count": null,
   "metadata": {},
   "outputs": [],
   "source": [
    "plt.ylabel(\"tension U (V)\")"
   ]
  },
  {
   "cell_type": "raw",
   "metadata": {},
   "source": [
    "commentaire : "
   ]
  },
  {
   "cell_type": "code",
   "execution_count": null,
   "metadata": {},
   "outputs": [],
   "source": [
    "plt.grid()"
   ]
  },
  {
   "cell_type": "raw",
   "metadata": {},
   "source": [
    "commentaire : "
   ]
  },
  {
   "cell_type": "code",
   "execution_count": null,
   "metadata": {},
   "outputs": [],
   "source": [
    "plt.title(\"Caractéristique Intensité-Tension \"\n",
    "          \"d’un dipôle ohmique\")"
   ]
  },
  {
   "cell_type": "raw",
   "metadata": {},
   "source": [
    "commentaire : "
   ]
  },
  {
   "cell_type": "markdown",
   "metadata": {},
   "source": [
    "Exécutez maintenant le programme en entier! "
   ]
  },
  {
   "cell_type": "code",
   "execution_count": null,
   "metadata": {
    "scrolled": true
   },
   "outputs": [],
   "source": [
    "import numpy as np\n",
    "import matplotlib.pyplot as plt\n",
    "I=np.array([0,25e-3,50e-3,75e-3,100e-3,125e-3]) \n",
    "U=np.array([0,1.7,3.4,5.1,6.8,8.5])\n",
    "fig = plt.figure(figsize=(12,10))\n",
    "plt.plot(I,U,'r+',label='U=f(I)')\n",
    "plt.legend()\n",
    "plt.xlabel(\"intensité I (A)\")\n",
    "plt.ylabel(\"tension U (V)\")\n",
    "plt.grid()\n",
    "plt.title(\"Caractéristique Intensité-Tension d’un \"\n",
    "          \"dipôle ohmique\")\n",
    "plt.show()"
   ]
  },
  {
   "cell_type": "markdown",
   "metadata": {},
   "source": [
    "Il s'agit maintenant de modéliser la courbe obtenue.\n",
    "\n",
    "Quelle est la forme de la courbe obtenue?"
   ]
  },
  {
   "cell_type": "markdown",
   "metadata": {},
   "source": []
  },
  {
   "cell_type": "markdown",
   "metadata": {},
   "source": [
    "Quelle est l'équation mathématique d'une telle courbe?"
   ]
  },
  {
   "cell_type": "markdown",
   "metadata": {},
   "source": []
  },
  {
   "cell_type": "markdown",
   "metadata": {},
   "source": [
    "Exécutez le programme ci-dessous permettant de modéliser la courbe obtenue par une droite."
   ]
  },
  {
   "cell_type": "code",
   "execution_count": null,
   "metadata": {},
   "outputs": [],
   "source": [
    "coeff=np.polyfit(I, U,1)\n",
    "print ('{0:.1f}'.format(coeff[0]), \n",
    "       '{0:.1f}'.format(coeff[1]))\n",
    "Umodel = coeff[0]*I+coeff[1]\n",
    "print('U={0:.1f}'.format(coeff[0]),'x I')\n",
    "print(Umodel)"
   ]
  },
  {
   "cell_type": "markdown",
   "metadata": {},
   "source": [
    "Que représente coeff [0] ?"
   ]
  },
  {
   "cell_type": "markdown",
   "metadata": {},
   "source": []
  },
  {
   "cell_type": "markdown",
   "metadata": {},
   "source": [
    "Que représente coeff[1] ?"
   ]
  },
  {
   "cell_type": "markdown",
   "metadata": {},
   "source": []
  },
  {
   "cell_type": "markdown",
   "metadata": {},
   "source": [
    "Affichez la droite modélisée grâce au programme ci-dessous."
   ]
  },
  {
   "cell_type": "code",
   "execution_count": null,
   "metadata": {},
   "outputs": [],
   "source": [
    "fig = plt.figure(figsize=(12,10))\n",
    "plt.plot(I,U,'r+',label='U=f(I)')\n",
    "plt.plot(I,Umodel,'b',label='modèle linéaire')\n",
    "plt.legend()\n",
    "plt.xlabel(\"intensité I (A)\")\n",
    "plt.ylabel(\"tension U (V)\")\n",
    "plt.grid()\n",
    "plt.title(\"Caractéristique Intensité-Tension \"\n",
    "          \"d’un dipôle ohmique\")\n",
    "plt.show()"
   ]
  },
  {
   "cell_type": "markdown",
   "metadata": {},
   "source": [
    "La tension U et l’intensité I sont-elles proportionnelles ? Pourquoi ?"
   ]
  },
  {
   "cell_type": "markdown",
   "metadata": {},
   "source": []
  },
  {
   "cell_type": "markdown",
   "metadata": {},
   "source": [
    "Que remarquez-vous à propos de la valeur du coefficient directeur de la droite?"
   ]
  },
  {
   "cell_type": "markdown",
   "metadata": {},
   "source": []
  },
  {
   "cell_type": "markdown",
   "metadata": {},
   "source": [
    "En déduire une formule appelée loi d'Ohm entre la tension U, l’intensité I et la résistance électrique R du \n",
    "dipôle ohmique."
   ]
  },
  {
   "cell_type": "markdown",
   "metadata": {},
   "source": []
  }
 ],
 "metadata": {
  "kernelspec": {
   "display_name": "Python 3",
   "language": "python",
   "name": "python3"
  },
  "language_info": {
   "codemirror_mode": {
    "name": "ipython",
    "version": 3
   },
   "file_extension": ".py",
   "mimetype": "text/x-python",
   "name": "python",
   "nbconvert_exporter": "python",
   "pygments_lexer": "ipython3",
   "version": "3.7.2"
  }
 },
 "nbformat": 4,
 "nbformat_minor": 2
}

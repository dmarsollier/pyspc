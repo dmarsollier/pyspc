{
 "cells": [
  {
   "cell_type": "markdown",
   "metadata": {},
   "source": [
    "# Descartes\n",
    "La loi $$n_1\\ \\sin i_1=n_2\\ \\sin i_2$$"
   ]
  },
  {
   "cell_type": "code",
   "execution_count": 1,
   "metadata": {},
   "outputs": [],
   "source": [
    "# Chargement des librairies utiles\n",
    "%matplotlib inline\n",
    "import matplotlib\n",
    "import numpy as np\n",
    "import matplotlib.pyplot as plt\n",
    "\n",
    "import math\n",
    "\n",
    "\n"
   ]
  },
  {
   "cell_type": "code",
   "execution_count": 2,
   "metadata": {},
   "outputs": [],
   "source": [
    "def deg2rad(angle):\n",
    "    return angle/180*math.pi\n",
    "\n",
    "def rad2deg(angle):\n",
    "    return angle/math.pi*180\n",
    "\n",
    "\n",
    "def i2(i1=0, n1=1, n2=1):\n",
    "    \"\"\"\n",
    "    Calcule l'angle réfracté.\n",
    "    Renvoie None si réflexion totale\n",
    "    \"\"\"\n",
    "    try:\n",
    "        return rad2deg(math.asin(n1*math.sin(deg2rad(i1))/n2))\n",
    "    except ValueError:\n",
    "        return None\n",
    "    \n",
    "def plot(i1):\n",
    "    \"\"\"\n",
    "    Affiche le graphique correspondant à un angle\n",
    "    \"\"\"\n",
    "    plt.plot([-3,0],[10,0], \"b\")\n",
    "    plt.plot([3,0],[10,0], \"b\")\n",
    "    plt.plot([0,5],[0,-10], \"r\")\n",
    "    plt.plot([-10, 10], [0,0], \"g--\")\n",
    "    plt.plot([0,0], [-10, 10], \"g--\")\n",
    "    \n",
    "    plt.ylim(top=12, bottom=-12)\n",
    "    plt.xlim(left=-12, right=12)\n",
    "    plt.axis('equal')\n",
    "    plt.show()\n",
    "    \n",
    "    "
   ]
  },
  {
   "cell_type": "markdown",
   "metadata": {},
   "source": [
    "Compléter les lignes 1, 2, 3 en donnant les valeurs de $i_1$ en degrés, et les indices $n_1$ et $n_2$"
   ]
  },
  {
   "cell_type": "code",
   "execution_count": 5,
   "metadata": {},
   "outputs": [
    {
     "data": {
      "image/png": "[encoded data removed]",
      "text/plain": [
       "<Figure size 432x288 with 1 Axes>"
      ]
     },
     "metadata": {
      "needs_background": "light"
     },
     "output_type": "display_data"
    }
   ],
   "source": [
    "i1=55\n",
    "n1=1.2\n",
    "n2=1\n",
    "\n",
    "i2(i1,n1,n2)\n",
    "\n",
    "plot(12)"
   ]
  },
  {
   "cell_type": "code",
   "execution_count": null,
   "metadata": {},
   "outputs": [],
   "source": []
  }
 ],
 "metadata": {
  "kernelspec": {
   "display_name": "Python 3",
   "language": "python",
   "name": "python3"
  },
  "language_info": {
   "codemirror_mode": {
    "name": "ipython",
    "version": 3
   },
   "file_extension": ".py",
   "mimetype": "text/x-python",
   "name": "python",
   "nbconvert_exporter": "python",
   "pygments_lexer": "ipython3",
   "version": "3.7.2"
  }
 },
 "nbformat": 4,
 "nbformat_minor": 2
}

{
 "cells": [
  {
   "cell_type": "markdown",
   "metadata": {},
   "source": [
    "# Introduction\n",
    "## Le markdown\n",
    "\n",
    "On peut formatter du texte **en gras**, en *italique*. On peut mettre `des extraits de code`\n",
    "\n",
    "- une liste non numérotée\n",
    "- élément 2\n",
    "- élément 3\n",
    "\n",
    "Une liste numérotée :\n",
    "\n",
    "1. liste numérotée\n",
    "2. liste numérotée 2\n",
    "3. liste numérotée\n",
    "\n",
    "Pour changer de paragraphe\n",
    "il faut \n",
    "sauter\n",
    "une ligne\n",
    "\n",
    "Prochain paragraphe\n",
    "\n",
    "Ecrire des maths : $x^2$ ou une formule séparée : $$\\frac{x^2}{\\sqrt{3}}$$\n",
    "\n",
    "```python\n",
    "print(\"toto\")\n",
    "```\n"
   ]
  },
  {
   "cell_type": "markdown",
   "metadata": {},
   "source": [
    "## Les types\n",
    "### Les nombres\n",
    "- nombres entiers (**int**) : exemple : 3\n",
    "- nombres à virgule (**float**) exemple : 1.\n",
    "- nombres complexes (**complex**) exemple 3+3j\n",
    "\n",
    "pour déterminer le type d'un objet : fonction `type()`\n",
    "\n",
    "à l'intérieur du code, un commentaire débute par #\n"
   ]
  },
  {
   "cell_type": "code",
   "execution_count": 2,
   "metadata": {},
   "outputs": [
    {
     "data": {
      "text/plain": [
       "int"
      ]
     },
     "execution_count": 2,
     "metadata": {},
     "output_type": "execute_result"
    }
   ],
   "source": [
    "type(3)"
   ]
  },
  {
   "cell_type": "code",
   "execution_count": 3,
   "metadata": {},
   "outputs": [
    {
     "data": {
      "text/plain": [
       "float"
      ]
     },
     "execution_count": 3,
     "metadata": {},
     "output_type": "execute_result"
    }
   ],
   "source": [
    "type(1.)"
   ]
  },
  {
   "cell_type": "code",
   "execution_count": 4,
   "metadata": {},
   "outputs": [
    {
     "data": {
      "text/plain": [
       "complex"
      ]
     },
     "execution_count": 4,
     "metadata": {},
     "output_type": "execute_result"
    }
   ],
   "source": [
    "type(3j)"
   ]
  },
  {
   "cell_type": "code",
   "execution_count": 7,
   "metadata": {},
   "outputs": [
    {
     "name": "stdout",
     "output_type": "stream",
     "text": [
      "1.5\n",
      "1\n"
     ]
    }
   ],
   "source": [
    "# Division \"normale\"\n",
    "print(6/4)\n",
    "# Division entière\n",
    "print(6//4)"
   ]
  },
  {
   "cell_type": "code",
   "execution_count": 9,
   "metadata": {},
   "outputs": [
    {
     "name": "stdout",
     "output_type": "stream",
     "text": [
      "2\n"
     ]
    }
   ],
   "source": [
    "# Reste de la division entière = modulo\n",
    "print(8%3)"
   ]
  },
  {
   "cell_type": "code",
   "execution_count": 10,
   "metadata": {},
   "outputs": [
    {
     "data": {
      "text/plain": [
       "15625"
      ]
     },
     "execution_count": 10,
     "metadata": {},
     "output_type": "execute_result"
    }
   ],
   "source": [
    "# Puissance\n",
    "5**6"
   ]
  },
  {
   "cell_type": "code",
   "execution_count": 11,
   "metadata": {},
   "outputs": [
    {
     "data": {
      "text/plain": [
       "3071804410962836243108348102209334733752252120524916516288788317879285618913242769221546233801029309660240744684870161068642242819317186478113205811129791553448348232721454219502051517794395808958452378523656483308658593843859108631095881498624"
      ]
     },
     "execution_count": 11,
     "metadata": {},
     "output_type": "execute_result"
    }
   ],
   "source": [
    "42**150"
   ]
  },
  {
   "cell_type": "code",
   "execution_count": 15,
   "metadata": {},
   "outputs": [
    {
     "name": "stdout",
     "output_type": "stream",
     "text": [
      "3\n",
      "3.0\n"
     ]
    }
   ],
   "source": [
    "# Conversions de type\n",
    "# 3.124 --> int = 3\n",
    "print(int(3.124))\n",
    "# int -> float\n",
    "print(float(3))"
   ]
  },
  {
   "cell_type": "markdown",
   "metadata": {},
   "source": [
    "## Les variables\n",
    "\n",
    "- conditions : noms de variables : **uniquement des lettres sans accents**, ou _ ou **chiffres pas au début**\n",
    "\n"
   ]
  },
  {
   "cell_type": "code",
   "execution_count": 17,
   "metadata": {},
   "outputs": [
    {
     "name": "stdout",
     "output_type": "stream",
     "text": [
      "3\n"
     ]
    }
   ],
   "source": [
    "x=3\n",
    "print(x)"
   ]
  },
  {
   "cell_type": "code",
   "execution_count": 18,
   "metadata": {},
   "outputs": [],
   "source": [
    "# des raccourcis pratiques\n",
    "x+=3 # --> x=x+3\n",
    "x-=3 # --> x=x-3\n",
    "# assignations multiples\n",
    "x=y=z=0"
   ]
  },
  {
   "cell_type": "markdown",
   "metadata": {},
   "source": [
    "### Exercices\n",
    "\n",
    "1. avec `a=1` et `b=2`, prévoir puis afficher la valeur de `a` après `a+=(b-3)`\n",
    "2. avec `a=5` et `b=6`, inverser le contenu de `a` et de `b`"
   ]
  },
  {
   "cell_type": "code",
   "execution_count": 20,
   "metadata": {},
   "outputs": [
    {
     "name": "stdout",
     "output_type": "stream",
     "text": [
      "Le résultat de l'exo 1 est :  0\n",
      "Le résultat de l'exo 2 est : a = 6  b = 5\n"
     ]
    }
   ],
   "source": [
    "# Exo 1\n",
    "a=1\n",
    "b=2\n",
    "a+=(b-3)\n",
    "print(\"Le résultat de l'exo 1 est : \", a)\n",
    "\n",
    "# Exo 2\n",
    "a=5\n",
    "b=6\n",
    "c=a\n",
    "a=b\n",
    "b=c\n",
    "print(\"Le résultat de l'exo 2 est : a =\", a, \" b =\", b)"
   ]
  },
  {
   "cell_type": "markdown",
   "metadata": {},
   "source": [
    "## Les fonctions\n",
    "### Les fonctions mathématiques\n",
    "\n",
    "Pour utiliser une fonction mathématique (ou d'autres types de fonctions qui ne sont pas dans la librairie \"de base\"), il faut les **importer**.\n",
    "\n",
    "Exemple :\n",
    "\n",
    "    import math\n",
    "    math.cos(3.14)\n",
    "    math.sin(0)\n",
    "    \n",
    "```python\n",
    "import math\n",
    "math.cos(3.14)\n",
    "math.sin(0)\n",
    "```\n",
    "\n",
    "pour importer une seule fonction (mieux !!) : \n",
    "\n",
    "```python\n",
    "from math import cos\n",
    "cos(3.14)\n",
    "```\n",
    "\n",
    "\n"
   ]
  },
  {
   "cell_type": "code",
   "execution_count": 23,
   "metadata": {},
   "outputs": [
    {
     "data": {
      "text/plain": [
       "-0.9999987317275395"
      ]
     },
     "execution_count": 23,
     "metadata": {},
     "output_type": "execute_result"
    }
   ],
   "source": [
    "from math import cos, sin, pi\n",
    "cos(3.14)"
   ]
  },
  {
   "cell_type": "code",
   "execution_count": 24,
   "metadata": {},
   "outputs": [
    {
     "data": {
      "text/plain": [
       "1.2246467991473532e-16"
      ]
     },
     "execution_count": 24,
     "metadata": {},
     "output_type": "execute_result"
    }
   ],
   "source": [
    "sin(pi)"
   ]
  },
  {
   "cell_type": "markdown",
   "metadata": {},
   "source": [
    "\n",
    "### Exercices\n",
    "1. Calculer le PGCD de 4956 et 8052 (utiliser la documentation de la bibliothèque `math`)\n",
    "2. Calculer la racine carrée de 40! (idem, RTFM :-)\n",
    "3. Calculer la racine carrée de -1 (indication : il existe une bibliothèque `cmath`)"
   ]
  },
  {
   "cell_type": "code",
   "execution_count": 25,
   "metadata": {},
   "outputs": [
    {
     "name": "stdout",
     "output_type": "stream",
     "text": [
      "Le pgcd de 4956 et 8052 vaut 12\n"
     ]
    }
   ],
   "source": [
    "from math import gcd\n",
    "print(\"Le pgcd de 4956 et 8052 vaut\", gcd(4956, 8052))"
   ]
  },
  {
   "cell_type": "code",
   "execution_count": 26,
   "metadata": {},
   "outputs": [
    {
     "name": "stdout",
     "output_type": "stream",
     "text": [
      "La racine carrée de 40! vaut 9.032802905233224e+23\n"
     ]
    }
   ],
   "source": [
    "from math import sqrt, factorial\n",
    "print(\"La racine carrée de 40! vaut\", sqrt(factorial(40)))"
   ]
  },
  {
   "cell_type": "code",
   "execution_count": 27,
   "metadata": {},
   "outputs": [
    {
     "name": "stdout",
     "output_type": "stream",
     "text": [
      "La racine carrée de -1 vaut 1j\n"
     ]
    }
   ],
   "source": [
    "from cmath import sqrt\n",
    "print(\"La racine carrée de -1 vaut\", sqrt(-1))"
   ]
  },
  {
   "cell_type": "code",
   "execution_count": 28,
   "metadata": {},
   "outputs": [
    {
     "name": "stdout",
     "output_type": "stream",
     "text": [
      "La racine carrée de 40! vaut (9.032802905233224e+23+0j)\n",
      "La racine carrée de -1 vaut 1j\n"
     ]
    }
   ],
   "source": [
    "# Attention aux importations qui s'écrasent\n",
    "from math import sqrt, factorial\n",
    "from cmath import sqrt\n",
    "print(\"La racine carrée de 40! vaut\", sqrt(factorial(40)))\n",
    "print(\"La racine carrée de -1 vaut\", sqrt(-1))"
   ]
  },
  {
   "cell_type": "code",
   "execution_count": 29,
   "metadata": {},
   "outputs": [
    {
     "name": "stdout",
     "output_type": "stream",
     "text": [
      "La racine carrée de 40! vaut 9.032802905233224e+23\n",
      "La racine carrée de -1 vaut 1j\n"
     ]
    }
   ],
   "source": [
    "# Solution : from xxxx import machin as bidule\n",
    "from math import sqrt, factorial\n",
    "from cmath import sqrt as bidule\n",
    "print(\"La racine carrée de 40! vaut\", sqrt(factorial(40)))\n",
    "print(\"La racine carrée de -1 vaut\", bidule(-1))"
   ]
  },
  {
   "cell_type": "markdown",
   "metadata": {},
   "source": [
    "## Créer ses propres fonctions\n",
    "\n",
    "Une fonction en maths : $f(x)=3x+2$ s'écrit en python :\n",
    "\n",
    "```python\n",
    "def f(x):\n",
    "    return 3*x+2\n",
    "```\n",
    "\n",
    "- nom de la fonction : pareil que pour les variables\n",
    "- début de la définition : **def**\n",
    "- un ou plusieurs arguments donnés entre parenthèses\n",
    "- le corps de la fonction doit être indenté (4 espaces)\n",
    "- la valeur retournée par la fonction est renvoyée par `return`\n",
    "- **la définition de la fonction se termine par :**\n"
   ]
  },
  {
   "cell_type": "code",
   "execution_count": 1,
   "metadata": {},
   "outputs": [
    {
     "name": "stdout",
     "output_type": "stream",
     "text": [
      "11\n",
      "47\n",
      "80\n"
     ]
    }
   ],
   "source": [
    "def f(x):\n",
    "    return 3*x+2\n",
    "print(f(3))\n",
    "print(f(15))\n",
    "print(f(f(f(2))))\n"
   ]
  },
  {
   "cell_type": "code",
   "execution_count": 4,
   "metadata": {},
   "outputs": [
    {
     "name": "stdout",
     "output_type": "stream",
     "text": [
      "13\n",
      "10\n",
      "10\n"
     ]
    }
   ],
   "source": [
    "# Une fonction peut avoir des arguments par défaut\n",
    "def affine(x, a, b=0):\n",
    "    return a*x+b\n",
    "\n",
    "print(affine(2,5,3))\n",
    "print(affine(2,5,0))\n",
    "print(affine(2,5))"
   ]
  },
  {
   "cell_type": "code",
   "execution_count": 5,
   "metadata": {},
   "outputs": [
    {
     "name": "stdout",
     "output_type": "stream",
     "text": [
      "13\n"
     ]
    }
   ],
   "source": [
    "# On peut donner les arguments par nom\n",
    "print(affine(a=5,x=2,b=3))"
   ]
  },
  {
   "cell_type": "code",
   "execution_count": 8,
   "metadata": {},
   "outputs": [
    {
     "name": "stdout",
     "output_type": "stream",
     "text": [
      "5.0\n"
     ]
    }
   ],
   "source": [
    "# Exo 1 : définir une fonction pythagore(cote1, cote2) qui donne\n",
    "# l'hypothénuse.\n",
    "from math import sqrt\n",
    "\n",
    "def pythagore(cote1, cote2):\n",
    "    return sqrt(cote1**2+cote2**2)\n",
    "print(pythagore(cote1=3,cote2=4))"
   ]
  },
  {
   "cell_type": "code",
   "execution_count": 12,
   "metadata": {},
   "outputs": [
    {
     "name": "stdout",
     "output_type": "stream",
     "text": [
      "Bonjour, je suis  2\n",
      "Toto existe ici :  2\n",
      "6\n"
     ]
    },
    {
     "ename": "NameError",
     "evalue": "name 'toto' is not defined",
     "output_type": "error",
     "traceback": [
      "\u001b[0;31m---------------------------------------------------------------------------\u001b[0m",
      "\u001b[0;31mNameError\u001b[0m                                 Traceback (most recent call last)",
      "\u001b[0;32m<ipython-input-12-432412532be7>\u001b[0m in \u001b[0;36m<module>\u001b[0;34m\u001b[0m\n\u001b[1;32m     10\u001b[0m \u001b[0;34m\u001b[0m\u001b[0m\n\u001b[1;32m     11\u001b[0m \u001b[0mprint\u001b[0m\u001b[0;34m(\u001b[0m\u001b[0mpouet\u001b[0m\u001b[0;34m(\u001b[0m\u001b[0;36m2\u001b[0m\u001b[0;34m)\u001b[0m\u001b[0;34m)\u001b[0m\u001b[0;34m\u001b[0m\u001b[0m\n\u001b[0;32m---> 12\u001b[0;31m \u001b[0mprint\u001b[0m\u001b[0;34m(\u001b[0m\u001b[0;34m\"Toto n'existe plus ici : boum\"\u001b[0m\u001b[0;34m,\u001b[0m \u001b[0mtoto\u001b[0m\u001b[0;34m)\u001b[0m\u001b[0;34m\u001b[0m\u001b[0m\n\u001b[0m",
      "\u001b[0;31mNameError\u001b[0m: name 'toto' is not defined"
     ]
    }
   ],
   "source": [
    "# Une fonction peut définir des variables **locales** et faire\n",
    "# d'autres choses\n",
    "\n",
    "def pouet(x,y=2):\n",
    "    print(\"Bonjour, je suis \", x)\n",
    "    toto=x+y-2\n",
    "    titi=x*y\n",
    "    print(\"Toto existe ici : \", toto)\n",
    "    return toto+titi\n",
    "\n",
    "print(pouet(2))\n",
    "print(\"Toto n'existe plus ici : boum\", toto)"
   ]
  },
  {
   "cell_type": "code",
   "execution_count": 14,
   "metadata": {},
   "outputs": [
    {
     "name": "stdout",
     "output_type": "stream",
     "text": [
      "Bonjour, je suis  2\n",
      "4\n",
      "Toto existe ici :  2\n",
      "Tata existe ici :  12\n",
      "6\n",
      "3\n"
     ]
    }
   ],
   "source": [
    "# Une fonction peut définir des variables **locales** et faire\n",
    "# d'autres choses\n",
    "\n",
    "tata=12\n",
    "x=3\n",
    "def pouet(x,y=2):\n",
    "    print(\"Bonjour, je suis \", x)\n",
    "    toto=x+y-2\n",
    "    titi=x*y\n",
    "    x=x+2\n",
    "    print(x)\n",
    "    print(\"Toto existe ici : \", toto)\n",
    "    print(\"Tata existe ici : \", tata)\n",
    "    return toto+titi\n",
    "\n",
    "print(pouet(2))\n",
    "print(x)\n"
   ]
  },
  {
   "cell_type": "markdown",
   "metadata": {},
   "source": [
    "### Exercices\n",
    "\n",
    "#### Définition de fonctions\n",
    "\n",
    "1. Définir une fonction appelée `produit_scalaire_2d` calculant le produit scalaire de deux vecteurs $\\vec{u}$ et $\\vec{v}$ définis par leurs coordonnées `ux`, `uy`, `vx`, `vy`. La tester sur les vecteurs $\\vec{u}=(1,1)$ et $\\vec{v}=(1,-1)$\n",
    "\n",
    "2. Définir une fonction appelée `produit_scalaire_2_ou_3d` calculant le produit scalaire de deux vecteurs $\\vec{u}$ et $\\vec{v}$ définis par leurs coordonnées `ux`, `uy`, et éventuellement `uz`, et `vx`, `vy` et évenuellement `vz`. Indication: les arguments par défaut ne peuvent pas être placés n'importe comment dans la liste des arguments. La tester avec $\\vec{u}=(0,0,1)$ et $\\vec{v}=(1,0,0)$ et $\\vec{u}=(0,1)$ et $\\vec{v}=(1,0)$.\n",
    "\n",
    "3. (*) Définir une fonction `composition` qui prenant deux fonctions `f1` et `f2` ainsi qu'une valeur `x` renvoie `f1(f2(f1(f2(x))))`. Tester et valider le résultat avec $f(x)=2x$ et $g(x)=x+2$, pour $x=1$. Indication : l'argument d'une fonction peut être une fonction..."
   ]
  },
  {
   "cell_type": "code",
   "execution_count": 4,
   "metadata": {},
   "outputs": [
    {
     "name": "stdout",
     "output_type": "stream",
     "text": [
      "Résultat (1,1).(1,-1) :  0\n",
      "Résultat (1,1).(1,-1) :  0\n"
     ]
    }
   ],
   "source": [
    "def produit_scalaire_2d(ux, uy,vx,vy):\n",
    "    return ux*vx + uy*vy\n",
    "print(\"Résultat (1,1).(1,-1) : \", produit_scalaire_2d(ux=1,uy=1, vx=1, vy=-1))\n",
    "print(\"Résultat (1,1).(1,-1) : \", produit_scalaire_2d(1,1,1,-1))"
   ]
  },
  {
   "cell_type": "code",
   "execution_count": 5,
   "metadata": {},
   "outputs": [
    {
     "name": "stdout",
     "output_type": "stream",
     "text": [
      "Résultat (1,1).(1,-1) :  0\n",
      "Résultat (1,1,1).(1,-1,1) :  1\n"
     ]
    }
   ],
   "source": [
    "def produit_scalaire_2_ou_3d(ux, vx, uy, vy, uz=0, vz=0):\n",
    "    return ux*vx+uy*vy+uz*vz\n",
    "print(\"Résultat (1,1).(1,-1) : \", produit_scalaire_2_ou_3d(ux=1,uy=1, vx=1, vy=-1))\n",
    "print(\"Résultat (1,1,1).(1,-1,1) : \", produit_scalaire_2_ou_3d(ux=1,uy=1,uz=1,vx=1, vy=-1, vz=1))\n",
    "\n",
    "\n"
   ]
  },
  {
   "cell_type": "code",
   "execution_count": 6,
   "metadata": {},
   "outputs": [
    {
     "name": "stdout",
     "output_type": "stream",
     "text": [
      "16\n",
      "<function composition at 0x1031c69d8>\n",
      "<function f at 0x1031c6950>\n",
      "<function g at 0x1031c6510>\n"
     ]
    }
   ],
   "source": [
    "def composition(f1, f2, x):\n",
    "    return f1(f2(f1(f2(x))))\n",
    "\n",
    "def f(x):\n",
    "    return 2*x\n",
    "def g(x):\n",
    "    return x+2\n",
    "print(composition(f,g,1))\n",
    "print(composition)\n",
    "print(f)\n",
    "print(g)"
   ]
  },
  {
   "cell_type": "markdown",
   "metadata": {},
   "source": [
    "# Les structures conditionnelles\n",
    "## Les booléens et les tests\n",
    "\n",
    "le **type boolean** a deux valeurs : `True` et `False`. Toute valeur non-nulle est équivalente à True, et 0 est équivalent à False.\n",
    "\n",
    "les **tests** renvoient des valeurs booleéennes\n",
    "on peut **combiner** des valeurs boolennes avec `and` et `or`\n",
    "\n",
    "\n"
   ]
  },
  {
   "cell_type": "code",
   "execution_count": 7,
   "metadata": {},
   "outputs": [
    {
     "data": {
      "text/plain": [
       "False"
      ]
     },
     "execution_count": 7,
     "metadata": {},
     "output_type": "execute_result"
    }
   ],
   "source": [
    "3 == 2"
   ]
  },
  {
   "cell_type": "code",
   "execution_count": 8,
   "metadata": {},
   "outputs": [
    {
     "data": {
      "text/plain": [
       "True"
      ]
     },
     "execution_count": 8,
     "metadata": {},
     "output_type": "execute_result"
    }
   ],
   "source": [
    "3.1 > 2"
   ]
  },
  {
   "cell_type": "code",
   "execution_count": 9,
   "metadata": {},
   "outputs": [
    {
     "data": {
      "text/plain": [
       "True"
      ]
     },
     "execution_count": 9,
     "metadata": {},
     "output_type": "execute_result"
    }
   ],
   "source": [
    "3.3 >= 3.3"
   ]
  },
  {
   "cell_type": "code",
   "execution_count": 10,
   "metadata": {},
   "outputs": [
    {
     "data": {
      "text/plain": [
       "False"
      ]
     },
     "execution_count": 10,
     "metadata": {},
     "output_type": "execute_result"
    }
   ],
   "source": [
    "12 > 11 and 3 < 1"
   ]
  },
  {
   "cell_type": "code",
   "execution_count": 11,
   "metadata": {},
   "outputs": [
    {
     "data": {
      "text/plain": [
       "True"
      ]
     },
     "execution_count": 11,
     "metadata": {},
     "output_type": "execute_result"
    }
   ],
   "source": [
    "12 > 11 or 3 > 12"
   ]
  },
  {
   "cell_type": "code",
   "execution_count": 12,
   "metadata": {},
   "outputs": [
    {
     "data": {
      "text/plain": [
       "1.0"
      ]
     },
     "execution_count": 12,
     "metadata": {},
     "output_type": "execute_result"
    }
   ],
   "source": [
    "1. - (True and False)"
   ]
  },
  {
   "cell_type": "code",
   "execution_count": 13,
   "metadata": {},
   "outputs": [
    {
     "data": {
      "text/plain": [
       "0.0"
      ]
     },
     "execution_count": 13,
     "metadata": {},
     "output_type": "execute_result"
    }
   ],
   "source": [
    "(1. - True) and False"
   ]
  },
  {
   "cell_type": "markdown",
   "metadata": {},
   "source": [
    "## Les conditions if / then / else\n",
    "\n",
    "Ecriture : \n",
    "\n",
    "    if CONDITION:\n",
    "        instructions\n",
    "    elif CONDITION:\n",
    "        instructions\n",
    "    elif CONDITIONS:\n",
    "        instructions\n",
    "    else:\n",
    "        instructions\n",
    "        "
   ]
  },
  {
   "cell_type": "markdown",
   "metadata": {},
   "source": [
    "### Exercices\n",
    "#### Comparaison\n",
    "créer un fonction comparaison(a, b) qui affiche\n",
    "\n",
    "- a plus grand que b\n",
    "- a plus petit que b\n",
    "- a égal à b\n",
    "\n",
    "la tester"
   ]
  },
  {
   "cell_type": "code",
   "execution_count": 1,
   "metadata": {},
   "outputs": [
    {
     "name": "stdout",
     "output_type": "stream",
     "text": [
      "A plus petit que B\n",
      "A plus grand que B\n",
      "A égal à B\n"
     ]
    }
   ],
   "source": [
    "def comparaison(a, b):\n",
    "    if a > b:\n",
    "        print(\"A plus grand que B\")\n",
    "    elif a < b:\n",
    "        print(\"A plus petit que B\")\n",
    "    else:\n",
    "        print(\"A égal à B\")\n",
    "        \n",
    "comparaison(1,2)\n",
    "comparaison(2,1)\n",
    "comparaison(2,2)"
   ]
  },
  {
   "cell_type": "markdown",
   "metadata": {},
   "source": [
    "### Exercices\n",
    "\n",
    "#### Factorielle\n",
    "\n",
    "la factorielle d'un nombre $n$ est le produit de $n\\times(n-1)\\times(n-2)\\times...\\times2\\times 1$. Ecrire une fonction `factorielle(n)` qui renvoie la factorielle du nombre n d'après l'algorithme suivant :\n",
    "\n",
    "```\n",
    "SI n égal 1\n",
    "ALORS renvoie 1\n",
    "SINON renvoie n*factorielle(n-1)\n",
    "```\n",
    "\n",
    "tester avec des **petits nombres** "
   ]
  },
  {
   "cell_type": "code",
   "execution_count": 15,
   "metadata": {},
   "outputs": [
    {
     "name": "stdout",
     "output_type": "stream",
     "text": [
      "3! =  6\n",
      "7! =  5040\n"
     ]
    }
   ],
   "source": [
    "def factorielle(n):\n",
    "    if n <= 1:\n",
    "        return n\n",
    "    return n*factorielle(n-1)\n",
    "\n",
    "print(\"3! = \", factorielle(3))\n",
    "print(\"7! = \", factorielle(7))"
   ]
  },
  {
   "cell_type": "markdown",
   "metadata": {},
   "source": [
    "#### Devine mon nombre\n",
    "\n",
    "L'utilisateur choisit dans sa tête un nombre entre zéro et 1000. L'ordinateur pose des question et trouve le nombre en utilisant la dichotomie.\n",
    "\n",
    "Ecrire une fonction `devine(a,b)` qui :\n",
    "\n",
    "- affiche \"trouvé : \" et la valeur de $a$ si $a$ est égal à $b$\n",
    "- affiche \"pas cohérent, tricheur\" si $a$ est plus grand que $b$\n",
    "- calcule le milieu $m$ (nombre entier) de l'intervalle $a$,$b$\n",
    "- demande (fonction `input`) si ce milieu est plus grand (\"G\"), plus petit (\"P\") ou égal (\"E\") que le nombre que l'utilisateur a en tête\n",
    "- selon la réponse de l'utilisateur, rappelle la fonction devine(..)\n",
    "  avec le nouvel intervalle de recherche, ou retourne avec un message\n",
    "  de succès si le nombre est trouvé\n",
    "  \n",
    "\n"
   ]
  },
  {
   "cell_type": "code",
   "execution_count": 16,
   "metadata": {},
   "outputs": [
    {
     "name": "stdout",
     "output_type": "stream",
     "text": [
      "Votre nombre est-il : plus grand (G), plus petit (P) ou égal (E) à  500\n",
      "Votre réponse ? :P\n",
      "Votre nombre est-il : plus grand (G), plus petit (P) ou égal (E) à  250\n",
      "Votre réponse ? :P\n",
      "Votre nombre est-il : plus grand (G), plus petit (P) ou égal (E) à  125\n",
      "Votre réponse ? :P\n",
      "Votre nombre est-il : plus grand (G), plus petit (P) ou égal (E) à  62\n",
      "Votre réponse ? :P\n",
      "Votre nombre est-il : plus grand (G), plus petit (P) ou égal (E) à  31\n",
      "Votre réponse ? :G\n",
      "Votre nombre est-il : plus grand (G), plus petit (P) ou égal (E) à  46\n",
      "Votre réponse ? :P\n",
      "Votre nombre est-il : plus grand (G), plus petit (P) ou égal (E) à  38\n",
      "Votre réponse ? :P\n",
      "Votre nombre est-il : plus grand (G), plus petit (P) ou égal (E) à  34\n",
      "Votre réponse ? :G\n",
      "Votre nombre est-il : plus grand (G), plus petit (P) ou égal (E) à  36\n",
      "Votre réponse ? :P\n",
      "Votre nombre est-il : plus grand (G), plus petit (P) ou égal (E) à  35\n",
      "Votre réponse ? :E\n",
      "Trouvé !! 35\n"
     ]
    },
    {
     "data": {
      "text/plain": [
       "35"
      ]
     },
     "execution_count": 16,
     "metadata": {},
     "output_type": "execute_result"
    }
   ],
   "source": [
    "def devine(a,b):\n",
    "        if a == b:\n",
    "            print(\"Trouvé !!\", a)\n",
    "            return\n",
    "        if a > b:\n",
    "            print(\"Pas cohérent, bye\")\n",
    "            return\n",
    "        m = (a+b)//2\n",
    "        print(\"Votre nombre est-il : plus grand (G), plus petit (P) ou égal (E) à \", m)\n",
    "        choix = input(\"Votre réponse ? : \")\n",
    "        if choix == \"G\":\n",
    "            return devine(m,b)\n",
    "        elif choix == \"P\":\n",
    "            return devine(a,m)\n",
    "        elif choix == \"E\":\n",
    "            print(\"Trouvé !!\", m)\n",
    "            return m\n",
    "        else:\n",
    "            print(\"Réponse non correcte...\")\n",
    "            return devine(a,b)\n",
    "\n",
    "devine(0,1000)"
   ]
  },
  {
   "cell_type": "markdown",
   "metadata": {},
   "source": [
    "# Boucles et listes\n",
    "\n",
    "## Les boucles \"génériques\" : while\n",
    "\n",
    "On peut souvent les remplacer par une boucle \"for\" plus déterministe (cf + loin), mais pas toujours... La syntaxe est :\n",
    "\n",
    "    while CONDITION:\n",
    "        instruction\n",
    "        instruction\n",
    "        \n",
    "        \n",
    "les instructions sont exécutées **TANT QUE** CONDITION est évaluée à True. "
   ]
  },
  {
   "cell_type": "code",
   "execution_count": 37,
   "metadata": {},
   "outputs": [
    {
     "name": "stdout",
     "output_type": "stream",
     "text": [
      "0\n",
      "1\n",
      "2\n",
      "3\n",
      "4\n"
     ]
    }
   ],
   "source": [
    "# Une manière de compter\n",
    "i = 0\n",
    "while i < 5:\n",
    "    print(i)\n",
    "    i += 1"
   ]
  },
  {
   "cell_type": "markdown",
   "metadata": {},
   "source": [
    "Il est possible de sortir d'un niveau de boucle en utilisant l'instruction `break`"
   ]
  },
  {
   "cell_type": "code",
   "execution_count": 38,
   "metadata": {},
   "outputs": [
    {
     "name": "stdout",
     "output_type": "stream",
     "text": [
      "0\n",
      "1\n",
      "2\n",
      "3\n",
      "4\n"
     ]
    }
   ],
   "source": [
    "# Une structure couramment utilisée : la pseudo-boucle infinie\n",
    "i = 0\n",
    "while True:\n",
    "    print(i)\n",
    "    i += 1\n",
    "    if i >= 5:\n",
    "        break"
   ]
  },
  {
   "cell_type": "markdown",
   "metadata": {},
   "source": [
    "Il est aussi possible de passer directement à l'itération suvante en utilisant `continue`"
   ]
  },
  {
   "cell_type": "code",
   "execution_count": 40,
   "metadata": {},
   "outputs": [
    {
     "name": "stdout",
     "output_type": "stream",
     "text": [
      "1\n",
      "yeah\n",
      "3\n",
      "4\n",
      "5\n",
      "6\n",
      "7\n",
      "8\n",
      "9\n",
      "10\n"
     ]
    }
   ],
   "source": [
    "i=0\n",
    "while i < 10:\n",
    "    i += 1\n",
    "    if i == 2:\n",
    "        print(\"yeah\")\n",
    "        continue\n",
    "    print(i)\n",
    "    "
   ]
  },
  {
   "cell_type": "markdown",
   "metadata": {},
   "source": [
    "### Exercices\n",
    "#### Factorielle, le retour\n",
    "\n",
    "Ecrire une fonction calculant la factorielle d'un nombre en utilisant une boucle `while`\n",
    "\n",
    "#### Calculer une moyenne\n",
    "\n",
    "Ecrire une fonction qui demande le nombre de notes total, puis demande chaque note et affiche la moyenne de ces notes.\n",
    "\n",
    "indication : la fonction `input` renvoie des caractères, il faut utiliser `int()` pour les convertir en nombre entier, ou `float()` pour les convertir en flottant : `int(input(\"Nombre ? \"))` ou `float(input(\"Nombre ? \"))`"
   ]
  },
  {
   "cell_type": "code",
   "execution_count": 41,
   "metadata": {},
   "outputs": [
    {
     "data": {
      "text/plain": [
       "5040"
      ]
     },
     "execution_count": 41,
     "metadata": {},
     "output_type": "execute_result"
    }
   ],
   "source": [
    "def factorielle2(n):\n",
    "    resultat = n\n",
    "    while n>1:\n",
    "        n = n-1\n",
    "        resultat = resultat * n\n",
    "    return resultat\n",
    "\n",
    "factorielle(7)"
   ]
  },
  {
   "cell_type": "code",
   "execution_count": 43,
   "metadata": {},
   "outputs": [
    {
     "name": "stdout",
     "output_type": "stream",
     "text": [
      "Nombre de notes : 4\n",
      "Note : 4\n",
      "Note : 3\n",
      "Note : 55\n",
      "Note : 2\n",
      "16.0\n"
     ]
    }
   ],
   "source": [
    "def moyenne():\n",
    "    nb = int(input(\"Nombre de notes : \"))\n",
    "    i=0\n",
    "    total = 0\n",
    "    while i<nb:\n",
    "        total = total + int(input(\"Note : \"))\n",
    "        i+=1\n",
    "    print(total/nb)\n",
    "moyenne()\n",
    "        "
   ]
  },
  {
   "cell_type": "markdown",
   "metadata": {},
   "source": [
    "\n",
    "## Listes et n-uplets\n",
    "Une liste associe une position à une valeur, et est décrite en listant les éléments de la liste entre crochets `[]`. Les positions sont indexées en commençant à zéro.  On récupère un élément à la position `i` par `[i]`. On peut récupérer un ou plusieurs éléments à partir de la fin en utilisant un nombre négatif : `[-1]` renvoie le dernier élément, `[-2]` l'avant dernier, et ainsi de suite.\n",
    "\n",
    "    liste1 = [3,5,2,9,6]\n",
    "    liste1[0]  # renvoie 3\n",
    "    liste1[-1] # renvoie 6\n",
    "    \n",
    "Essayer de récupérer un élément à une position inexistante déclenche une erreur (`IndexError`)\n",
    "\n",
    "Un n-uplet est une liste non modifiable, décrite entre parenthèses.\n",
    "\n",
    "La longueur d'une liste ou d'un n-uplet est donnée par la fonction `len()`"
   ]
  },
  {
   "cell_type": "code",
   "execution_count": 17,
   "metadata": {},
   "outputs": [
    {
     "name": "stdout",
     "output_type": "stream",
     "text": [
      "3\n",
      "4\n",
      "5\n",
      "6\n",
      "<class 'list'>\n",
      "4\n"
     ]
    }
   ],
   "source": [
    "liste1 = [3,4,5,6]\n",
    "print(liste1[0])\n",
    "print(liste1[1])\n",
    "print(liste1[-2])\n",
    "print(liste1[-1])\n",
    "print(type(liste1))\n",
    "print(len(liste1))"
   ]
  },
  {
   "cell_type": "code",
   "execution_count": 18,
   "metadata": {},
   "outputs": [
    {
     "name": "stdout",
     "output_type": "stream",
     "text": [
      "3\n",
      "4\n",
      "5\n",
      "6\n",
      "<class 'tuple'>\n",
      "4\n"
     ]
    }
   ],
   "source": [
    "nuplet1 = (3,4,5,6)\n",
    "print(nuplet1[0])\n",
    "print(nuplet1[1])\n",
    "print(nuplet1[-2])\n",
    "print(nuplet1[-1])\n",
    "print(type(nuplet1))\n",
    "print(len(nuplet1))"
   ]
  },
  {
   "cell_type": "code",
   "execution_count": 20,
   "metadata": {},
   "outputs": [
    {
     "name": "stdout",
     "output_type": "stream",
     "text": [
      "3\n",
      "4\n",
      "5\n",
      "6\n",
      "<class 'tuple'>\n"
     ]
    }
   ],
   "source": [
    "# On peut écrire un n-uplet sans parenthèses si ça ne porte pas à confusion\n",
    "nuplet2 = 3,4,5,6\n",
    "print(nuplet2[0])\n",
    "print(nuplet2[1])\n",
    "print(nuplet2[-2])\n",
    "print(nuplet2[-1])\n",
    "print(type(nuplet2))"
   ]
  },
  {
   "cell_type": "code",
   "execution_count": 21,
   "metadata": {},
   "outputs": [
    {
     "name": "stdout",
     "output_type": "stream",
     "text": [
      "3\n"
     ]
    }
   ],
   "source": [
    "# Il n'est pas obligatoire de passer par une variable :\n",
    "print([3,4,5,6][0]) "
   ]
  },
  {
   "cell_type": "code",
   "execution_count": 22,
   "metadata": {},
   "outputs": [
    {
     "name": "stdout",
     "output_type": "stream",
     "text": [
      "[3, 4, 5, 6]\n",
      "3\n",
      "10\n",
      "7\n"
     ]
    }
   ],
   "source": [
    "# Une liste peut être contenue dans une liste\n",
    "tableau1 = [[3,4,5,6], [7,8,9,10]]\n",
    "print(tableau1[0])\n",
    "print(tableau1[0][0])\n",
    "print(tableau1[-1][-1])\n",
    "print(tableau1[-1][0])\n",
    "\n"
   ]
  },
  {
   "cell_type": "code",
   "execution_count": 23,
   "metadata": {},
   "outputs": [
    {
     "data": {
      "text/plain": [
       "8"
      ]
     },
     "execution_count": 23,
     "metadata": {},
     "output_type": "execute_result"
    }
   ],
   "source": [
    "# Il n'y a pas de limite à la quantité d'imbrication\n",
    "tableau2 = ([1,2, [3,4,(5,6,(7,8))]])\n",
    "tableau2[2][2][2][1]"
   ]
  },
  {
   "cell_type": "code",
   "execution_count": 24,
   "metadata": {},
   "outputs": [
    {
     "name": "stdout",
     "output_type": "stream",
     "text": [
      "[[0, 2, 0, 2, 0, 2, 0, 2, 0, 2, 0, 2, 0, 2, 0, 2, 0, 2, 0, 2, 0, 2, 0, 2, 0, 2, 0, 2, 0, 2, 0, 2, 0, 2, 0, 2, 0, 2, 0, 2, 0, 2, 0, 2, 0, 2, 0, 2, 0, 2, 0, 2, 0, 2, 0, 2, 0, 2, 0, 2, 0, 2, 0, 2, 0, 2, 0, 2, 0, 2, 0, 2, 0, 2, 0, 2, 0, 2, 0, 2, 0, 2, 0, 2, 0, 2, 0, 2, 0, 2, 0, 2, 0, 2, 0, 2, 0, 2, 0, 2, 0, 2, 0, 2, 0, 2, 0, 2, 0, 2, 0, 2, 0, 2, 0, 2, 0, 2, 0, 2, 0, 2, 0, 2, 0, 2, 0, 2, 0, 2, 0, 2, 0, 2, 0, 2, 0, 2, 0, 2, 0, 2, 0, 2, 0, 2, 0, 2, 0, 2, 0, 2, 0, 2, 0, 2, 0, 2, 0, 2, 0, 2, 0, 2, 0, 2, 0, 2, 0, 2, 0, 2, 0, 2, 0, 2, 0, 2, 0, 2, 0, 2, 0, 2, 0, 2, 0, 2, 0, 2, 0, 2, 0, 2, 0, 2, 0, 2, 0, 2], [0, 2, 0, 2, 0, 2, 0, 2, 0, 2, 0, 2, 0, 2, 0, 2, 0, 2, 0, 2, 0, 2, 0, 2, 0, 2, 0, 2, 0, 2, 0, 2, 0, 2, 0, 2, 0, 2, 0, 2, 0, 2, 0, 2, 0, 2, 0, 2, 0, 2, 0, 2, 0, 2, 0, 2, 0, 2, 0, 2, 0, 2, 0, 2, 0, 2, 0, 2, 0, 2, 0, 2, 0, 2, 0, 2, 0, 2, 0, 2, 0, 2, 0, 2, 0, 2, 0, 2, 0, 2, 0, 2, 0, 2, 0, 2, 0, 2, 0, 2, 0, 2, 0, 2, 0, 2, 0, 2, 0, 2, 0, 2, 0, 2, 0, 2, 0, 2, 0, 2, 0, 2, 0, 2, 0, 2, 0, 2, 0, 2, 0, 2, 0, 2, 0, 2, 0, 2, 0, 2, 0, 2, 0, 2, 0, 2, 0, 2, 0, 2, 0, 2, 0, 2, 0, 2, 0, 2, 0, 2, 0, 2, 0, 2, 0, 2, 0, 2, 0, 2, 0, 2, 0, 2, 0, 2, 0, 2, 0, 2, 0, 2, 0, 2, 0, 2, 0, 2, 0, 2, 0, 2, 0, 2, 0, 2, 0, 2, 0, 2], [0, 2, 0, 2, 0, 2, 0, 2, 0, 2, 0, 2, 0, 2, 0, 2, 0, 2, 0, 2, 0, 2, 0, 2, 0, 2, 0, 2, 0, 2, 0, 2, 0, 2, 0, 2, 0, 2, 0, 2, 0, 2, 0, 2, 0, 2, 0, 2, 0, 2, 0, 2, 0, 2, 0, 2, 0, 2, 0, 2, 0, 2, 0, 2, 0, 2, 0, 2, 0, 2, 0, 2, 0, 2, 0, 2, 0, 2, 0, 2, 0, 2, 0, 2, 0, 2, 0, 2, 0, 2, 0, 2, 0, 2, 0, 2, 0, 2, 0, 2, 0, 2, 0, 2, 0, 2, 0, 2, 0, 2, 0, 2, 0, 2, 0, 2, 0, 2, 0, 2, 0, 2, 0, 2, 0, 2, 0, 2, 0, 2, 0, 2, 0, 2, 0, 2, 0, 2, 0, 2, 0, 2, 0, 2, 0, 2, 0, 2, 0, 2, 0, 2, 0, 2, 0, 2, 0, 2, 0, 2, 0, 2, 0, 2, 0, 2, 0, 2, 0, 2, 0, 2, 0, 2, 0, 2, 0, 2, 0, 2, 0, 2, 0, 2, 0, 2, 0, 2, 0, 2, 0, 2, 0, 2, 0, 2, 0, 2, 0, 2]]\n"
     ]
    }
   ],
   "source": [
    "# Un raccourci intéressant :\n",
    "\n",
    "big = [[0,2] * 100]*3\n",
    "print(big)"
   ]
  },
  {
   "cell_type": "markdown",
   "metadata": {},
   "source": [
    "### Sous-ensembles et assignation\n",
    "\n",
    "On peut récupérer une partie d'une liste ou d'un n-uplet en utilisant la structure d'accès `[debut:fin:pas]`. L'élément à l'index `début` est inclus, l'élément à l'index `fin` est exclus. On peut omettre le début, la fin ou le pas qui sont alors remplacés par des valeurs par défaut (début = 0, fin = longueur de la liste, pas = 1).\n",
    "\n",
    "On peut assigner une valeur à une position dans une liste, mais pas dans un n-uplet (ça renvoie une erreur `TypeError`)"
   ]
  },
  {
   "cell_type": "code",
   "execution_count": 26,
   "metadata": {},
   "outputs": [
    {
     "name": "stdout",
     "output_type": "stream",
     "text": [
      "[0, 1, 2]\n",
      "[3, 2, 1]\n",
      "[3, 4, 5, 6, 7, 8, 9]\n",
      "[3, 4, 5, 6, 7, 8, 9]\n",
      "[0, 1, 2]\n",
      "[9, 8, 7, 6, 5, 4, 3, 2, 1, 0]\n"
     ]
    }
   ],
   "source": [
    "# Récupérer plusieurs éléments d'une liste\n",
    "liste2 = [0,1,2,3,4,5,6,7,8,9]\n",
    "print(liste2[0:3])\n",
    "print(liste2[3:0:-1])\n",
    "print(liste2[3:999])\n",
    "print(liste2[3:])\n",
    "print(liste2[:3])\n",
    "print(liste2[::-1])"
   ]
  },
  {
   "cell_type": "code",
   "execution_count": 27,
   "metadata": {},
   "outputs": [
    {
     "name": "stdout",
     "output_type": "stream",
     "text": [
      "[999, 1, 2, 3, 4, 5, 6, 7, 8, 9]\n",
      "[999, 1, 2, 3, 4, 5, 6, 7, 8, 888]\n"
     ]
    }
   ],
   "source": [
    "# Assigner une valeur dans une liste\n",
    "liste3 = [0,1,2,3,4,5,6,7,8,9]\n",
    "liste3[0] = 999\n",
    "print(liste3)\n",
    "liste3[-1] = 888\n",
    "print(liste3)"
   ]
  },
  {
   "cell_type": "code",
   "execution_count": 28,
   "metadata": {},
   "outputs": [
    {
     "ename": "TypeError",
     "evalue": "'tuple' object does not support item assignment",
     "output_type": "error",
     "traceback": [
      "\u001b[0;31m---------------------------------------------------------------------------\u001b[0m",
      "\u001b[0;31mTypeError\u001b[0m                                 Traceback (most recent call last)",
      "\u001b[0;32m<ipython-input-28-3c11239c05c7>\u001b[0m in \u001b[0;36m<module>\u001b[0;34m\u001b[0m\n\u001b[1;32m      1\u001b[0m \u001b[0;31m# On ne peut pas assigner une valeur dans un n-uplet\u001b[0m\u001b[0;34m\u001b[0m\u001b[0;34m\u001b[0m\u001b[0m\n\u001b[1;32m      2\u001b[0m \u001b[0mnuplet3\u001b[0m \u001b[0;34m=\u001b[0m \u001b[0;36m0\u001b[0m\u001b[0;34m,\u001b[0m\u001b[0;36m1\u001b[0m\u001b[0;34m,\u001b[0m\u001b[0;36m2\u001b[0m\u001b[0;34m,\u001b[0m\u001b[0;36m3\u001b[0m\u001b[0;34m,\u001b[0m\u001b[0;36m4\u001b[0m\u001b[0;34m,\u001b[0m\u001b[0;36m5\u001b[0m\u001b[0;34m,\u001b[0m\u001b[0;36m6\u001b[0m\u001b[0;34m\u001b[0m\u001b[0m\n\u001b[0;32m----> 3\u001b[0;31m \u001b[0mnuplet3\u001b[0m\u001b[0;34m[\u001b[0m\u001b[0;36m0\u001b[0m\u001b[0;34m]\u001b[0m \u001b[0;34m=\u001b[0m \u001b[0;36m999\u001b[0m\u001b[0;34m\u001b[0m\u001b[0m\n\u001b[0m",
      "\u001b[0;31mTypeError\u001b[0m: 'tuple' object does not support item assignment"
     ]
    }
   ],
   "source": [
    "# On ne peut pas assigner une valeur dans un n-uplet\n",
    "nuplet3 = 0,1,2,3,4,5,6\n",
    "nuplet3[0] = 999"
   ]
  },
  {
   "cell_type": "markdown",
   "metadata": {},
   "source": [
    "On peut assigner une valeur à un ensemble de positions; dans certains cas, si plus d'éléments sont fournis, on déborde; dans d'autre cas (utilisation d'un pas), on ne peut pas déborder."
   ]
  },
  {
   "cell_type": "code",
   "execution_count": 29,
   "metadata": {},
   "outputs": [
    {
     "name": "stdout",
     "output_type": "stream",
     "text": [
      "Test 1 [999, 888, 777, 3, 4, 5, 6, 7, 8, 9]\n",
      "Test 2 [0, 1, 2, 666, 555, 444, 333, 222, 6, 7, 8, 9]\n",
      "Test 3 [0, 1, 2, 666, 4, 555, 6, 444, 8, 9]\n"
     ]
    },
    {
     "ename": "ValueError",
     "evalue": "attempt to assign sequence of size 4 to extended slice of size 8",
     "output_type": "error",
     "traceback": [
      "\u001b[0;31m---------------------------------------------------------------------------\u001b[0m",
      "\u001b[0;31mValueError\u001b[0m                                Traceback (most recent call last)",
      "\u001b[0;32m<ipython-input-29-1ec337ec6fbb>\u001b[0m in \u001b[0;36m<module>\u001b[0;34m\u001b[0m\n\u001b[1;32m      9\u001b[0m \u001b[0mprint\u001b[0m\u001b[0;34m(\u001b[0m\u001b[0;34m\"Test 3\"\u001b[0m\u001b[0;34m,\u001b[0m \u001b[0mliste4\u001b[0m\u001b[0;34m)\u001b[0m\u001b[0;34m\u001b[0m\u001b[0m\n\u001b[1;32m     10\u001b[0m \u001b[0mliste4\u001b[0m \u001b[0;34m=\u001b[0m \u001b[0;34m[\u001b[0m\u001b[0;36m0\u001b[0m\u001b[0;34m,\u001b[0m\u001b[0;36m1\u001b[0m\u001b[0;34m,\u001b[0m\u001b[0;36m2\u001b[0m\u001b[0;34m,\u001b[0m\u001b[0;36m3\u001b[0m\u001b[0;34m,\u001b[0m\u001b[0;36m4\u001b[0m\u001b[0;34m,\u001b[0m\u001b[0;36m5\u001b[0m\u001b[0;34m,\u001b[0m\u001b[0;36m6\u001b[0m\u001b[0;34m,\u001b[0m\u001b[0;36m7\u001b[0m\u001b[0;34m,\u001b[0m\u001b[0;36m8\u001b[0m\u001b[0;34m,\u001b[0m\u001b[0;36m9\u001b[0m\u001b[0;34m]\u001b[0m\u001b[0;34m\u001b[0m\u001b[0m\n\u001b[0;32m---> 11\u001b[0;31m \u001b[0mliste4\u001b[0m\u001b[0;34m[\u001b[0m\u001b[0;36m7\u001b[0m\u001b[0;34m:\u001b[0m\u001b[0;34m:\u001b[0m\u001b[0;34m-\u001b[0m\u001b[0;36m1\u001b[0m\u001b[0;34m]\u001b[0m \u001b[0;34m=\u001b[0m \u001b[0;34m[\u001b[0m\u001b[0;36m123\u001b[0m\u001b[0;34m,\u001b[0m\u001b[0;36m456\u001b[0m\u001b[0;34m,\u001b[0m\u001b[0;36m789\u001b[0m\u001b[0;34m,\u001b[0m\u001b[0;36m987\u001b[0m\u001b[0;34m]\u001b[0m \u001b[0;31m# boom\u001b[0m\u001b[0;34m\u001b[0m\u001b[0m\n\u001b[0m\u001b[1;32m     12\u001b[0m \u001b[0mprint\u001b[0m\u001b[0;34m(\u001b[0m\u001b[0mliste4\u001b[0m\u001b[0;34m)\u001b[0m\u001b[0;34m\u001b[0m\u001b[0m\n",
      "\u001b[0;31mValueError\u001b[0m: attempt to assign sequence of size 4 to extended slice of size 8"
     ]
    }
   ],
   "source": [
    "liste4 = [0,1,2,3,4,5,6,7,8,9]\n",
    "liste4[0:3] = [999,888,777]\n",
    "print(\"Test 1\", liste4)\n",
    "liste4 = [0,1,2,3,4,5,6,7,8,9]\n",
    "liste4[3:6] = [666,555,444,333,222]\n",
    "print(\"Test 2\", liste4)\n",
    "liste4 = [0,1,2,3,4,5,6,7,8,9]\n",
    "liste4[3:9:2] = [666,555,444]\n",
    "print(\"Test 3\", liste4)\n",
    "liste4 = [0,1,2,3,4,5,6,7,8,9]\n",
    "liste4[7::-1] = [123,456,789,987] # boom\n",
    "print(liste4)"
   ]
  },
  {
   "cell_type": "markdown",
   "metadata": {},
   "source": [
    "Il est possible de rajouter des éléments à une liste en utilisant l'action `append(élément)`, ou d'en insérer à une position en utilisant l'action `insert(position, élément)`. Il est enfin possible de concaténer deux listes via l'opération `+`. Les actions `.append()` et `.insert()` modifient directement la liste en place."
   ]
  },
  {
   "cell_type": "code",
   "execution_count": 30,
   "metadata": {},
   "outputs": [
    {
     "name": "stdout",
     "output_type": "stream",
     "text": [
      "[1, 2]\n",
      "[1, 2, 1, 2]\n",
      "[1, 5, 2]\n"
     ]
    }
   ],
   "source": [
    "liste5 = []\n",
    "liste5.append(1)\n",
    "liste5.append(2)\n",
    "print(liste5)\n",
    "print(liste5+liste5)\n",
    "liste5.insert(1,5)\n",
    "print(liste5)"
   ]
  },
  {
   "cell_type": "markdown",
   "metadata": {},
   "source": [
    "Un opérateur permet de tester la présence ou non d'un élément dans une liste : c'est l'opérateur `in`"
   ]
  },
  {
   "cell_type": "code",
   "execution_count": 31,
   "metadata": {},
   "outputs": [
    {
     "name": "stdout",
     "output_type": "stream",
     "text": [
      "True\n",
      "False\n"
     ]
    }
   ],
   "source": [
    "liste6 = [1,2,5,8]\n",
    "print(2 in liste6)\n",
    "print(122 in liste6)"
   ]
  },
  {
   "cell_type": "markdown",
   "metadata": {},
   "source": [
    "Il est possible de trier une liste via .sort() (modifie définitivement l'ordre des éléments) ou via sorted() (renvoie une copie triée de la liste)."
   ]
  },
  {
   "cell_type": "code",
   "execution_count": 32,
   "metadata": {},
   "outputs": [
    {
     "name": "stdout",
     "output_type": "stream",
     "text": [
      "['cody', 'dupont', 'martin']\n",
      "['martin', 'dupont', 'cody']\n",
      "['cody', 'dupont', 'martin']\n",
      "['martin', 'dupont', 'cody']\n"
     ]
    }
   ],
   "source": [
    "noms = [\"dupont\", \"martin\", \"cody\"]\n",
    "# La liste n'est pas modifiée\n",
    "print(sorted(noms))\n",
    "print(sorted(noms, reverse=True))\n",
    "# La liste est modifiée\n",
    "noms.sort()\n",
    "print(noms)\n",
    "noms.sort(reverse=True)\n",
    "print(noms)"
   ]
  },
  {
   "cell_type": "markdown",
   "metadata": {},
   "source": [
    "Enfin, pour supprimer un élément d'une liste à un une position donnée, il faut utiliser la structure `del`. Pour supprimer une valeur donnée d'une liste, on utilise `.remove(valeur)` (seule la première occurrence est supprimée)"
   ]
  },
  {
   "cell_type": "code",
   "execution_count": 33,
   "metadata": {},
   "outputs": [
    {
     "name": "stdout",
     "output_type": "stream",
     "text": [
      "[1, 2, 4, 5, 1, 2, 3, 4]\n",
      "[1, 4, 5, 1, 2, 3, 4]\n"
     ]
    }
   ],
   "source": [
    "liste = [1,2,3,4,5,1,2,3,4]\n",
    "del liste[2]\n",
    "print(liste)\n",
    "liste.remove(2)\n",
    "print(liste)"
   ]
  },
  {
   "cell_type": "markdown",
   "metadata": {},
   "source": [
    "### Exercices\n",
    "\n",
    "#### Morpion (v1)\n",
    "\n",
    "créer un tableau qui représente une partie de morpion :\n",
    "\n",
    "- 0 si la case est vide\n",
    "- 1 si c'est une croix\n",
    "- 2 si c'est un rond\n",
    "\n",
    "toutes les cases du jeu sont vides au départ. Jouer ensuite \"à la main\", en utilisant ce tableau une partie de morpion, en réaffichant le tableau (print) à chaque coup.\n",
    "\n",
    "#### Liste de noms\n",
    "\n",
    "écrire une fonction `listenoms()` qui demande des noms, les ajoute dans une liste jusqu'à ce qu'un nom vide soit entré par l'utilisateur, et renvoie la liste triée par ordre alphabétique\n",
    "\n",
    "#### Liste de nombres triée et filtrée\n",
    "\n",
    "écrire une fonction `filtre(liste)` qui prend une liste de nombres en argument, et renvoie une liste triée dans l'ordre croissant, où tous les nombres pairs (pair => reste de la division par deux égal zéro, soit  `x % 2 == 0`) et tous les nombres négatifs ont été enlevés\n",
    "\n",
    "tester avec `[9, 3, -2, 8, 25, -4, 12, 33]` (qui doit donc renvoyer `[3, 9, 25, 33]`\n",
    "\n",
    "\n"
   ]
  },
  {
   "cell_type": "code",
   "execution_count": 35,
   "metadata": {},
   "outputs": [
    {
     "name": "stdout",
     "output_type": "stream",
     "text": [
      "[[0, 0, 0], [0, 1, 0], [0, 0, 0]]\n",
      "[[0, 0, 0], [2, 1, 0], [0, 0, 0]]\n"
     ]
    }
   ],
   "source": [
    "morpion = [[0,0,0],[0,0,0],[0,0,0]]\n",
    "morpion[1][1]=1\n",
    "print(morpion)\n",
    "morpion[1][0]=2\n",
    "print(morpion)\n",
    "# ..."
   ]
  },
  {
   "cell_type": "code",
   "execution_count": 44,
   "metadata": {},
   "outputs": [
    {
     "name": "stdout",
     "output_type": "stream",
     "text": [
      "Donnez un nom, vide pour arrêter : TOTO\n",
      "Donnez un nom, vide pour arrêter : TITI\n",
      "Donnez un nom, vide pour arrêter : TATA\n",
      "Donnez un nom, vide pour arrêter : \n",
      "['TATA', 'TITI', 'TOTO']\n"
     ]
    }
   ],
   "source": [
    "def listenoms():\n",
    "    liste = []\n",
    "    while True:\n",
    "        nom = input(\"Donnez un nom, vide pour arrêter : \")\n",
    "        if nom == \"\":\n",
    "            liste.sort()\n",
    "            return liste\n",
    "        liste.append(nom)\n",
    "print(listenoms())"
   ]
  },
  {
   "cell_type": "code",
   "execution_count": 49,
   "metadata": {},
   "outputs": [
    {
     "data": {
      "text/plain": [
       "[3, 9, 25, 33]"
      ]
     },
     "execution_count": 49,
     "metadata": {},
     "output_type": "execute_result"
    }
   ],
   "source": [
    "def filtre(liste):\n",
    "    valide = []\n",
    "    i = 0\n",
    "    while i < len(liste):\n",
    "        item = liste[i]\n",
    "        i += 1\n",
    "        if item % 2 == 0:\n",
    "            continue\n",
    "        if item < 0:\n",
    "            continue\n",
    "        valide.append(item)\n",
    "    valide.sort()\n",
    "    return valide\n",
    "filtre([9, 3, -2, 8, 25, -4, 12, 33])\n",
    "    "
   ]
  },
  {
   "cell_type": "markdown",
   "metadata": {},
   "source": [
    "## Les boucles for\n",
    "\n",
    "Les listes prennent toute leur puissance à partir du moment où on peut accéder à leurs éléments de manière itérative.\n",
    "\n",
    "Pour accéder à tous les éléments d'une liste, la structure est la suivante :\n",
    "\n",
    "    for variable_de_destination in liste_source:\n",
    "        instruction\n",
    "        instruction\n",
    "        ....\n",
    "        \n",
    "Les instructions sont décalées de 4 espaces par rapport au for. **Important** : ne pas oublier les `:` à la fin de la ligne du `for`"
   ]
  },
  {
   "cell_type": "code",
   "execution_count": 50,
   "metadata": {},
   "outputs": [
    {
     "name": "stdout",
     "output_type": "stream",
     "text": [
      "Je sais compter jusqu'à :  un\n",
      "Je sais compter jusqu'à :  deux\n",
      "Je sais compter jusqu'à :  trois\n",
      "Je sais compter jusqu'à :  quatre\n",
      "J'ai fini !!\n"
     ]
    }
   ],
   "source": [
    "maliste = [\"un\", \"deux\", \"trois\", \"quatre\"]\n",
    "for truc in maliste:\n",
    "    print(\"Je sais compter jusqu'à : \",truc)\n",
    "print(\"J'ai fini !!\")"
   ]
  },
  {
   "cell_type": "markdown",
   "metadata": {},
   "source": [
    "Il peut être utile de connaître non seulement la valeur, mais la position actuelle dans la liste à chaque itération. Pour cela, on peut **énumérer** la liste :"
   ]
  },
  {
   "cell_type": "code",
   "execution_count": 51,
   "metadata": {},
   "outputs": [
    {
     "name": "stdout",
     "output_type": "stream",
     "text": [
      "En position 0, nous avons un\n",
      "En position 1, nous avons deux\n",
      "En position 2, nous avons trois\n",
      "En position 3, nous avons quatre\n"
     ]
    }
   ],
   "source": [
    "for machin, truc in enumerate(maliste):\n",
    "    print(\"En position {position}, nous avons {chose}\".format(position=machin, chose=truc))"
   ]
  },
  {
   "cell_type": "markdown",
   "metadata": {},
   "source": [
    "Il est possible de sortir d'un niveau de boucle en utilisant l'instruction `break`"
   ]
  },
  {
   "cell_type": "code",
   "execution_count": 52,
   "metadata": {},
   "outputs": [
    {
     "name": "stdout",
     "output_type": "stream",
     "text": [
      "un\n",
      "deux\n"
     ]
    }
   ],
   "source": [
    "for item in maliste:\n",
    "    if item == \"trois\":\n",
    "        break\n",
    "    print(item)"
   ]
  },
  {
   "cell_type": "markdown",
   "metadata": {},
   "source": [
    "Il est aussi possible passer directement à l'itération suivante en utilisant `continue`"
   ]
  },
  {
   "cell_type": "code",
   "execution_count": 53,
   "metadata": {},
   "outputs": [
    {
     "name": "stdout",
     "output_type": "stream",
     "text": [
      "un\n",
      "trois\n",
      "quatre\n"
     ]
    }
   ],
   "source": [
    "for item in maliste:\n",
    "    if item == \"deux\":\n",
    "        continue\n",
    "    print(item)"
   ]
  },
  {
   "cell_type": "markdown",
   "metadata": {},
   "source": [
    "Une fonction extrèmement pratique est la fonction range(début, fin, pas) qui renvoie une liste de nombres de début inclus, fin exclus, avec un pas pas :"
   ]
  },
  {
   "cell_type": "code",
   "execution_count": 54,
   "metadata": {},
   "outputs": [
    {
     "name": "stdout",
     "output_type": "stream",
     "text": [
      "0\n",
      "2\n",
      "4\n",
      "6\n",
      "8\n"
     ]
    }
   ],
   "source": [
    "for i in range(0,10,2):\n",
    "    print(i)"
   ]
  },
  {
   "cell_type": "code",
   "execution_count": 55,
   "metadata": {},
   "outputs": [
    {
     "name": "stdout",
     "output_type": "stream",
     "text": [
      "0\n",
      "1\n",
      "2\n",
      "3\n",
      "4\n"
     ]
    }
   ],
   "source": [
    "for i in range(5):  # Le début peut être omis (il vaut alors zéro)\n",
    "    print(i)"
   ]
  },
  {
   "cell_type": "markdown",
   "metadata": {},
   "source": [
    "## Arguments par référence ou par valeur\n",
    "\n",
    "Lorsqu'on fournit une liste en argument d'une fonction, seule une référence est donnée. Toute modification de la liste à l'intérieur de la fonction modifie la liste aussi à l'extérieur de la fonction. C'est la même chose lorsqu'une variable est égale à une liste.\n",
    "\n",
    "Pour \"protéger\" une liste, il faut la copier."
   ]
  },
  {
   "cell_type": "code",
   "execution_count": 56,
   "metadata": {},
   "outputs": [
    {
     "name": "stdout",
     "output_type": "stream",
     "text": [
      "[1, 2, 'trois'] [1, 2, 'trois']\n"
     ]
    }
   ],
   "source": [
    "# Avec une fonction\n",
    "def ajoute_trois(uneliste):\n",
    "    uneliste.append(\"trois\")\n",
    "    return uneliste\n",
    "\n",
    "liste1 = [1,2]\n",
    "liste2 = ajoute_trois(liste1)\n",
    "print(liste1, liste2) # on a modifié la liste donnée en argument de la fonction\n",
    "\n"
   ]
  },
  {
   "cell_type": "code",
   "execution_count": 57,
   "metadata": {},
   "outputs": [
    {
     "name": "stdout",
     "output_type": "stream",
     "text": [
      "[1, 2] [1, 2, 'trois']\n"
     ]
    }
   ],
   "source": [
    "# Solution : protection par la copie\n",
    "liste1 = [1,2]\n",
    "liste2 = ajoute_trois(liste1[:])\n",
    "print(liste1, liste2)"
   ]
  },
  {
   "cell_type": "code",
   "execution_count": 58,
   "metadata": {},
   "outputs": [
    {
     "name": "stdout",
     "output_type": "stream",
     "text": [
      "[1, 2, 'trois'] [1, 2, 'trois']\n"
     ]
    }
   ],
   "source": [
    "# Avec une variable\n",
    "liste1 = [1,2]\n",
    "liste2 = liste1\n",
    "liste1.append(\"trois\")\n",
    "print(liste1, liste2) # oops, on a modifié liste2 aussi...\n",
    "# En fait, liste2 n'est qu'une référence vers liste1, donc toute modification de l'intérieur\n",
    "# de liste1 modifie aussi liste2"
   ]
  },
  {
   "cell_type": "markdown",
   "metadata": {},
   "source": [
    "Le même problème se rencontre avec la suppression d'un élément dans une liste"
   ]
  },
  {
   "cell_type": "code",
   "execution_count": 59,
   "metadata": {},
   "outputs": [
    {
     "name": "stdout",
     "output_type": "stream",
     "text": [
      "[1, 2, 3, 5] [1, 2, 3, 5]\n"
     ]
    }
   ],
   "source": [
    "liste1 = [1,2,3,4,5]\n",
    "liste2 = liste1\n",
    "del liste1[3]\n",
    "print(liste1, liste2)"
   ]
  },
  {
   "cell_type": "markdown",
   "metadata": {},
   "source": [
    "## Small is better\n",
    "\n",
    "On se retrouve souvent à faire des opérations du genre\n",
    "\n",
    "    carres = []\n",
    "    for nombre in range(1,11):\n",
    "        carres.append(nombre**2)\n",
    "    print(carres)\n",
    "    \n",
    "Les \"compréhensions de listes\" permettent de réduire les 3 premières lignes en une :"
   ]
  },
  {
   "cell_type": "code",
   "execution_count": 61,
   "metadata": {},
   "outputs": [
    {
     "name": "stdout",
     "output_type": "stream",
     "text": [
      "[1, 4, 9, 16, 25, 36, 49, 64, 81, 100]\n"
     ]
    }
   ],
   "source": [
    "carres = [nombre**2 for nombre in range(1,11)]\n",
    "print(carres)"
   ]
  },
  {
   "cell_type": "markdown",
   "metadata": {},
   "source": [
    "On peut même mixer des conditions dans les compréhensions de liste, mais attention aux excès qui enlèvent de la lisibilité au programme"
   ]
  },
  {
   "cell_type": "code",
   "execution_count": 62,
   "metadata": {},
   "outputs": [
    {
     "name": "stdout",
     "output_type": "stream",
     "text": [
      "[4, 16, 36, 64, 100, 144, 196, 256, 324]\n"
     ]
    }
   ],
   "source": [
    "carres_pairs = [nombre**2 for nombre in range(1,20) if nombre % 2 == 0 ]\n",
    "print(carres_pairs)"
   ]
  },
  {
   "cell_type": "markdown",
   "metadata": {},
   "source": [
    "# Les dictionnaires\n",
    "\n",
    "Une liste permet de ranger des objets dans l'ordre. Parfois il est nécessaire de ranger des objets avec une autre logique. Les dictionnaires sont prévus pour ça. Un dictionnaire associe une valeur (la clef) à une autre valeur (l'index). \n",
    "\n",
    "Par exemple, une entrée dans carnet d'adresse est plus logique écrite sous la forme : nom=toto, prénom=titi, adress=rue du lycée, codepostal=27200, ville=vernon que sous la forme toto, titi, rue du lycée, 27200, vernon\n",
    "\n",
    "La syntaxe pour un dictionnaire est (par exemple) :\n",
    "\n",
    "```python\n",
    "{ \"nom\": \"toto\", \"prenom\": \"titi\", \"age\": 12, \"emails\": [\"toto@example.com\", \"titi@example.com\"]}\n",
    "```\n",
    "\n",
    "les clefs ci dessus sont \"nom\", \"prenom\", \"age\", \"emails\", et les valeurs sont \"toto\", \"titi\", 12, et le tableau des emails\n",
    "\n",
    "On peut uiliser n'importe quel objet python comme clef ou comme valeur, mais la plupart du temps on utilise des chiffres ou des chaînes de caractères.\n"
   ]
  },
  {
   "cell_type": "code",
   "execution_count": 8,
   "metadata": {},
   "outputs": [],
   "source": [
    "dico1 = {\n",
    "    \"nom\": \"toto\",\n",
    "    \"prenom\": \"titi\",\n",
    "    \"age\": 12,\n",
    "    \"emails\": [\"toto@example.com\", \"titi@example.com\"]\n",
    "}"
   ]
  },
  {
   "cell_type": "code",
   "execution_count": 9,
   "metadata": {},
   "outputs": [
    {
     "name": "stdout",
     "output_type": "stream",
     "text": [
      "12\n",
      "toto\n",
      "titi@example.com\n"
     ]
    }
   ],
   "source": [
    "# Pour accéder à la valeur d'une clef on utilise la syntaxe variable[clef]\n",
    "\n",
    "print(dico1[\"age\"])\n",
    "print(dico1[\"nom\"])\n",
    "print(dico1[\"emails\"][1])"
   ]
  },
  {
   "cell_type": "code",
   "execution_count": 10,
   "metadata": {},
   "outputs": [
    {
     "name": "stdout",
     "output_type": "stream",
     "text": [
      "{'nom': 'toto', 'prenom': 'titi', 'age': 12, 'emails': ['toto@example.com', 'titi@example.com', 'tutu@example.com'], 'codepostal': '27200'}\n"
     ]
    }
   ],
   "source": [
    "# Pour créer une entrée dans le dictionnaire, il suffit de lui assigner une valeur\n",
    "dico1[\"codepostal\"] = \"27200\"\n",
    "dico1[\"emails\"].append(\"tutu@example.com\")\n",
    "print(dico1)"
   ]
  },
  {
   "cell_type": "code",
   "execution_count": 11,
   "metadata": {},
   "outputs": [
    {
     "name": "stdout",
     "output_type": "stream",
     "text": [
      "clef =  nom valeur =  toto\n",
      "clef =  prenom valeur =  titi\n",
      "clef =  age valeur =  12\n",
      "clef =  emails valeur =  ['toto@example.com', 'titi@example.com', 'tutu@example.com']\n",
      "clef =  codepostal valeur =  27200\n",
      "valeur =  toto\n",
      "valeur =  titi\n",
      "valeur =  12\n",
      "valeur =  ['toto@example.com', 'titi@example.com', 'tutu@example.com']\n",
      "valeur =  27200\n",
      "clef =  nom valeur =  toto\n",
      "clef =  prenom valeur =  titi\n",
      "clef =  age valeur =  12\n",
      "clef =  emails valeur =  ['toto@example.com', 'titi@example.com', 'tutu@example.com']\n",
      "clef =  codepostal valeur =  27200\n"
     ]
    }
   ],
   "source": [
    "# On peut itérer dans une boucle for sur les clefs (par défaut), les valeurs ou les deux :\n",
    "\n",
    "for clef in dico1:\n",
    "    print(\"clef = \", clef, \"valeur = \", dico1[clef])\n",
    "for valeur in dico1.values():\n",
    "    print(\"valeur = \", valeur)\n",
    "for clef, valeur in dico1.items():\n",
    "    print(\"clef = \", clef, \"valeur = \", valeur)"
   ]
  },
  {
   "cell_type": "markdown",
   "metadata": {},
   "source": [
    "### Exercices\n",
    "#### Création d'une fiche de carnet d'adresse\n",
    "\n",
    "Créer une fonction qui demande à l'utilisateur son nom, son prénom et son email, et qui renvoie les infos dans un dictionnaire\n",
    "\n",
    "#### Création d'un carnet d'adresse\n",
    "Créer une fonction qui demande à l'utilisateur combien de personnes il veut entrer, et qui ensuite demande autant de fois que désiré le nom, prénom et email à ajouter, et qui stocke ces fiches stockées à la suite les unes des autres dans une liste\n",
    "\n",
    "#### Recherche dans un carnet d'adresse\n",
    "Créer une fonction prenant comme arguments un carnet d'adresses et un nom, et qui renvoie la fiche dont le nom correspond si elle existe, et ne renvoie rien si rien n'est trouvé."
   ]
  },
  {
   "cell_type": "code",
   "execution_count": null,
   "metadata": {},
   "outputs": [],
   "source": []
  }
 ],
 "metadata": {
  "kernelspec": {
   "display_name": "Python 3",
   "language": "python",
   "name": "python3"
  },
  "language_info": {
   "codemirror_mode": {
    "name": "ipython",
    "version": 3
   },
   "file_extension": ".py",
   "mimetype": "text/x-python",
   "name": "python",
   "nbconvert_exporter": "python",
   "pygments_lexer": "ipython3",
   "version": "3.6.7"
  }
 },
 "nbformat": 4,
 "nbformat_minor": 2
}
